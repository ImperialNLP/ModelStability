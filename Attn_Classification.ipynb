{
 "cells": [
  {
   "cell_type": "code",
   "execution_count": null,
   "metadata": {},
   "outputs": [],
   "source": [
    "%load_ext autoreload\n",
    "%autoreload 2\n",
    "%matplotlib inline\n",
    "%config InlineBackend.figure_format = 'retina'"
   ]
  },
  {
   "cell_type": "code",
   "execution_count": null,
   "metadata": {},
   "outputs": [
    {
     "name": "stderr",
     "output_type": "stream",
     "text": [
      "/home/sarthak/anaconda3/lib/python3.7/site-packages/allennlp/common/params.py:531: FutureWarning: elementwise comparison failed; returning scalar instead, but in the future will perform elementwise comparison\n",
      "  if dictionary[key] == \"None\":\n",
      "INFO - 2019-04-23 17:45:34,801 - instantiating class <class 'Transparency.model.modules.Encoder.Encoder'> from params {'vocab_size': 13826, 'embed_size': 300, 'kernel_sizes': (1, 3, 5, 7), 'hidden_size': 32, 'activation': 'relu', 'type': 'cnn', 'pre_embed': array([[ 0.        ,  0.        ,  0.        , ...,  0.        ,\n",
      "         0.        ,  0.        ],\n",
      "       [ 0.        ,  0.        ,  0.        , ...,  0.        ,\n",
      "         0.        ,  0.        ],\n",
      "       [ 0.        ,  0.        ,  0.        , ...,  0.        ,\n",
      "         0.        ,  0.        ],\n",
      "       ...,\n",
      "       [ 0.024119  , -0.083228  ,  0.59245002, ...,  0.013568  ,\n",
      "        -0.26155999, -0.54530001],\n",
      "       [ 0.        ,  0.        ,  0.        , ...,  0.        ,\n",
      "         0.        ,  0.        ],\n",
      "       [ 0.        ,  0.        ,  0.        , ...,  0.        ,\n",
      "         0.        ,  0.        ]])} and extras set()\n",
      "INFO - 2019-04-23 17:45:34,801 - type = cnn\n",
      "INFO - 2019-04-23 17:45:34,802 - instantiating class <class 'Transparency.model.modules.Encoder.EncoderCNN'> from params {'vocab_size': 13826, 'embed_size': 300, 'kernel_sizes': (1, 3, 5, 7), 'hidden_size': 32, 'activation': 'relu', 'pre_embed': array([[ 0.        ,  0.        ,  0.        , ...,  0.        ,\n",
      "         0.        ,  0.        ],\n",
      "       [ 0.        ,  0.        ,  0.        , ...,  0.        ,\n",
      "         0.        ,  0.        ],\n",
      "       [ 0.        ,  0.        ,  0.        , ...,  0.        ,\n",
      "         0.        ,  0.        ],\n",
      "       ...,\n",
      "       [ 0.024119  , -0.083228  ,  0.59245002, ...,  0.013568  ,\n",
      "        -0.26155999, -0.54530001],\n",
      "       [ 0.        ,  0.        ,  0.        , ...,  0.        ,\n",
      "         0.        ,  0.        ],\n",
      "       [ 0.        ,  0.        ,  0.        , ...,  0.        ,\n",
      "         0.        ,  0.        ]])} and extras set()\n",
      "INFO - 2019-04-23 17:45:34,921 - vocab_size = 13826\n",
      "INFO - 2019-04-23 17:45:34,922 - embed_size = 300\n",
      "INFO - 2019-04-23 17:45:34,922 - hidden_size = 32\n",
      "INFO - 2019-04-23 17:45:34,922 - kernel_sizes = (1, 3, 5, 7)\n",
      "INFO - 2019-04-23 17:45:34,923 - activation = relu\n",
      "INFO - 2019-04-23 17:45:34,923 - pre_embed = [[ 0.          0.          0.         ...  0.          0.\n",
      "   0.        ]\n",
      " [ 0.          0.          0.         ...  0.          0.\n",
      "   0.        ]\n",
      " [ 0.          0.          0.         ...  0.          0.\n",
      "   0.        ]\n",
      " ...\n",
      " [ 0.024119   -0.083228    0.59245002 ...  0.013568   -0.26155999\n",
      "  -0.54530001]\n",
      " [ 0.          0.          0.         ...  0.          0.\n",
      "   0.        ]\n",
      " [ 0.          0.          0.         ...  0.          0.\n",
      "   0.        ]]\n"
     ]
    },
    {
     "name": "stdout",
     "output_type": "stream",
     "text": [
      "Better speed can be achieved with apex installed from https://www.github.com/nvidia/apex.\n",
      "Setting Embedding\n"
     ]
    },
    {
     "name": "stderr",
     "output_type": "stream",
     "text": [
      "INFO - 2019-04-23 17:45:35,804 - instantiating class <class 'Transparency.model.modules.Decoder.AttnDecoder'> from params {'attention': {'type': 'tanh'}, 'output_size': 1, 'hidden_size': 128} and extras set()\n",
      "INFO - 2019-04-23 17:45:35,805 - hidden_size = 128\n",
      "INFO - 2019-04-23 17:45:35,805 - output_size = 1\n",
      "INFO - 2019-04-23 17:45:35,806 - use_attention = True\n",
      "INFO - 2019-04-23 17:45:35,806 - regularizer_attention = None\n",
      "INFO - 2019-04-23 17:45:35,806 - instantiating class <class 'Transparency.model.modules.Attention.Attention'> from params <allennlp.common.params.Params object at 0x7faa474c4a20> and extras set()\n",
      "INFO - 2019-04-23 17:45:35,807 - attention.type = tanh\n",
      "INFO - 2019-04-23 17:45:35,807 - type = tanh\n",
      "INFO - 2019-04-23 17:45:35,807 - instantiating class <class 'Transparency.model.modules.Attention.TanhAttention'> from params <allennlp.common.params.Params object at 0x7faa474c4a20> and extras set()\n",
      "INFO - 2019-04-23 17:45:35,808 - attention.hidden_size = 128\n",
      "INFO - 2019-04-23 17:45:35,808 - hidden_size = 128\n",
      "  0%|          | 0/8 [00:00<?, ?it/s]\n",
      "  0%|          | 0/199 [00:00<?, ?it/s]\u001b[A\n",
      "  1%|          | 1/199 [00:00<01:29,  2.22it/s]\u001b[A\n",
      " 12%|█▏        | 24/199 [00:00<00:55,  3.15it/s]\u001b[A\n",
      " 24%|██▍       | 48/199 [00:00<00:33,  4.48it/s]\u001b[A\n",
      " 36%|███▌      | 71/199 [00:00<00:20,  6.34it/s]\u001b[A\n",
      " 47%|████▋     | 94/199 [00:00<00:11,  8.95it/s]\u001b[A\n",
      " 59%|█████▉    | 117/199 [00:00<00:06, 12.57it/s]\u001b[A\n",
      " 70%|██████▉   | 139/199 [00:01<00:03, 17.53it/s]\u001b[A\n",
      " 81%|████████  | 161/199 [00:01<00:01, 24.20it/s]\u001b[A\n",
      " 92%|█████████▏| 184/199 [00:01<00:00, 33.04it/s]\u001b[A\n",
      "100%|██████████| 199/199 [00:01<00:00, 148.87it/s]\u001b[A\n",
      "  0%|          | 0/26 [00:00<?, ?it/s]\u001b[A\n",
      "100%|██████████| 26/26 [00:00<00:00, 895.57it/s]\u001b[A"
     ]
    },
    {
     "name": "stdout",
     "output_type": "stream",
     "text": [
      "{'accuracy': 0.8221680876979294, 'roc_auc': 0.8998621738510526, 'pr_auc': 0.9069182035897798}\n"
     ]
    },
    {
     "data": {
      "text/html": [
       "<div>\n",
       "<style scoped>\n",
       "    .dataframe tbody tr th:only-of-type {\n",
       "        vertical-align: middle;\n",
       "    }\n",
       "\n",
       "    .dataframe tbody tr th {\n",
       "        vertical-align: top;\n",
       "    }\n",
       "\n",
       "    .dataframe thead th {\n",
       "        text-align: right;\n",
       "    }\n",
       "</style>\n",
       "<table border=\"1\" class=\"dataframe\">\n",
       "  <thead>\n",
       "    <tr style=\"text-align: right;\">\n",
       "      <th></th>\n",
       "      <th>0</th>\n",
       "      <th>1</th>\n",
       "      <th>micro avg</th>\n",
       "      <th>macro avg</th>\n",
       "      <th>weighted avg</th>\n",
       "    </tr>\n",
       "  </thead>\n",
       "  <tbody>\n",
       "    <tr>\n",
       "      <th>f1-score</th>\n",
       "      <td>0.825</td>\n",
       "      <td>0.819</td>\n",
       "      <td>0.822</td>\n",
       "      <td>0.822</td>\n",
       "      <td>0.822</td>\n",
       "    </tr>\n",
       "    <tr>\n",
       "      <th>precision</th>\n",
       "      <td>0.786</td>\n",
       "      <td>0.864</td>\n",
       "      <td>0.822</td>\n",
       "      <td>0.825</td>\n",
       "      <td>0.826</td>\n",
       "    </tr>\n",
       "    <tr>\n",
       "      <th>recall</th>\n",
       "      <td>0.869</td>\n",
       "      <td>0.778</td>\n",
       "      <td>0.822</td>\n",
       "      <td>0.824</td>\n",
       "      <td>0.822</td>\n",
       "    </tr>\n",
       "    <tr>\n",
       "      <th>support</th>\n",
       "      <td>397.000</td>\n",
       "      <td>424.000</td>\n",
       "      <td>821.000</td>\n",
       "      <td>821.000</td>\n",
       "      <td>821.000</td>\n",
       "    </tr>\n",
       "  </tbody>\n",
       "</table>\n",
       "</div>"
      ],
      "text/plain": [
       "                 0        1  micro avg  macro avg  weighted avg\n",
       "f1-score     0.825    0.819      0.822      0.822         0.822\n",
       "precision    0.786    0.864      0.822      0.825         0.826\n",
       "recall       0.869    0.778      0.822      0.824         0.822\n",
       "support    397.000  424.000    821.000    821.000       821.000"
      ]
     },
     "metadata": {},
     "output_type": "display_data"
    },
    {
     "name": "stderr",
     "output_type": "stream",
     "text": [
      " 12%|█▎        | 1/8 [00:01<00:09,  1.41s/it]\n",
      "  0%|          | 0/199 [00:00<?, ?it/s]\u001b[A\n",
      " 12%|█▏        | 23/199 [00:00<00:00, 224.46it/s]\u001b[A"
     ]
    },
    {
     "name": "stdout",
     "output_type": "stream",
     "text": [
      "Model not saved on  roc_auc 0.8998621738510526\n"
     ]
    },
    {
     "name": "stderr",
     "output_type": "stream",
     "text": [
      "\n",
      " 23%|██▎       | 46/199 [00:00<00:00, 223.32it/s]\u001b[A\n",
      " 34%|███▍      | 68/199 [00:00<00:00, 221.79it/s]\u001b[A\n",
      " 45%|████▌     | 90/199 [00:00<00:00, 220.17it/s]\u001b[A\n",
      " 57%|█████▋    | 113/199 [00:00<00:00, 220.97it/s]\u001b[A\n",
      " 68%|██████▊   | 136/199 [00:00<00:00, 222.26it/s]\u001b[A\n",
      " 80%|███████▉  | 159/199 [00:00<00:00, 222.35it/s]\u001b[A\n",
      " 91%|█████████▏| 182/199 [00:00<00:00, 222.95it/s]\u001b[A\n",
      "100%|██████████| 199/199 [00:00<00:00, 221.85it/s]\u001b[A\n",
      "  0%|          | 0/26 [00:00<?, ?it/s]\u001b[A\n",
      "100%|██████████| 26/26 [00:00<00:00, 911.75it/s]\u001b[A"
     ]
    },
    {
     "name": "stdout",
     "output_type": "stream",
     "text": [
      "{'accuracy': 0.8087697929354446, 'roc_auc': 0.9028919728149803, 'pr_auc': 0.9144444727939702}\n"
     ]
    },
    {
     "data": {
      "text/html": [
       "<div>\n",
       "<style scoped>\n",
       "    .dataframe tbody tr th:only-of-type {\n",
       "        vertical-align: middle;\n",
       "    }\n",
       "\n",
       "    .dataframe tbody tr th {\n",
       "        vertical-align: top;\n",
       "    }\n",
       "\n",
       "    .dataframe thead th {\n",
       "        text-align: right;\n",
       "    }\n",
       "</style>\n",
       "<table border=\"1\" class=\"dataframe\">\n",
       "  <thead>\n",
       "    <tr style=\"text-align: right;\">\n",
       "      <th></th>\n",
       "      <th>0</th>\n",
       "      <th>1</th>\n",
       "      <th>micro avg</th>\n",
       "      <th>macro avg</th>\n",
       "      <th>weighted avg</th>\n",
       "    </tr>\n",
       "  </thead>\n",
       "  <tbody>\n",
       "    <tr>\n",
       "      <th>f1-score</th>\n",
       "      <td>0.825</td>\n",
       "      <td>0.789</td>\n",
       "      <td>0.809</td>\n",
       "      <td>0.807</td>\n",
       "      <td>0.806</td>\n",
       "    </tr>\n",
       "    <tr>\n",
       "      <th>precision</th>\n",
       "      <td>0.739</td>\n",
       "      <td>0.918</td>\n",
       "      <td>0.809</td>\n",
       "      <td>0.829</td>\n",
       "      <td>0.832</td>\n",
       "    </tr>\n",
       "    <tr>\n",
       "      <th>recall</th>\n",
       "      <td>0.935</td>\n",
       "      <td>0.691</td>\n",
       "      <td>0.809</td>\n",
       "      <td>0.813</td>\n",
       "      <td>0.809</td>\n",
       "    </tr>\n",
       "    <tr>\n",
       "      <th>support</th>\n",
       "      <td>397.000</td>\n",
       "      <td>424.000</td>\n",
       "      <td>821.000</td>\n",
       "      <td>821.000</td>\n",
       "      <td>821.000</td>\n",
       "    </tr>\n",
       "  </tbody>\n",
       "</table>\n",
       "</div>"
      ],
      "text/plain": [
       "                 0        1  micro avg  macro avg  weighted avg\n",
       "f1-score     0.825    0.789      0.809      0.807         0.806\n",
       "precision    0.739    0.918      0.809      0.829         0.832\n",
       "recall       0.935    0.691      0.809      0.813         0.809\n",
       "support    397.000  424.000    821.000    821.000       821.000"
      ]
     },
     "metadata": {},
     "output_type": "display_data"
    },
    {
     "name": "stderr",
     "output_type": "stream",
     "text": [
      " 25%|██▌       | 2/8 [00:02<00:07,  1.32s/it]\n",
      "  0%|          | 0/199 [00:00<?, ?it/s]\u001b[A"
     ]
    },
    {
     "name": "stdout",
     "output_type": "stream",
     "text": [
      "Model Saved on  roc_auc 0.9028919728149803\n"
     ]
    },
    {
     "name": "stderr",
     "output_type": "stream",
     "text": [
      "\n",
      " 11%|█         | 22/199 [00:00<00:00, 219.37it/s]\u001b[A\n",
      " 23%|██▎       | 45/199 [00:00<00:00, 221.99it/s]\u001b[A\n",
      " 34%|███▍      | 68/199 [00:00<00:00, 224.00it/s]\u001b[A\n",
      " 46%|████▌     | 91/199 [00:00<00:00, 224.82it/s]\u001b[A\n",
      " 57%|█████▋    | 114/199 [00:00<00:00, 223.91it/s]\u001b[A\n",
      " 69%|██████▉   | 137/199 [00:00<00:00, 225.29it/s]\u001b[A\n",
      " 80%|████████  | 160/199 [00:00<00:00, 225.83it/s]\u001b[A\n",
      " 91%|█████████ | 181/199 [00:00<00:00, 220.14it/s]\u001b[A\n",
      "100%|██████████| 199/199 [00:00<00:00, 223.27it/s]\u001b[A\n",
      "  0%|          | 0/26 [00:00<?, ?it/s]\u001b[A\n",
      "100%|██████████| 26/26 [00:00<00:00, 938.88it/s]\u001b[A"
     ]
    },
    {
     "name": "stdout",
     "output_type": "stream",
     "text": [
      "{'accuracy': 0.8233861144945189, 'roc_auc': 0.9031414856708331, 'pr_auc': 0.9102618299242184}\n"
     ]
    },
    {
     "data": {
      "text/html": [
       "<div>\n",
       "<style scoped>\n",
       "    .dataframe tbody tr th:only-of-type {\n",
       "        vertical-align: middle;\n",
       "    }\n",
       "\n",
       "    .dataframe tbody tr th {\n",
       "        vertical-align: top;\n",
       "    }\n",
       "\n",
       "    .dataframe thead th {\n",
       "        text-align: right;\n",
       "    }\n",
       "</style>\n",
       "<table border=\"1\" class=\"dataframe\">\n",
       "  <thead>\n",
       "    <tr style=\"text-align: right;\">\n",
       "      <th></th>\n",
       "      <th>0</th>\n",
       "      <th>1</th>\n",
       "      <th>micro avg</th>\n",
       "      <th>macro avg</th>\n",
       "      <th>weighted avg</th>\n",
       "    </tr>\n",
       "  </thead>\n",
       "  <tbody>\n",
       "    <tr>\n",
       "      <th>f1-score</th>\n",
       "      <td>0.820</td>\n",
       "      <td>0.827</td>\n",
       "      <td>0.823</td>\n",
       "      <td>0.823</td>\n",
       "      <td>0.823</td>\n",
       "    </tr>\n",
       "    <tr>\n",
       "      <th>precision</th>\n",
       "      <td>0.809</td>\n",
       "      <td>0.838</td>\n",
       "      <td>0.823</td>\n",
       "      <td>0.823</td>\n",
       "      <td>0.824</td>\n",
       "    </tr>\n",
       "    <tr>\n",
       "      <th>recall</th>\n",
       "      <td>0.831</td>\n",
       "      <td>0.816</td>\n",
       "      <td>0.823</td>\n",
       "      <td>0.824</td>\n",
       "      <td>0.823</td>\n",
       "    </tr>\n",
       "    <tr>\n",
       "      <th>support</th>\n",
       "      <td>397.000</td>\n",
       "      <td>424.000</td>\n",
       "      <td>821.000</td>\n",
       "      <td>821.000</td>\n",
       "      <td>821.000</td>\n",
       "    </tr>\n",
       "  </tbody>\n",
       "</table>\n",
       "</div>"
      ],
      "text/plain": [
       "                 0        1  micro avg  macro avg  weighted avg\n",
       "f1-score     0.820    0.827      0.823      0.823         0.823\n",
       "precision    0.809    0.838      0.823      0.823         0.824\n",
       "recall       0.831    0.816      0.823      0.824         0.823\n",
       "support    397.000  424.000    821.000    821.000       821.000"
      ]
     },
     "metadata": {},
     "output_type": "display_data"
    },
    {
     "name": "stderr",
     "output_type": "stream",
     "text": [
      " 38%|███▊      | 3/8 [00:03<00:06,  1.26s/it]\n",
      "  0%|          | 0/199 [00:00<?, ?it/s]\u001b[A"
     ]
    },
    {
     "name": "stdout",
     "output_type": "stream",
     "text": [
      "Model Saved on  roc_auc 0.9031414856708331\n"
     ]
    },
    {
     "name": "stderr",
     "output_type": "stream",
     "text": [
      "\n",
      " 11%|█         | 21/199 [00:00<00:00, 206.95it/s]\u001b[A\n",
      " 22%|██▏       | 44/199 [00:00<00:00, 212.09it/s]\u001b[A\n",
      " 34%|███▎      | 67/199 [00:00<00:00, 216.74it/s]\u001b[A\n",
      " 45%|████▌     | 90/199 [00:00<00:00, 219.38it/s]\u001b[A\n",
      " 57%|█████▋    | 113/199 [00:00<00:00, 222.00it/s]\u001b[A\n",
      " 69%|██████▉   | 137/199 [00:00<00:00, 224.52it/s]\u001b[A\n",
      " 80%|████████  | 160/199 [00:00<00:00, 225.16it/s]\u001b[A\n",
      " 91%|█████████▏| 182/199 [00:00<00:00, 223.03it/s]\u001b[A\n",
      "100%|██████████| 199/199 [00:00<00:00, 223.96it/s]\u001b[A\n",
      "  0%|          | 0/26 [00:00<?, ?it/s]\u001b[A\n",
      "100%|██████████| 26/26 [00:00<00:00, 946.25it/s]\u001b[A"
     ]
    },
    {
     "name": "stdout",
     "output_type": "stream",
     "text": [
      "{'accuracy': 0.8099878197320342, 'roc_auc': 0.8968204933225606, 'pr_auc': 0.9011826011221349}\n"
     ]
    },
    {
     "data": {
      "text/html": [
       "<div>\n",
       "<style scoped>\n",
       "    .dataframe tbody tr th:only-of-type {\n",
       "        vertical-align: middle;\n",
       "    }\n",
       "\n",
       "    .dataframe tbody tr th {\n",
       "        vertical-align: top;\n",
       "    }\n",
       "\n",
       "    .dataframe thead th {\n",
       "        text-align: right;\n",
       "    }\n",
       "</style>\n",
       "<table border=\"1\" class=\"dataframe\">\n",
       "  <thead>\n",
       "    <tr style=\"text-align: right;\">\n",
       "      <th></th>\n",
       "      <th>0</th>\n",
       "      <th>1</th>\n",
       "      <th>micro avg</th>\n",
       "      <th>macro avg</th>\n",
       "      <th>weighted avg</th>\n",
       "    </tr>\n",
       "  </thead>\n",
       "  <tbody>\n",
       "    <tr>\n",
       "      <th>f1-score</th>\n",
       "      <td>0.787</td>\n",
       "      <td>0.828</td>\n",
       "      <td>0.81</td>\n",
       "      <td>0.808</td>\n",
       "      <td>0.808</td>\n",
       "    </tr>\n",
       "    <tr>\n",
       "      <th>precision</th>\n",
       "      <td>0.858</td>\n",
       "      <td>0.777</td>\n",
       "      <td>0.81</td>\n",
       "      <td>0.817</td>\n",
       "      <td>0.816</td>\n",
       "    </tr>\n",
       "    <tr>\n",
       "      <th>recall</th>\n",
       "      <td>0.728</td>\n",
       "      <td>0.887</td>\n",
       "      <td>0.81</td>\n",
       "      <td>0.807</td>\n",
       "      <td>0.810</td>\n",
       "    </tr>\n",
       "    <tr>\n",
       "      <th>support</th>\n",
       "      <td>397.000</td>\n",
       "      <td>424.000</td>\n",
       "      <td>821.00</td>\n",
       "      <td>821.000</td>\n",
       "      <td>821.000</td>\n",
       "    </tr>\n",
       "  </tbody>\n",
       "</table>\n",
       "</div>"
      ],
      "text/plain": [
       "                 0        1  micro avg  macro avg  weighted avg\n",
       "f1-score     0.787    0.828       0.81      0.808         0.808\n",
       "precision    0.858    0.777       0.81      0.817         0.816\n",
       "recall       0.728    0.887       0.81      0.807         0.810\n",
       "support    397.000  424.000     821.00    821.000       821.000"
      ]
     },
     "metadata": {},
     "output_type": "display_data"
    },
    {
     "name": "stderr",
     "output_type": "stream",
     "text": [
      " 50%|█████     | 4/8 [00:04<00:04,  1.17s/it]\n",
      "  0%|          | 0/199 [00:00<?, ?it/s]\u001b[A\n",
      " 12%|█▏        | 23/199 [00:00<00:00, 227.39it/s]\u001b[A"
     ]
    },
    {
     "name": "stdout",
     "output_type": "stream",
     "text": [
      "Model not saved on  roc_auc 0.8968204933225606\n"
     ]
    },
    {
     "name": "stderr",
     "output_type": "stream",
     "text": [
      "\n",
      " 24%|██▎       | 47/199 [00:00<00:00, 228.45it/s]\u001b[A\n",
      " 35%|███▌      | 70/199 [00:00<00:00, 226.46it/s]\u001b[A\n",
      " 47%|████▋     | 93/199 [00:00<00:00, 226.76it/s]\u001b[A\n",
      " 58%|█████▊    | 116/199 [00:00<00:00, 226.52it/s]\u001b[A\n",
      " 70%|██████▉   | 139/199 [00:00<00:00, 225.98it/s]\u001b[A\n",
      " 81%|████████▏ | 162/199 [00:00<00:00, 225.08it/s]\u001b[A\n",
      " 93%|█████████▎| 185/199 [00:00<00:00, 225.04it/s]\u001b[A\n",
      "100%|██████████| 199/199 [00:00<00:00, 225.99it/s]\u001b[A\n",
      "  0%|          | 0/26 [00:00<?, ?it/s]\u001b[A\n",
      "100%|██████████| 26/26 [00:00<00:00, 936.41it/s]\u001b[A"
     ]
    },
    {
     "name": "stdout",
     "output_type": "stream",
     "text": [
      "{'accuracy': 0.8099878197320342, 'roc_auc': 0.8779822727056699, 'pr_auc': 0.8801650201140511}\n"
     ]
    },
    {
     "data": {
      "text/html": [
       "<div>\n",
       "<style scoped>\n",
       "    .dataframe tbody tr th:only-of-type {\n",
       "        vertical-align: middle;\n",
       "    }\n",
       "\n",
       "    .dataframe tbody tr th {\n",
       "        vertical-align: top;\n",
       "    }\n",
       "\n",
       "    .dataframe thead th {\n",
       "        text-align: right;\n",
       "    }\n",
       "</style>\n",
       "<table border=\"1\" class=\"dataframe\">\n",
       "  <thead>\n",
       "    <tr style=\"text-align: right;\">\n",
       "      <th></th>\n",
       "      <th>0</th>\n",
       "      <th>1</th>\n",
       "      <th>micro avg</th>\n",
       "      <th>macro avg</th>\n",
       "      <th>weighted avg</th>\n",
       "    </tr>\n",
       "  </thead>\n",
       "  <tbody>\n",
       "    <tr>\n",
       "      <th>f1-score</th>\n",
       "      <td>0.799</td>\n",
       "      <td>0.819</td>\n",
       "      <td>0.81</td>\n",
       "      <td>0.809</td>\n",
       "      <td>0.81</td>\n",
       "    </tr>\n",
       "    <tr>\n",
       "      <th>precision</th>\n",
       "      <td>0.816</td>\n",
       "      <td>0.805</td>\n",
       "      <td>0.81</td>\n",
       "      <td>0.810</td>\n",
       "      <td>0.81</td>\n",
       "    </tr>\n",
       "    <tr>\n",
       "      <th>recall</th>\n",
       "      <td>0.783</td>\n",
       "      <td>0.835</td>\n",
       "      <td>0.81</td>\n",
       "      <td>0.809</td>\n",
       "      <td>0.81</td>\n",
       "    </tr>\n",
       "    <tr>\n",
       "      <th>support</th>\n",
       "      <td>397.000</td>\n",
       "      <td>424.000</td>\n",
       "      <td>821.00</td>\n",
       "      <td>821.000</td>\n",
       "      <td>821.00</td>\n",
       "    </tr>\n",
       "  </tbody>\n",
       "</table>\n",
       "</div>"
      ],
      "text/plain": [
       "                 0        1  micro avg  macro avg  weighted avg\n",
       "f1-score     0.799    0.819       0.81      0.809          0.81\n",
       "precision    0.816    0.805       0.81      0.810          0.81\n",
       "recall       0.783    0.835       0.81      0.809          0.81\n",
       "support    397.000  424.000     821.00    821.000        821.00"
      ]
     },
     "metadata": {},
     "output_type": "display_data"
    },
    {
     "name": "stderr",
     "output_type": "stream",
     "text": [
      " 62%|██████▎   | 5/8 [00:05<00:03,  1.10s/it]\n",
      "  0%|          | 0/199 [00:00<?, ?it/s]\u001b[A\n",
      " 12%|█▏        | 24/199 [00:00<00:00, 232.01it/s]\u001b[A"
     ]
    },
    {
     "name": "stdout",
     "output_type": "stream",
     "text": [
      "Model not saved on  roc_auc 0.8779822727056699\n"
     ]
    },
    {
     "name": "stderr",
     "output_type": "stream",
     "text": [
      "\n",
      " 24%|██▎       | 47/199 [00:00<00:00, 228.57it/s]\u001b[A\n",
      " 35%|███▌      | 70/199 [00:00<00:00, 226.13it/s]\u001b[A\n",
      " 47%|████▋     | 93/199 [00:00<00:00, 225.96it/s]\u001b[A\n",
      " 58%|█████▊    | 116/199 [00:00<00:00, 226.71it/s]\u001b[A\n",
      " 70%|██████▉   | 139/199 [00:00<00:00, 226.05it/s]\u001b[A\n",
      " 81%|████████▏ | 162/199 [00:00<00:00, 226.23it/s]\u001b[A\n",
      " 93%|█████████▎| 185/199 [00:00<00:00, 226.70it/s]\u001b[A\n",
      "100%|██████████| 199/199 [00:00<00:00, 225.01it/s]\u001b[A\n",
      "  0%|          | 0/26 [00:00<?, ?it/s]\u001b[A\n",
      "100%|██████████| 26/26 [00:00<00:00, 885.18it/s]\u001b[A"
     ]
    },
    {
     "name": "stdout",
     "output_type": "stream",
     "text": [
      "{'accuracy': 0.8197320341047503, 'roc_auc': 0.8897420512333063, 'pr_auc': 0.8937007387663977}\n"
     ]
    },
    {
     "data": {
      "text/html": [
       "<div>\n",
       "<style scoped>\n",
       "    .dataframe tbody tr th:only-of-type {\n",
       "        vertical-align: middle;\n",
       "    }\n",
       "\n",
       "    .dataframe tbody tr th {\n",
       "        vertical-align: top;\n",
       "    }\n",
       "\n",
       "    .dataframe thead th {\n",
       "        text-align: right;\n",
       "    }\n",
       "</style>\n",
       "<table border=\"1\" class=\"dataframe\">\n",
       "  <thead>\n",
       "    <tr style=\"text-align: right;\">\n",
       "      <th></th>\n",
       "      <th>0</th>\n",
       "      <th>1</th>\n",
       "      <th>micro avg</th>\n",
       "      <th>macro avg</th>\n",
       "      <th>weighted avg</th>\n",
       "    </tr>\n",
       "  </thead>\n",
       "  <tbody>\n",
       "    <tr>\n",
       "      <th>f1-score</th>\n",
       "      <td>0.813</td>\n",
       "      <td>0.826</td>\n",
       "      <td>0.82</td>\n",
       "      <td>0.819</td>\n",
       "      <td>0.82</td>\n",
       "    </tr>\n",
       "    <tr>\n",
       "      <th>precision</th>\n",
       "      <td>0.817</td>\n",
       "      <td>0.822</td>\n",
       "      <td>0.82</td>\n",
       "      <td>0.820</td>\n",
       "      <td>0.82</td>\n",
       "    </tr>\n",
       "    <tr>\n",
       "      <th>recall</th>\n",
       "      <td>0.809</td>\n",
       "      <td>0.830</td>\n",
       "      <td>0.82</td>\n",
       "      <td>0.819</td>\n",
       "      <td>0.82</td>\n",
       "    </tr>\n",
       "    <tr>\n",
       "      <th>support</th>\n",
       "      <td>397.000</td>\n",
       "      <td>424.000</td>\n",
       "      <td>821.00</td>\n",
       "      <td>821.000</td>\n",
       "      <td>821.00</td>\n",
       "    </tr>\n",
       "  </tbody>\n",
       "</table>\n",
       "</div>"
      ],
      "text/plain": [
       "                 0        1  micro avg  macro avg  weighted avg\n",
       "f1-score     0.813    0.826       0.82      0.819          0.82\n",
       "precision    0.817    0.822       0.82      0.820          0.82\n",
       "recall       0.809    0.830       0.82      0.819          0.82\n",
       "support    397.000  424.000     821.00    821.000        821.00"
      ]
     },
     "metadata": {},
     "output_type": "display_data"
    },
    {
     "name": "stderr",
     "output_type": "stream",
     "text": [
      " 75%|███████▌  | 6/8 [00:06<00:02,  1.06s/it]\n",
      "  0%|          | 0/199 [00:00<?, ?it/s]\u001b[A\n",
      " 11%|█         | 22/199 [00:00<00:00, 213.67it/s]\u001b[A"
     ]
    },
    {
     "name": "stdout",
     "output_type": "stream",
     "text": [
      "Model not saved on  roc_auc 0.8897420512333063\n"
     ]
    },
    {
     "name": "stderr",
     "output_type": "stream",
     "text": [
      "\n",
      " 23%|██▎       | 45/199 [00:00<00:00, 215.57it/s]\u001b[A\n",
      " 34%|███▎      | 67/199 [00:00<00:00, 215.97it/s]\u001b[A\n",
      " 45%|████▍     | 89/199 [00:00<00:00, 214.81it/s]\u001b[A\n",
      " 56%|█████▌    | 111/199 [00:00<00:00, 215.22it/s]\u001b[A\n",
      " 67%|██████▋   | 134/199 [00:00<00:00, 218.46it/s]\u001b[A\n",
      " 79%|███████▉  | 158/199 [00:00<00:00, 222.15it/s]\u001b[A\n",
      " 91%|█████████ | 181/199 [00:00<00:00, 223.21it/s]\u001b[A\n",
      "100%|██████████| 199/199 [00:00<00:00, 220.78it/s]\u001b[A\n",
      "  0%|          | 0/26 [00:00<?, ?it/s]\u001b[A\n",
      "100%|██████████| 26/26 [00:00<00:00, 925.70it/s]\u001b[A"
     ]
    },
    {
     "name": "stdout",
     "output_type": "stream",
     "text": [
      "{'accuracy': 0.7965895249695494, 'roc_auc': 0.8731732094482201, 'pr_auc': 0.8764572382677152}\n"
     ]
    },
    {
     "data": {
      "text/html": [
       "<div>\n",
       "<style scoped>\n",
       "    .dataframe tbody tr th:only-of-type {\n",
       "        vertical-align: middle;\n",
       "    }\n",
       "\n",
       "    .dataframe tbody tr th {\n",
       "        vertical-align: top;\n",
       "    }\n",
       "\n",
       "    .dataframe thead th {\n",
       "        text-align: right;\n",
       "    }\n",
       "</style>\n",
       "<table border=\"1\" class=\"dataframe\">\n",
       "  <thead>\n",
       "    <tr style=\"text-align: right;\">\n",
       "      <th></th>\n",
       "      <th>0</th>\n",
       "      <th>1</th>\n",
       "      <th>micro avg</th>\n",
       "      <th>macro avg</th>\n",
       "      <th>weighted avg</th>\n",
       "    </tr>\n",
       "  </thead>\n",
       "  <tbody>\n",
       "    <tr>\n",
       "      <th>f1-score</th>\n",
       "      <td>0.801</td>\n",
       "      <td>0.792</td>\n",
       "      <td>0.797</td>\n",
       "      <td>0.796</td>\n",
       "      <td>0.796</td>\n",
       "    </tr>\n",
       "    <tr>\n",
       "      <th>precision</th>\n",
       "      <td>0.759</td>\n",
       "      <td>0.841</td>\n",
       "      <td>0.797</td>\n",
       "      <td>0.800</td>\n",
       "      <td>0.801</td>\n",
       "    </tr>\n",
       "    <tr>\n",
       "      <th>recall</th>\n",
       "      <td>0.849</td>\n",
       "      <td>0.748</td>\n",
       "      <td>0.797</td>\n",
       "      <td>0.798</td>\n",
       "      <td>0.797</td>\n",
       "    </tr>\n",
       "    <tr>\n",
       "      <th>support</th>\n",
       "      <td>397.000</td>\n",
       "      <td>424.000</td>\n",
       "      <td>821.000</td>\n",
       "      <td>821.000</td>\n",
       "      <td>821.000</td>\n",
       "    </tr>\n",
       "  </tbody>\n",
       "</table>\n",
       "</div>"
      ],
      "text/plain": [
       "                 0        1  micro avg  macro avg  weighted avg\n",
       "f1-score     0.801    0.792      0.797      0.796         0.796\n",
       "precision    0.759    0.841      0.797      0.800         0.801\n",
       "recall       0.849    0.748      0.797      0.798         0.797\n",
       "support    397.000  424.000    821.000    821.000       821.000"
      ]
     },
     "metadata": {},
     "output_type": "display_data"
    },
    {
     "name": "stderr",
     "output_type": "stream",
     "text": [
      " 88%|████████▊ | 7/8 [00:07<00:01,  1.03s/it]\n",
      "  0%|          | 0/199 [00:00<?, ?it/s]\u001b[A\n",
      " 12%|█▏        | 23/199 [00:00<00:00, 225.61it/s]\u001b[A"
     ]
    },
    {
     "name": "stdout",
     "output_type": "stream",
     "text": [
      "Model not saved on  roc_auc 0.8731732094482201\n"
     ]
    },
    {
     "name": "stderr",
     "output_type": "stream",
     "text": [
      "\n",
      " 23%|██▎       | 45/199 [00:00<00:00, 221.28it/s]\u001b[A\n",
      " 34%|███▍      | 68/199 [00:00<00:00, 222.95it/s]\u001b[A\n",
      " 46%|████▌     | 91/199 [00:00<00:00, 223.96it/s]\u001b[A\n",
      " 57%|█████▋    | 114/199 [00:00<00:00, 223.31it/s]\u001b[A\n",
      " 69%|██████▉   | 137/199 [00:00<00:00, 222.94it/s]\u001b[A\n",
      " 80%|████████  | 160/199 [00:00<00:00, 224.27it/s]\u001b[A\n",
      " 92%|█████████▏| 183/199 [00:00<00:00, 225.03it/s]\u001b[A\n",
      "100%|██████████| 199/199 [00:00<00:00, 223.66it/s]\u001b[A\n",
      "  0%|          | 0/26 [00:00<?, ?it/s]\u001b[A\n",
      "100%|██████████| 26/26 [00:00<00:00, 906.79it/s]\u001b[A"
     ]
    },
    {
     "name": "stdout",
     "output_type": "stream",
     "text": [
      "{'accuracy': 0.8038976857490865, 'roc_auc': 0.8767020341238534, 'pr_auc': 0.8816587007815861}\n"
     ]
    },
    {
     "data": {
      "text/html": [
       "<div>\n",
       "<style scoped>\n",
       "    .dataframe tbody tr th:only-of-type {\n",
       "        vertical-align: middle;\n",
       "    }\n",
       "\n",
       "    .dataframe tbody tr th {\n",
       "        vertical-align: top;\n",
       "    }\n",
       "\n",
       "    .dataframe thead th {\n",
       "        text-align: right;\n",
       "    }\n",
       "</style>\n",
       "<table border=\"1\" class=\"dataframe\">\n",
       "  <thead>\n",
       "    <tr style=\"text-align: right;\">\n",
       "      <th></th>\n",
       "      <th>0</th>\n",
       "      <th>1</th>\n",
       "      <th>micro avg</th>\n",
       "      <th>macro avg</th>\n",
       "      <th>weighted avg</th>\n",
       "    </tr>\n",
       "  </thead>\n",
       "  <tbody>\n",
       "    <tr>\n",
       "      <th>f1-score</th>\n",
       "      <td>0.799</td>\n",
       "      <td>0.809</td>\n",
       "      <td>0.804</td>\n",
       "      <td>0.804</td>\n",
       "      <td>0.804</td>\n",
       "    </tr>\n",
       "    <tr>\n",
       "      <th>precision</th>\n",
       "      <td>0.792</td>\n",
       "      <td>0.815</td>\n",
       "      <td>0.804</td>\n",
       "      <td>0.804</td>\n",
       "      <td>0.804</td>\n",
       "    </tr>\n",
       "    <tr>\n",
       "      <th>recall</th>\n",
       "      <td>0.806</td>\n",
       "      <td>0.802</td>\n",
       "      <td>0.804</td>\n",
       "      <td>0.804</td>\n",
       "      <td>0.804</td>\n",
       "    </tr>\n",
       "    <tr>\n",
       "      <th>support</th>\n",
       "      <td>397.000</td>\n",
       "      <td>424.000</td>\n",
       "      <td>821.000</td>\n",
       "      <td>821.000</td>\n",
       "      <td>821.000</td>\n",
       "    </tr>\n",
       "  </tbody>\n",
       "</table>\n",
       "</div>"
      ],
      "text/plain": [
       "                 0        1  micro avg  macro avg  weighted avg\n",
       "f1-score     0.799    0.809      0.804      0.804         0.804\n",
       "precision    0.792    0.815      0.804      0.804         0.804\n",
       "recall       0.806    0.802      0.804      0.804         0.804\n",
       "support    397.000  424.000    821.000    821.000       821.000"
      ]
     },
     "metadata": {},
     "output_type": "display_data"
    },
    {
     "name": "stderr",
     "output_type": "stream",
     "text": [
      "100%|██████████| 8/8 [00:08<00:00,  1.01s/it]\n",
      "INFO - 2019-04-23 17:45:44,225 - instantiating class <class 'Transparency.model.modules.Encoder.Encoder'> from params {'vocab_size': 13826, 'embed_size': 300, 'kernel_sizes': [1, 3, 5, 7], 'hidden_size': 32, 'activation': 'relu', 'type': 'cnn', 'pre_embed': None} and extras set()\n",
      "INFO - 2019-04-23 17:45:44,225 - type = cnn\n",
      "INFO - 2019-04-23 17:45:44,225 - instantiating class <class 'Transparency.model.modules.Encoder.EncoderCNN'> from params {'vocab_size': 13826, 'embed_size': 300, 'kernel_sizes': [1, 3, 5, 7], 'hidden_size': 32, 'activation': 'relu', 'pre_embed': None} and extras set()\n",
      "INFO - 2019-04-23 17:45:44,226 - vocab_size = 13826\n",
      "INFO - 2019-04-23 17:45:44,226 - embed_size = 300\n",
      "INFO - 2019-04-23 17:45:44,226 - hidden_size = 32\n",
      "INFO - 2019-04-23 17:45:44,226 - kernel_sizes = [1, 3, 5, 7]\n",
      "INFO - 2019-04-23 17:45:44,227 - activation = relu\n",
      "INFO - 2019-04-23 17:45:44,227 - pre_embed = None\n",
      "INFO - 2019-04-23 17:45:44,250 - instantiating class <class 'Transparency.model.modules.Decoder.AttnDecoder'> from params {'attention': {'type': 'tanh'}, 'output_size': 1, 'hidden_size': 128} and extras set()\n",
      "INFO - 2019-04-23 17:45:44,250 - hidden_size = 128\n",
      "INFO - 2019-04-23 17:45:44,251 - output_size = 1\n",
      "INFO - 2019-04-23 17:45:44,251 - use_attention = True\n",
      "INFO - 2019-04-23 17:45:44,251 - regularizer_attention = None\n",
      "INFO - 2019-04-23 17:45:44,252 - instantiating class <class 'Transparency.model.modules.Attention.Attention'> from params <allennlp.common.params.Params object at 0x7faa46440f60> and extras set()\n",
      "INFO - 2019-04-23 17:45:44,252 - attention.type = tanh\n",
      "INFO - 2019-04-23 17:45:44,252 - type = tanh\n",
      "INFO - 2019-04-23 17:45:44,253 - instantiating class <class 'Transparency.model.modules.Attention.TanhAttention'> from params <allennlp.common.params.Params object at 0x7faa46440f60> and extras set()\n",
      "INFO - 2019-04-23 17:45:44,253 - attention.hidden_size = 128\n",
      "INFO - 2019-04-23 17:45:44,253 - hidden_size = 128\n"
     ]
    },
    {
     "name": "stdout",
     "output_type": "stream",
     "text": [
      "Model not saved on  roc_auc 0.8767020341238534\n"
     ]
    },
    {
     "name": "stderr",
     "output_type": "stream",
     "text": [
      "100%|██████████| 54/54 [00:00<00:00, 954.96it/s]"
     ]
    },
    {
     "name": "stdout",
     "output_type": "stream",
     "text": [
      "{'accuracy': 0.8260869565217391, 'roc_auc': 0.9035792156535907, 'pr_auc': 0.9059282993322082}\n"
     ]
    },
    {
     "name": "stderr",
     "output_type": "stream",
     "text": [
      "\n"
     ]
    },
    {
     "data": {
      "text/html": [
       "<div>\n",
       "<style scoped>\n",
       "    .dataframe tbody tr th:only-of-type {\n",
       "        vertical-align: middle;\n",
       "    }\n",
       "\n",
       "    .dataframe tbody tr th {\n",
       "        vertical-align: top;\n",
       "    }\n",
       "\n",
       "    .dataframe thead th {\n",
       "        text-align: right;\n",
       "    }\n",
       "</style>\n",
       "<table border=\"1\" class=\"dataframe\">\n",
       "  <thead>\n",
       "    <tr style=\"text-align: right;\">\n",
       "      <th></th>\n",
       "      <th>0</th>\n",
       "      <th>1</th>\n",
       "      <th>micro avg</th>\n",
       "      <th>macro avg</th>\n",
       "      <th>weighted avg</th>\n",
       "    </tr>\n",
       "  </thead>\n",
       "  <tbody>\n",
       "    <tr>\n",
       "      <th>f1-score</th>\n",
       "      <td>0.828</td>\n",
       "      <td>0.824</td>\n",
       "      <td>0.826</td>\n",
       "      <td>0.826</td>\n",
       "      <td>0.826</td>\n",
       "    </tr>\n",
       "    <tr>\n",
       "      <th>precision</th>\n",
       "      <td>0.818</td>\n",
       "      <td>0.835</td>\n",
       "      <td>0.826</td>\n",
       "      <td>0.826</td>\n",
       "      <td>0.826</td>\n",
       "    </tr>\n",
       "    <tr>\n",
       "      <th>recall</th>\n",
       "      <td>0.839</td>\n",
       "      <td>0.813</td>\n",
       "      <td>0.826</td>\n",
       "      <td>0.826</td>\n",
       "      <td>0.826</td>\n",
       "    </tr>\n",
       "    <tr>\n",
       "      <th>support</th>\n",
       "      <td>863.000</td>\n",
       "      <td>862.000</td>\n",
       "      <td>1725.000</td>\n",
       "      <td>1725.000</td>\n",
       "      <td>1725.000</td>\n",
       "    </tr>\n",
       "  </tbody>\n",
       "</table>\n",
       "</div>"
      ],
      "text/plain": [
       "                 0        1  micro avg  macro avg  weighted avg\n",
       "f1-score     0.828    0.824      0.826      0.826         0.826\n",
       "precision    0.818    0.835      0.826      0.826         0.826\n",
       "recall       0.839    0.813      0.826      0.826         0.826\n",
       "support    863.000  862.000   1725.000   1725.000      1725.000"
      ]
     },
     "metadata": {},
     "output_type": "display_data"
    },
    {
     "name": "stderr",
     "output_type": "stream",
     "text": [
      "INFO - 2019-04-23 17:45:44,493 - instantiating class <class 'Transparency.model.modules.Encoder.Encoder'> from params {'vocab_size': 13826, 'embed_size': 300, 'kernel_sizes': [1, 3, 5, 7], 'hidden_size': 32, 'activation': 'relu', 'type': 'cnn', 'pre_embed': None} and extras set()\n",
      "INFO - 2019-04-23 17:45:44,493 - type = cnn\n",
      "INFO - 2019-04-23 17:45:44,494 - instantiating class <class 'Transparency.model.modules.Encoder.EncoderCNN'> from params {'vocab_size': 13826, 'embed_size': 300, 'kernel_sizes': [1, 3, 5, 7], 'hidden_size': 32, 'activation': 'relu', 'pre_embed': None} and extras set()\n",
      "INFO - 2019-04-23 17:45:44,494 - vocab_size = 13826\n",
      "INFO - 2019-04-23 17:45:44,494 - embed_size = 300\n",
      "INFO - 2019-04-23 17:45:44,495 - hidden_size = 32\n",
      "INFO - 2019-04-23 17:45:44,495 - kernel_sizes = [1, 3, 5, 7]\n",
      "INFO - 2019-04-23 17:45:44,495 - activation = relu\n",
      "INFO - 2019-04-23 17:45:44,496 - pre_embed = None\n",
      "INFO - 2019-04-23 17:45:44,519 - instantiating class <class 'Transparency.model.modules.Decoder.AttnDecoder'> from params {'attention': {'type': 'tanh'}, 'output_size': 1, 'hidden_size': 128} and extras set()\n",
      "INFO - 2019-04-23 17:45:44,519 - hidden_size = 128\n",
      "INFO - 2019-04-23 17:45:44,519 - output_size = 1\n",
      "INFO - 2019-04-23 17:45:44,520 - use_attention = True\n",
      "INFO - 2019-04-23 17:45:44,520 - regularizer_attention = None\n",
      "INFO - 2019-04-23 17:45:44,520 - instantiating class <class 'Transparency.model.modules.Attention.Attention'> from params <allennlp.common.params.Params object at 0x7faa474c4a58> and extras set()\n",
      "INFO - 2019-04-23 17:45:44,521 - attention.type = tanh\n",
      "INFO - 2019-04-23 17:45:44,521 - type = tanh\n",
      "INFO - 2019-04-23 17:45:44,521 - instantiating class <class 'Transparency.model.modules.Attention.TanhAttention'> from params <allennlp.common.params.Params object at 0x7faa474c4a58> and extras set()\n",
      "INFO - 2019-04-23 17:45:44,521 - attention.hidden_size = 128\n",
      "INFO - 2019-04-23 17:45:44,522 - hidden_size = 128\n",
      "100%|██████████| 54/54 [00:00<00:00, 916.15it/s]"
     ]
    },
    {
     "name": "stdout",
     "output_type": "stream",
     "text": [
      "{'accuracy': 0.8260869565217391, 'roc_auc': 0.9035792156535907, 'pr_auc': 0.9059282993322082}\n"
     ]
    },
    {
     "name": "stderr",
     "output_type": "stream",
     "text": [
      "\n"
     ]
    },
    {
     "data": {
      "text/html": [
       "<div>\n",
       "<style scoped>\n",
       "    .dataframe tbody tr th:only-of-type {\n",
       "        vertical-align: middle;\n",
       "    }\n",
       "\n",
       "    .dataframe tbody tr th {\n",
       "        vertical-align: top;\n",
       "    }\n",
       "\n",
       "    .dataframe thead th {\n",
       "        text-align: right;\n",
       "    }\n",
       "</style>\n",
       "<table border=\"1\" class=\"dataframe\">\n",
       "  <thead>\n",
       "    <tr style=\"text-align: right;\">\n",
       "      <th></th>\n",
       "      <th>0</th>\n",
       "      <th>1</th>\n",
       "      <th>micro avg</th>\n",
       "      <th>macro avg</th>\n",
       "      <th>weighted avg</th>\n",
       "    </tr>\n",
       "  </thead>\n",
       "  <tbody>\n",
       "    <tr>\n",
       "      <th>f1-score</th>\n",
       "      <td>0.828</td>\n",
       "      <td>0.824</td>\n",
       "      <td>0.826</td>\n",
       "      <td>0.826</td>\n",
       "      <td>0.826</td>\n",
       "    </tr>\n",
       "    <tr>\n",
       "      <th>precision</th>\n",
       "      <td>0.818</td>\n",
       "      <td>0.835</td>\n",
       "      <td>0.826</td>\n",
       "      <td>0.826</td>\n",
       "      <td>0.826</td>\n",
       "    </tr>\n",
       "    <tr>\n",
       "      <th>recall</th>\n",
       "      <td>0.839</td>\n",
       "      <td>0.813</td>\n",
       "      <td>0.826</td>\n",
       "      <td>0.826</td>\n",
       "      <td>0.826</td>\n",
       "    </tr>\n",
       "    <tr>\n",
       "      <th>support</th>\n",
       "      <td>863.000</td>\n",
       "      <td>862.000</td>\n",
       "      <td>1725.000</td>\n",
       "      <td>1725.000</td>\n",
       "      <td>1725.000</td>\n",
       "    </tr>\n",
       "  </tbody>\n",
       "</table>\n",
       "</div>"
      ],
      "text/plain": [
       "                 0        1  micro avg  macro avg  weighted avg\n",
       "f1-score     0.828    0.824      0.826      0.826         0.826\n",
       "precision    0.818    0.835      0.826      0.826         0.826\n",
       "recall       0.839    0.813      0.826      0.826         0.826\n",
       "support    863.000  862.000   1725.000   1725.000      1725.000"
      ]
     },
     "metadata": {},
     "output_type": "display_data"
    },
    {
     "name": "stderr",
     "output_type": "stream",
     "text": [
      "100%|██████████| 54/54 [00:00<00:00, 346.20it/s]\n",
      "100%|██████████| 54/54 [00:17<00:00,  3.06it/s]\n",
      "100%|██████████| 54/54 [01:15<00:00,  1.43s/it]\n",
      "100%|██████████| 54/54 [00:01<00:00, 51.00it/s]\n",
      "/home/sarthak/anaconda3/lib/python3.7/site-packages/allennlp/common/params.py:531: FutureWarning: elementwise comparison failed; returning scalar instead, but in the future will perform elementwise comparison\n",
      "  if dictionary[key] == \"None\":\n",
      "INFO - 2019-04-23 17:47:19,627 - instantiating class <class 'Transparency.model.modules.Encoder.Encoder'> from params {'vocab_size': 13826, 'embed_size': 300, 'type': 'rnn', 'hidden_size': 128, 'pre_embed': array([[ 0.        ,  0.        ,  0.        , ...,  0.        ,\n",
      "         0.        ,  0.        ],\n",
      "       [ 0.        ,  0.        ,  0.        , ...,  0.        ,\n",
      "         0.        ,  0.        ],\n",
      "       [ 0.        ,  0.        ,  0.        , ...,  0.        ,\n",
      "         0.        ,  0.        ],\n",
      "       ...,\n",
      "       [ 0.024119  , -0.083228  ,  0.59245002, ...,  0.013568  ,\n",
      "        -0.26155999, -0.54530001],\n",
      "       [ 0.        ,  0.        ,  0.        , ...,  0.        ,\n",
      "         0.        ,  0.        ],\n",
      "       [ 0.        ,  0.        ,  0.        , ...,  0.        ,\n",
      "         0.        ,  0.        ]])} and extras set()\n",
      "INFO - 2019-04-23 17:47:19,627 - type = rnn\n",
      "INFO - 2019-04-23 17:47:19,628 - instantiating class <class 'Transparency.model.modules.Encoder.EncoderRNN'> from params {'vocab_size': 13826, 'embed_size': 300, 'hidden_size': 128, 'pre_embed': array([[ 0.        ,  0.        ,  0.        , ...,  0.        ,\n",
      "         0.        ,  0.        ],\n",
      "       [ 0.        ,  0.        ,  0.        , ...,  0.        ,\n",
      "         0.        ,  0.        ],\n",
      "       [ 0.        ,  0.        ,  0.        , ...,  0.        ,\n",
      "         0.        ,  0.        ],\n",
      "       ...,\n",
      "       [ 0.024119  , -0.083228  ,  0.59245002, ...,  0.013568  ,\n",
      "        -0.26155999, -0.54530001],\n",
      "       [ 0.        ,  0.        ,  0.        , ...,  0.        ,\n",
      "         0.        ,  0.        ],\n",
      "       [ 0.        ,  0.        ,  0.        , ...,  0.        ,\n",
      "         0.        ,  0.        ]])} and extras set()\n",
      "INFO - 2019-04-23 17:47:19,628 - vocab_size = 13826\n",
      "INFO - 2019-04-23 17:47:19,629 - embed_size = 300\n",
      "INFO - 2019-04-23 17:47:19,629 - hidden_size = 128\n",
      "INFO - 2019-04-23 17:47:19,630 - pre_embed = [[ 0.          0.          0.         ...  0.          0.\n",
      "   0.        ]\n",
      " [ 0.          0.          0.         ...  0.          0.\n",
      "   0.        ]\n",
      " [ 0.          0.          0.         ...  0.          0.\n",
      "   0.        ]\n",
      " ...\n",
      " [ 0.024119   -0.083228    0.59245002 ...  0.013568   -0.26155999\n",
      "  -0.54530001]\n",
      " [ 0.          0.          0.         ...  0.          0.\n",
      "   0.        ]\n",
      " [ 0.          0.          0.         ...  0.          0.\n",
      "   0.        ]]\n",
      "INFO - 2019-04-23 17:47:19,660 - instantiating class <class 'Transparency.model.modules.Decoder.AttnDecoder'> from params {'attention': {'type': 'tanh'}, 'output_size': 1, 'hidden_size': 256} and extras set()\n",
      "INFO - 2019-04-23 17:47:19,660 - hidden_size = 256\n",
      "INFO - 2019-04-23 17:47:19,661 - output_size = 1\n",
      "INFO - 2019-04-23 17:47:19,661 - use_attention = True\n",
      "INFO - 2019-04-23 17:47:19,661 - regularizer_attention = None\n",
      "INFO - 2019-04-23 17:47:19,662 - instantiating class <class 'Transparency.model.modules.Attention.Attention'> from params <allennlp.common.params.Params object at 0x7faa474bceb8> and extras set()\n",
      "INFO - 2019-04-23 17:47:19,662 - attention.type = tanh\n",
      "INFO - 2019-04-23 17:47:19,662 - type = tanh\n",
      "INFO - 2019-04-23 17:47:19,663 - instantiating class <class 'Transparency.model.modules.Attention.TanhAttention'> from params <allennlp.common.params.Params object at 0x7faa474bceb8> and extras set()\n",
      "INFO - 2019-04-23 17:47:19,663 - attention.hidden_size = 256\n",
      "INFO - 2019-04-23 17:47:19,663 - hidden_size = 256\n",
      "  0%|          | 0/8 [00:00<?, ?it/s]\n",
      "  0%|          | 0/199 [00:00<?, ?it/s]\u001b[A\n",
      "  8%|▊         | 15/199 [00:00<00:01, 147.77it/s]\u001b[A"
     ]
    },
    {
     "name": "stdout",
     "output_type": "stream",
     "text": [
      "Setting Embedding\n"
     ]
    },
    {
     "name": "stderr",
     "output_type": "stream",
     "text": [
      "\n",
      " 16%|█▌        | 32/199 [00:00<00:01, 151.41it/s]\u001b[A\n",
      " 24%|██▎       | 47/199 [00:00<00:01, 150.84it/s]\u001b[A\n",
      " 32%|███▏      | 63/199 [00:00<00:00, 151.77it/s]\u001b[A\n",
      " 40%|███▉      | 79/199 [00:00<00:00, 151.97it/s]\u001b[A\n",
      " 48%|████▊     | 96/199 [00:00<00:00, 154.91it/s]\u001b[A\n",
      " 56%|█████▋    | 112/199 [00:00<00:00, 154.93it/s]\u001b[A\n",
      " 64%|██████▍   | 128/199 [00:00<00:00, 155.27it/s]\u001b[A\n",
      " 72%|███████▏  | 144/199 [00:00<00:00, 156.26it/s]\u001b[A\n",
      " 80%|████████  | 160/199 [00:01<00:00, 155.09it/s]\u001b[A\n",
      " 88%|████████▊ | 176/199 [00:01<00:00, 155.80it/s]\u001b[A\n",
      " 96%|█████████▋| 192/199 [00:01<00:00, 155.89it/s]\u001b[A\n",
      "100%|██████████| 199/199 [00:01<00:00, 154.97it/s]\u001b[A\n",
      "  0%|          | 0/26 [00:00<?, ?it/s]\u001b[A\n",
      "100%|██████████| 26/26 [00:00<00:00, 626.67it/s]\u001b[A"
     ]
    },
    {
     "name": "stdout",
     "output_type": "stream",
     "text": [
      "{'accuracy': 0.761266747868453, 'roc_auc': 0.8640689606007319, 'pr_auc': 0.8694385916167451}\n"
     ]
    },
    {
     "data": {
      "text/html": [
       "<div>\n",
       "<style scoped>\n",
       "    .dataframe tbody tr th:only-of-type {\n",
       "        vertical-align: middle;\n",
       "    }\n",
       "\n",
       "    .dataframe tbody tr th {\n",
       "        vertical-align: top;\n",
       "    }\n",
       "\n",
       "    .dataframe thead th {\n",
       "        text-align: right;\n",
       "    }\n",
       "</style>\n",
       "<table border=\"1\" class=\"dataframe\">\n",
       "  <thead>\n",
       "    <tr style=\"text-align: right;\">\n",
       "      <th></th>\n",
       "      <th>0</th>\n",
       "      <th>1</th>\n",
       "      <th>micro avg</th>\n",
       "      <th>macro avg</th>\n",
       "      <th>weighted avg</th>\n",
       "    </tr>\n",
       "  </thead>\n",
       "  <tbody>\n",
       "    <tr>\n",
       "      <th>f1-score</th>\n",
       "      <td>0.715</td>\n",
       "      <td>0.795</td>\n",
       "      <td>0.761</td>\n",
       "      <td>0.755</td>\n",
       "      <td>0.756</td>\n",
       "    </tr>\n",
       "    <tr>\n",
       "      <th>precision</th>\n",
       "      <td>0.845</td>\n",
       "      <td>0.715</td>\n",
       "      <td>0.761</td>\n",
       "      <td>0.780</td>\n",
       "      <td>0.778</td>\n",
       "    </tr>\n",
       "    <tr>\n",
       "      <th>recall</th>\n",
       "      <td>0.620</td>\n",
       "      <td>0.894</td>\n",
       "      <td>0.761</td>\n",
       "      <td>0.757</td>\n",
       "      <td>0.761</td>\n",
       "    </tr>\n",
       "    <tr>\n",
       "      <th>support</th>\n",
       "      <td>397.000</td>\n",
       "      <td>424.000</td>\n",
       "      <td>821.000</td>\n",
       "      <td>821.000</td>\n",
       "      <td>821.000</td>\n",
       "    </tr>\n",
       "  </tbody>\n",
       "</table>\n",
       "</div>"
      ],
      "text/plain": [
       "                 0        1  micro avg  macro avg  weighted avg\n",
       "f1-score     0.715    0.795      0.761      0.755         0.756\n",
       "precision    0.845    0.715      0.761      0.780         0.778\n",
       "recall       0.620    0.894      0.761      0.757         0.761\n",
       "support    397.000  424.000    821.000    821.000       821.000"
      ]
     },
     "metadata": {},
     "output_type": "display_data"
    },
    {
     "name": "stderr",
     "output_type": "stream",
     "text": [
      " 12%|█▎        | 1/8 [00:01<00:09,  1.37s/it]\n",
      "  0%|          | 0/199 [00:00<?, ?it/s]\u001b[A\n",
      "  8%|▊         | 16/199 [00:00<00:01, 152.90it/s]\u001b[A"
     ]
    },
    {
     "name": "stdout",
     "output_type": "stream",
     "text": [
      "Model not saved on  roc_auc 0.8640689606007319\n"
     ]
    },
    {
     "name": "stderr",
     "output_type": "stream",
     "text": [
      "\n",
      " 16%|█▌        | 32/199 [00:00<00:01, 154.03it/s]\u001b[A\n",
      " 25%|██▍       | 49/199 [00:00<00:00, 157.92it/s]\u001b[A\n",
      " 33%|███▎      | 65/199 [00:00<00:00, 156.50it/s]\u001b[A\n",
      " 41%|████      | 82/199 [00:00<00:00, 157.89it/s]\u001b[A\n",
      " 49%|████▉     | 98/199 [00:00<00:00, 157.14it/s]\u001b[A\n",
      " 57%|█████▋    | 113/199 [00:00<00:00, 152.67it/s]\u001b[A\n",
      " 65%|██████▍   | 129/199 [00:00<00:00, 154.71it/s]\u001b[A\n",
      " 72%|███████▏  | 144/199 [00:00<00:00, 153.15it/s]\u001b[A\n",
      " 80%|████████  | 160/199 [00:01<00:00, 153.11it/s]\u001b[A\n",
      " 88%|████████▊ | 176/199 [00:01<00:00, 153.77it/s]\u001b[A\n",
      " 96%|█████████▋| 192/199 [00:01<00:00, 155.09it/s]\u001b[A\n",
      "100%|██████████| 199/199 [00:01<00:00, 155.26it/s]\u001b[A\n",
      "  0%|          | 0/26 [00:00<?, ?it/s]\u001b[A\n",
      "100%|██████████| 26/26 [00:00<00:00, 629.39it/s]\u001b[A"
     ]
    },
    {
     "name": "stdout",
     "output_type": "stream",
     "text": [
      "{'accuracy': 0.8112058465286236, 'roc_auc': 0.8908678294757855, 'pr_auc': 0.9036081601805651}\n"
     ]
    },
    {
     "data": {
      "text/html": [
       "<div>\n",
       "<style scoped>\n",
       "    .dataframe tbody tr th:only-of-type {\n",
       "        vertical-align: middle;\n",
       "    }\n",
       "\n",
       "    .dataframe tbody tr th {\n",
       "        vertical-align: top;\n",
       "    }\n",
       "\n",
       "    .dataframe thead th {\n",
       "        text-align: right;\n",
       "    }\n",
       "</style>\n",
       "<table border=\"1\" class=\"dataframe\">\n",
       "  <thead>\n",
       "    <tr style=\"text-align: right;\">\n",
       "      <th></th>\n",
       "      <th>0</th>\n",
       "      <th>1</th>\n",
       "      <th>micro avg</th>\n",
       "      <th>macro avg</th>\n",
       "      <th>weighted avg</th>\n",
       "    </tr>\n",
       "  </thead>\n",
       "  <tbody>\n",
       "    <tr>\n",
       "      <th>f1-score</th>\n",
       "      <td>0.812</td>\n",
       "      <td>0.810</td>\n",
       "      <td>0.811</td>\n",
       "      <td>0.811</td>\n",
       "      <td>0.811</td>\n",
       "    </tr>\n",
       "    <tr>\n",
       "      <th>precision</th>\n",
       "      <td>0.783</td>\n",
       "      <td>0.842</td>\n",
       "      <td>0.811</td>\n",
       "      <td>0.812</td>\n",
       "      <td>0.813</td>\n",
       "    </tr>\n",
       "    <tr>\n",
       "      <th>recall</th>\n",
       "      <td>0.844</td>\n",
       "      <td>0.781</td>\n",
       "      <td>0.811</td>\n",
       "      <td>0.812</td>\n",
       "      <td>0.811</td>\n",
       "    </tr>\n",
       "    <tr>\n",
       "      <th>support</th>\n",
       "      <td>397.000</td>\n",
       "      <td>424.000</td>\n",
       "      <td>821.000</td>\n",
       "      <td>821.000</td>\n",
       "      <td>821.000</td>\n",
       "    </tr>\n",
       "  </tbody>\n",
       "</table>\n",
       "</div>"
      ],
      "text/plain": [
       "                 0        1  micro avg  macro avg  weighted avg\n",
       "f1-score     0.812    0.810      0.811      0.811         0.811\n",
       "precision    0.783    0.842      0.811      0.812         0.813\n",
       "recall       0.844    0.781      0.811      0.812         0.811\n",
       "support    397.000  424.000    821.000    821.000       821.000"
      ]
     },
     "metadata": {},
     "output_type": "display_data"
    },
    {
     "name": "stderr",
     "output_type": "stream",
     "text": [
      " 25%|██▌       | 2/8 [00:02<00:08,  1.42s/it]\n",
      "  0%|          | 0/199 [00:00<?, ?it/s]\u001b[A"
     ]
    },
    {
     "name": "stdout",
     "output_type": "stream",
     "text": [
      "Model Saved on  roc_auc 0.8908678294757855\n"
     ]
    },
    {
     "name": "stderr",
     "output_type": "stream",
     "text": [
      "\n",
      "  7%|▋         | 14/199 [00:00<00:01, 139.11it/s]\u001b[A\n",
      " 15%|█▍        | 29/199 [00:00<00:01, 141.85it/s]\u001b[A\n",
      " 23%|██▎       | 45/199 [00:00<00:01, 145.91it/s]\u001b[A\n",
      " 31%|███       | 62/199 [00:00<00:00, 150.27it/s]\u001b[A\n",
      " 39%|███▉      | 78/199 [00:00<00:00, 150.63it/s]\u001b[A\n",
      " 47%|████▋     | 94/199 [00:00<00:00, 152.06it/s]\u001b[A\n",
      " 55%|█████▌    | 110/199 [00:00<00:00, 153.40it/s]\u001b[A\n",
      " 63%|██████▎   | 126/199 [00:00<00:00, 153.84it/s]\u001b[A\n",
      " 71%|███████▏  | 142/199 [00:00<00:00, 153.59it/s]\u001b[A\n",
      " 79%|███████▉  | 157/199 [00:01<00:00, 151.57it/s]\u001b[A\n",
      " 87%|████████▋ | 173/199 [00:01<00:00, 153.87it/s]\u001b[A\n",
      " 95%|█████████▌| 190/199 [00:01<00:00, 155.73it/s]\u001b[A\n",
      "100%|██████████| 199/199 [00:01<00:00, 153.43it/s]\u001b[A\n",
      "  0%|          | 0/26 [00:00<?, ?it/s]\u001b[A\n",
      "100%|██████████| 26/26 [00:00<00:00, 637.70it/s]\u001b[A"
     ]
    },
    {
     "name": "stdout",
     "output_type": "stream",
     "text": [
      "{'accuracy': 0.8014616321559074, 'roc_auc': 0.8792120146380875, 'pr_auc': 0.8897064996722452}\n"
     ]
    },
    {
     "data": {
      "text/html": [
       "<div>\n",
       "<style scoped>\n",
       "    .dataframe tbody tr th:only-of-type {\n",
       "        vertical-align: middle;\n",
       "    }\n",
       "\n",
       "    .dataframe tbody tr th {\n",
       "        vertical-align: top;\n",
       "    }\n",
       "\n",
       "    .dataframe thead th {\n",
       "        text-align: right;\n",
       "    }\n",
       "</style>\n",
       "<table border=\"1\" class=\"dataframe\">\n",
       "  <thead>\n",
       "    <tr style=\"text-align: right;\">\n",
       "      <th></th>\n",
       "      <th>0</th>\n",
       "      <th>1</th>\n",
       "      <th>micro avg</th>\n",
       "      <th>macro avg</th>\n",
       "      <th>weighted avg</th>\n",
       "    </tr>\n",
       "  </thead>\n",
       "  <tbody>\n",
       "    <tr>\n",
       "      <th>f1-score</th>\n",
       "      <td>0.792</td>\n",
       "      <td>0.810</td>\n",
       "      <td>0.801</td>\n",
       "      <td>0.801</td>\n",
       "      <td>0.801</td>\n",
       "    </tr>\n",
       "    <tr>\n",
       "      <th>precision</th>\n",
       "      <td>0.803</td>\n",
       "      <td>0.800</td>\n",
       "      <td>0.801</td>\n",
       "      <td>0.802</td>\n",
       "      <td>0.802</td>\n",
       "    </tr>\n",
       "    <tr>\n",
       "      <th>recall</th>\n",
       "      <td>0.781</td>\n",
       "      <td>0.821</td>\n",
       "      <td>0.801</td>\n",
       "      <td>0.801</td>\n",
       "      <td>0.801</td>\n",
       "    </tr>\n",
       "    <tr>\n",
       "      <th>support</th>\n",
       "      <td>397.000</td>\n",
       "      <td>424.000</td>\n",
       "      <td>821.000</td>\n",
       "      <td>821.000</td>\n",
       "      <td>821.000</td>\n",
       "    </tr>\n",
       "  </tbody>\n",
       "</table>\n",
       "</div>"
      ],
      "text/plain": [
       "                 0        1  micro avg  macro avg  weighted avg\n",
       "f1-score     0.792    0.810      0.801      0.801         0.801\n",
       "precision    0.803    0.800      0.801      0.802         0.802\n",
       "recall       0.781    0.821      0.801      0.801         0.801\n",
       "support    397.000  424.000    821.000    821.000       821.000"
      ]
     },
     "metadata": {},
     "output_type": "display_data"
    },
    {
     "name": "stderr",
     "output_type": "stream",
     "text": [
      " 38%|███▊      | 3/8 [00:04<00:07,  1.41s/it]\n",
      "  0%|          | 0/199 [00:00<?, ?it/s]\u001b[A\n",
      "  8%|▊         | 16/199 [00:00<00:01, 154.42it/s]\u001b[A"
     ]
    },
    {
     "name": "stdout",
     "output_type": "stream",
     "text": [
      "Model not saved on  roc_auc 0.8792120146380875\n"
     ]
    },
    {
     "name": "stderr",
     "output_type": "stream",
     "text": [
      "\n",
      " 16%|█▌        | 32/199 [00:00<00:01, 155.88it/s]\u001b[A\n",
      " 24%|██▍       | 48/199 [00:00<00:00, 155.71it/s]\u001b[A\n",
      " 32%|███▏      | 64/199 [00:00<00:00, 155.33it/s]\u001b[A\n",
      " 40%|████      | 80/199 [00:00<00:00, 154.72it/s]\u001b[A\n",
      " 48%|████▊     | 96/199 [00:00<00:00, 155.99it/s]\u001b[A\n",
      " 56%|█████▋    | 112/199 [00:00<00:00, 156.09it/s]\u001b[A\n",
      " 64%|██████▍   | 128/199 [00:00<00:00, 154.59it/s]\u001b[A\n",
      " 72%|███████▏  | 144/199 [00:00<00:00, 154.81it/s]\u001b[A\n",
      " 80%|████████  | 160/199 [00:01<00:00, 154.65it/s]\u001b[A\n",
      " 88%|████████▊ | 176/199 [00:01<00:00, 154.52it/s]\u001b[A\n",
      " 96%|█████████▋| 192/199 [00:01<00:00, 155.77it/s]\u001b[A\n",
      "100%|██████████| 199/199 [00:01<00:00, 155.36it/s]\u001b[A\n",
      "  0%|          | 0/26 [00:00<?, ?it/s]\u001b[A\n",
      "100%|██████████| 26/26 [00:00<00:00, 627.38it/s]\u001b[A"
     ]
    },
    {
     "name": "stdout",
     "output_type": "stream",
     "text": [
      "{'accuracy': 0.8014616321559074, 'roc_auc': 0.880917019153082, 'pr_auc': 0.887886644112757}\n"
     ]
    },
    {
     "data": {
      "text/html": [
       "<div>\n",
       "<style scoped>\n",
       "    .dataframe tbody tr th:only-of-type {\n",
       "        vertical-align: middle;\n",
       "    }\n",
       "\n",
       "    .dataframe tbody tr th {\n",
       "        vertical-align: top;\n",
       "    }\n",
       "\n",
       "    .dataframe thead th {\n",
       "        text-align: right;\n",
       "    }\n",
       "</style>\n",
       "<table border=\"1\" class=\"dataframe\">\n",
       "  <thead>\n",
       "    <tr style=\"text-align: right;\">\n",
       "      <th></th>\n",
       "      <th>0</th>\n",
       "      <th>1</th>\n",
       "      <th>micro avg</th>\n",
       "      <th>macro avg</th>\n",
       "      <th>weighted avg</th>\n",
       "    </tr>\n",
       "  </thead>\n",
       "  <tbody>\n",
       "    <tr>\n",
       "      <th>f1-score</th>\n",
       "      <td>0.793</td>\n",
       "      <td>0.809</td>\n",
       "      <td>0.801</td>\n",
       "      <td>0.801</td>\n",
       "      <td>0.801</td>\n",
       "    </tr>\n",
       "    <tr>\n",
       "      <th>precision</th>\n",
       "      <td>0.800</td>\n",
       "      <td>0.803</td>\n",
       "      <td>0.801</td>\n",
       "      <td>0.801</td>\n",
       "      <td>0.801</td>\n",
       "    </tr>\n",
       "    <tr>\n",
       "      <th>recall</th>\n",
       "      <td>0.786</td>\n",
       "      <td>0.816</td>\n",
       "      <td>0.801</td>\n",
       "      <td>0.801</td>\n",
       "      <td>0.801</td>\n",
       "    </tr>\n",
       "    <tr>\n",
       "      <th>support</th>\n",
       "      <td>397.000</td>\n",
       "      <td>424.000</td>\n",
       "      <td>821.000</td>\n",
       "      <td>821.000</td>\n",
       "      <td>821.000</td>\n",
       "    </tr>\n",
       "  </tbody>\n",
       "</table>\n",
       "</div>"
      ],
      "text/plain": [
       "                 0        1  micro avg  macro avg  weighted avg\n",
       "f1-score     0.793    0.809      0.801      0.801         0.801\n",
       "precision    0.800    0.803      0.801      0.801         0.801\n",
       "recall       0.786    0.816      0.801      0.801         0.801\n",
       "support    397.000  424.000    821.000    821.000       821.000"
      ]
     },
     "metadata": {},
     "output_type": "display_data"
    },
    {
     "name": "stderr",
     "output_type": "stream",
     "text": [
      " 50%|█████     | 4/8 [00:05<00:05,  1.39s/it]\n",
      "  0%|          | 0/199 [00:00<?, ?it/s]\u001b[A\n",
      "  8%|▊         | 16/199 [00:00<00:01, 158.41it/s]\u001b[A"
     ]
    },
    {
     "name": "stdout",
     "output_type": "stream",
     "text": [
      "Model not saved on  roc_auc 0.880917019153082\n"
     ]
    },
    {
     "name": "stderr",
     "output_type": "stream",
     "text": [
      "\n",
      " 16%|█▌        | 32/199 [00:00<00:01, 157.60it/s]\u001b[A\n",
      " 24%|██▍       | 48/199 [00:00<00:00, 157.72it/s]\u001b[A\n",
      " 32%|███▏      | 63/199 [00:00<00:00, 155.32it/s]\u001b[A\n",
      " 40%|████      | 80/199 [00:00<00:00, 158.85it/s]\u001b[A\n",
      " 48%|████▊     | 96/199 [00:00<00:00, 157.78it/s]\u001b[A\n",
      " 56%|█████▋    | 112/199 [00:00<00:00, 157.88it/s]\u001b[A\n",
      " 64%|██████▍   | 128/199 [00:00<00:00, 158.29it/s]\u001b[A\n",
      " 72%|███████▏  | 144/199 [00:00<00:00, 156.68it/s]\u001b[A\n",
      " 80%|████████  | 160/199 [00:01<00:00, 154.79it/s]\u001b[A\n",
      " 88%|████████▊ | 176/199 [00:01<00:00, 154.89it/s]\u001b[A\n",
      " 96%|█████████▋| 192/199 [00:01<00:00, 153.85it/s]\u001b[A\n",
      "100%|██████████| 199/199 [00:01<00:00, 155.59it/s]\u001b[A\n",
      "  0%|          | 0/26 [00:00<?, ?it/s]\u001b[A\n",
      "100%|██████████| 26/26 [00:00<00:00, 633.88it/s]\u001b[A"
     ]
    },
    {
     "name": "stdout",
     "output_type": "stream",
     "text": [
      "{'accuracy': 0.7868453105968332, 'roc_auc': 0.8722167435007842, 'pr_auc': 0.8770667575657225}\n"
     ]
    },
    {
     "data": {
      "text/html": [
       "<div>\n",
       "<style scoped>\n",
       "    .dataframe tbody tr th:only-of-type {\n",
       "        vertical-align: middle;\n",
       "    }\n",
       "\n",
       "    .dataframe tbody tr th {\n",
       "        vertical-align: top;\n",
       "    }\n",
       "\n",
       "    .dataframe thead th {\n",
       "        text-align: right;\n",
       "    }\n",
       "</style>\n",
       "<table border=\"1\" class=\"dataframe\">\n",
       "  <thead>\n",
       "    <tr style=\"text-align: right;\">\n",
       "      <th></th>\n",
       "      <th>0</th>\n",
       "      <th>1</th>\n",
       "      <th>micro avg</th>\n",
       "      <th>macro avg</th>\n",
       "      <th>weighted avg</th>\n",
       "    </tr>\n",
       "  </thead>\n",
       "  <tbody>\n",
       "    <tr>\n",
       "      <th>f1-score</th>\n",
       "      <td>0.757</td>\n",
       "      <td>0.810</td>\n",
       "      <td>0.787</td>\n",
       "      <td>0.784</td>\n",
       "      <td>0.785</td>\n",
       "    </tr>\n",
       "    <tr>\n",
       "      <th>precision</th>\n",
       "      <td>0.843</td>\n",
       "      <td>0.751</td>\n",
       "      <td>0.787</td>\n",
       "      <td>0.797</td>\n",
       "      <td>0.795</td>\n",
       "    </tr>\n",
       "    <tr>\n",
       "      <th>recall</th>\n",
       "      <td>0.688</td>\n",
       "      <td>0.880</td>\n",
       "      <td>0.787</td>\n",
       "      <td>0.784</td>\n",
       "      <td>0.787</td>\n",
       "    </tr>\n",
       "    <tr>\n",
       "      <th>support</th>\n",
       "      <td>397.000</td>\n",
       "      <td>424.000</td>\n",
       "      <td>821.000</td>\n",
       "      <td>821.000</td>\n",
       "      <td>821.000</td>\n",
       "    </tr>\n",
       "  </tbody>\n",
       "</table>\n",
       "</div>"
      ],
      "text/plain": [
       "                 0        1  micro avg  macro avg  weighted avg\n",
       "f1-score     0.757    0.810      0.787      0.784         0.785\n",
       "precision    0.843    0.751      0.787      0.797         0.795\n",
       "recall       0.688    0.880      0.787      0.784         0.787\n",
       "support    397.000  424.000    821.000    821.000       821.000"
      ]
     },
     "metadata": {},
     "output_type": "display_data"
    },
    {
     "name": "stderr",
     "output_type": "stream",
     "text": [
      " 62%|██████▎   | 5/8 [00:06<00:04,  1.38s/it]\n",
      "  0%|          | 0/199 [00:00<?, ?it/s]\u001b[A\n",
      "  8%|▊         | 16/199 [00:00<00:01, 155.97it/s]\u001b[A"
     ]
    },
    {
     "name": "stdout",
     "output_type": "stream",
     "text": [
      "Model not saved on  roc_auc 0.8722167435007842\n"
     ]
    },
    {
     "name": "stderr",
     "output_type": "stream",
     "text": [
      "\n",
      " 16%|█▌        | 32/199 [00:00<00:01, 154.92it/s]\u001b[A\n",
      " 24%|██▍       | 48/199 [00:00<00:00, 155.43it/s]\u001b[A\n",
      " 32%|███▏      | 64/199 [00:00<00:00, 155.41it/s]\u001b[A\n",
      " 40%|████      | 80/199 [00:00<00:00, 155.80it/s]\u001b[A\n",
      " 48%|████▊     | 96/199 [00:00<00:00, 155.27it/s]\u001b[A\n",
      " 57%|█████▋    | 113/199 [00:00<00:00, 157.41it/s]\u001b[A\n",
      " 65%|██████▍   | 129/199 [00:00<00:00, 156.30it/s]\u001b[A\n",
      " 73%|███████▎  | 146/199 [00:00<00:00, 157.33it/s]\u001b[A\n",
      " 81%|████████▏ | 162/199 [00:01<00:00, 155.65it/s]\u001b[A\n",
      " 89%|████████▉ | 178/199 [00:01<00:00, 155.33it/s]\u001b[A\n",
      " 98%|█████████▊| 195/199 [00:01<00:00, 157.25it/s]\u001b[A\n",
      "100%|██████████| 199/199 [00:01<00:00, 156.57it/s]\u001b[A\n",
      "  0%|          | 0/26 [00:00<?, ?it/s]\u001b[A\n",
      "100%|██████████| 26/26 [00:00<00:00, 622.35it/s]\u001b[A"
     ]
    },
    {
     "name": "stdout",
     "output_type": "stream",
     "text": [
      "{'accuracy': 0.7904993909866017, 'roc_auc': 0.8785971436718787, 'pr_auc': 0.8829446154520174}\n"
     ]
    },
    {
     "data": {
      "text/html": [
       "<div>\n",
       "<style scoped>\n",
       "    .dataframe tbody tr th:only-of-type {\n",
       "        vertical-align: middle;\n",
       "    }\n",
       "\n",
       "    .dataframe tbody tr th {\n",
       "        vertical-align: top;\n",
       "    }\n",
       "\n",
       "    .dataframe thead th {\n",
       "        text-align: right;\n",
       "    }\n",
       "</style>\n",
       "<table border=\"1\" class=\"dataframe\">\n",
       "  <thead>\n",
       "    <tr style=\"text-align: right;\">\n",
       "      <th></th>\n",
       "      <th>0</th>\n",
       "      <th>1</th>\n",
       "      <th>micro avg</th>\n",
       "      <th>macro avg</th>\n",
       "      <th>weighted avg</th>\n",
       "    </tr>\n",
       "  </thead>\n",
       "  <tbody>\n",
       "    <tr>\n",
       "      <th>f1-score</th>\n",
       "      <td>0.784</td>\n",
       "      <td>0.796</td>\n",
       "      <td>0.79</td>\n",
       "      <td>0.79</td>\n",
       "      <td>0.791</td>\n",
       "    </tr>\n",
       "    <tr>\n",
       "      <th>precision</th>\n",
       "      <td>0.781</td>\n",
       "      <td>0.800</td>\n",
       "      <td>0.79</td>\n",
       "      <td>0.79</td>\n",
       "      <td>0.791</td>\n",
       "    </tr>\n",
       "    <tr>\n",
       "      <th>recall</th>\n",
       "      <td>0.788</td>\n",
       "      <td>0.792</td>\n",
       "      <td>0.79</td>\n",
       "      <td>0.79</td>\n",
       "      <td>0.790</td>\n",
       "    </tr>\n",
       "    <tr>\n",
       "      <th>support</th>\n",
       "      <td>397.000</td>\n",
       "      <td>424.000</td>\n",
       "      <td>821.00</td>\n",
       "      <td>821.00</td>\n",
       "      <td>821.000</td>\n",
       "    </tr>\n",
       "  </tbody>\n",
       "</table>\n",
       "</div>"
      ],
      "text/plain": [
       "                 0        1  micro avg  macro avg  weighted avg\n",
       "f1-score     0.784    0.796       0.79       0.79         0.791\n",
       "precision    0.781    0.800       0.79       0.79         0.791\n",
       "recall       0.788    0.792       0.79       0.79         0.790\n",
       "support    397.000  424.000     821.00     821.00       821.000"
      ]
     },
     "metadata": {},
     "output_type": "display_data"
    },
    {
     "name": "stderr",
     "output_type": "stream",
     "text": [
      " 75%|███████▌  | 6/8 [00:08<00:02,  1.37s/it]\n",
      "  0%|          | 0/199 [00:00<?, ?it/s]\u001b[A\n",
      "  8%|▊         | 16/199 [00:00<00:01, 158.01it/s]\u001b[A"
     ]
    },
    {
     "name": "stdout",
     "output_type": "stream",
     "text": [
      "Model not saved on  roc_auc 0.8785971436718787\n"
     ]
    },
    {
     "name": "stderr",
     "output_type": "stream",
     "text": [
      "\n",
      " 17%|█▋        | 33/199 [00:00<00:01, 158.56it/s]\u001b[A\n",
      " 25%|██▍       | 49/199 [00:00<00:00, 157.09it/s]\u001b[A\n",
      " 33%|███▎      | 66/199 [00:00<00:00, 159.18it/s]\u001b[A\n",
      " 42%|████▏     | 83/199 [00:00<00:00, 159.88it/s]\u001b[A\n",
      " 50%|████▉     | 99/199 [00:00<00:00, 158.90it/s]\u001b[A\n",
      " 58%|█████▊    | 115/199 [00:00<00:00, 156.91it/s]\u001b[A\n",
      " 66%|██████▌   | 131/199 [00:00<00:00, 155.43it/s]\u001b[A\n",
      " 74%|███████▍  | 147/199 [00:00<00:00, 155.70it/s]\u001b[A\n",
      " 82%|████████▏ | 163/199 [00:01<00:00, 154.43it/s]\u001b[A\n",
      " 90%|████████▉ | 179/199 [00:01<00:00, 155.31it/s]\u001b[A\n",
      " 98%|█████████▊| 195/199 [00:01<00:00, 154.03it/s]\u001b[A\n",
      "100%|██████████| 199/199 [00:01<00:00, 155.81it/s]\u001b[A\n",
      "  0%|          | 0/26 [00:00<?, ?it/s]\u001b[A\n",
      "100%|██████████| 26/26 [00:00<00:00, 624.96it/s]\u001b[A"
     ]
    },
    {
     "name": "stdout",
     "output_type": "stream",
     "text": [
      "{'accuracy': 0.7904993909866017, 'roc_auc': 0.8749376217860367, 'pr_auc': 0.8775612763542144}\n"
     ]
    },
    {
     "data": {
      "text/html": [
       "<div>\n",
       "<style scoped>\n",
       "    .dataframe tbody tr th:only-of-type {\n",
       "        vertical-align: middle;\n",
       "    }\n",
       "\n",
       "    .dataframe tbody tr th {\n",
       "        vertical-align: top;\n",
       "    }\n",
       "\n",
       "    .dataframe thead th {\n",
       "        text-align: right;\n",
       "    }\n",
       "</style>\n",
       "<table border=\"1\" class=\"dataframe\">\n",
       "  <thead>\n",
       "    <tr style=\"text-align: right;\">\n",
       "      <th></th>\n",
       "      <th>0</th>\n",
       "      <th>1</th>\n",
       "      <th>micro avg</th>\n",
       "      <th>macro avg</th>\n",
       "      <th>weighted avg</th>\n",
       "    </tr>\n",
       "  </thead>\n",
       "  <tbody>\n",
       "    <tr>\n",
       "      <th>f1-score</th>\n",
       "      <td>0.775</td>\n",
       "      <td>0.804</td>\n",
       "      <td>0.79</td>\n",
       "      <td>0.789</td>\n",
       "      <td>0.790</td>\n",
       "    </tr>\n",
       "    <tr>\n",
       "      <th>precision</th>\n",
       "      <td>0.807</td>\n",
       "      <td>0.778</td>\n",
       "      <td>0.79</td>\n",
       "      <td>0.792</td>\n",
       "      <td>0.792</td>\n",
       "    </tr>\n",
       "    <tr>\n",
       "      <th>recall</th>\n",
       "      <td>0.746</td>\n",
       "      <td>0.833</td>\n",
       "      <td>0.79</td>\n",
       "      <td>0.789</td>\n",
       "      <td>0.790</td>\n",
       "    </tr>\n",
       "    <tr>\n",
       "      <th>support</th>\n",
       "      <td>397.000</td>\n",
       "      <td>424.000</td>\n",
       "      <td>821.00</td>\n",
       "      <td>821.000</td>\n",
       "      <td>821.000</td>\n",
       "    </tr>\n",
       "  </tbody>\n",
       "</table>\n",
       "</div>"
      ],
      "text/plain": [
       "                 0        1  micro avg  macro avg  weighted avg\n",
       "f1-score     0.775    0.804       0.79      0.789         0.790\n",
       "precision    0.807    0.778       0.79      0.792         0.792\n",
       "recall       0.746    0.833       0.79      0.789         0.790\n",
       "support    397.000  424.000     821.00    821.000       821.000"
      ]
     },
     "metadata": {},
     "output_type": "display_data"
    },
    {
     "name": "stderr",
     "output_type": "stream",
     "text": [
      " 88%|████████▊ | 7/8 [00:09<00:01,  1.37s/it]\n",
      "  0%|          | 0/199 [00:00<?, ?it/s]\u001b[A\n",
      "  8%|▊         | 16/199 [00:00<00:01, 159.67it/s]\u001b[A"
     ]
    },
    {
     "name": "stdout",
     "output_type": "stream",
     "text": [
      "Model not saved on  roc_auc 0.8749376217860367\n"
     ]
    },
    {
     "name": "stderr",
     "output_type": "stream",
     "text": [
      "\n",
      " 16%|█▌        | 32/199 [00:00<00:01, 159.14it/s]\u001b[A\n",
      " 25%|██▍       | 49/199 [00:00<00:00, 160.82it/s]\u001b[A\n",
      " 33%|███▎      | 66/199 [00:00<00:00, 161.89it/s]\u001b[A\n",
      " 41%|████      | 82/199 [00:00<00:00, 160.91it/s]\u001b[A\n",
      " 50%|████▉     | 99/199 [00:00<00:00, 161.66it/s]\u001b[A\n",
      " 58%|█████▊    | 115/199 [00:00<00:00, 158.44it/s]\u001b[A\n",
      " 66%|██████▌   | 131/199 [00:00<00:00, 158.56it/s]\u001b[A\n",
      " 73%|███████▎  | 146/199 [00:00<00:00, 155.27it/s]\u001b[A\n",
      " 81%|████████▏ | 162/199 [00:01<00:00, 154.87it/s]\u001b[A\n",
      " 89%|████████▉ | 178/199 [00:01<00:00, 153.50it/s]\u001b[A\n",
      " 97%|█████████▋| 194/199 [00:01<00:00, 154.12it/s]\u001b[A\n",
      "100%|██████████| 199/199 [00:01<00:00, 156.87it/s]\u001b[A\n",
      "  0%|          | 0/26 [00:00<?, ?it/s]\u001b[A\n",
      "100%|██████████| 26/26 [00:00<00:00, 636.94it/s]\u001b[A"
     ]
    },
    {
     "name": "stdout",
     "output_type": "stream",
     "text": [
      "{'accuracy': 0.7807551766138855, 'roc_auc': 0.8703186635616178, 'pr_auc': 0.8746280079255888}\n"
     ]
    },
    {
     "data": {
      "text/html": [
       "<div>\n",
       "<style scoped>\n",
       "    .dataframe tbody tr th:only-of-type {\n",
       "        vertical-align: middle;\n",
       "    }\n",
       "\n",
       "    .dataframe tbody tr th {\n",
       "        vertical-align: top;\n",
       "    }\n",
       "\n",
       "    .dataframe thead th {\n",
       "        text-align: right;\n",
       "    }\n",
       "</style>\n",
       "<table border=\"1\" class=\"dataframe\">\n",
       "  <thead>\n",
       "    <tr style=\"text-align: right;\">\n",
       "      <th></th>\n",
       "      <th>0</th>\n",
       "      <th>1</th>\n",
       "      <th>micro avg</th>\n",
       "      <th>macro avg</th>\n",
       "      <th>weighted avg</th>\n",
       "    </tr>\n",
       "  </thead>\n",
       "  <tbody>\n",
       "    <tr>\n",
       "      <th>f1-score</th>\n",
       "      <td>0.767</td>\n",
       "      <td>0.793</td>\n",
       "      <td>0.781</td>\n",
       "      <td>0.780</td>\n",
       "      <td>0.780</td>\n",
       "    </tr>\n",
       "    <tr>\n",
       "      <th>precision</th>\n",
       "      <td>0.788</td>\n",
       "      <td>0.775</td>\n",
       "      <td>0.781</td>\n",
       "      <td>0.781</td>\n",
       "      <td>0.781</td>\n",
       "    </tr>\n",
       "    <tr>\n",
       "      <th>recall</th>\n",
       "      <td>0.748</td>\n",
       "      <td>0.811</td>\n",
       "      <td>0.781</td>\n",
       "      <td>0.780</td>\n",
       "      <td>0.781</td>\n",
       "    </tr>\n",
       "    <tr>\n",
       "      <th>support</th>\n",
       "      <td>397.000</td>\n",
       "      <td>424.000</td>\n",
       "      <td>821.000</td>\n",
       "      <td>821.000</td>\n",
       "      <td>821.000</td>\n",
       "    </tr>\n",
       "  </tbody>\n",
       "</table>\n",
       "</div>"
      ],
      "text/plain": [
       "                 0        1  micro avg  macro avg  weighted avg\n",
       "f1-score     0.767    0.793      0.781      0.780         0.780\n",
       "precision    0.788    0.775      0.781      0.781         0.781\n",
       "recall       0.748    0.811      0.781      0.780         0.781\n",
       "support    397.000  424.000    821.000    821.000       821.000"
      ]
     },
     "metadata": {},
     "output_type": "display_data"
    },
    {
     "name": "stderr",
     "output_type": "stream",
     "text": [
      "100%|██████████| 8/8 [00:11<00:00,  1.36s/it]\n",
      "INFO - 2019-04-23 17:47:30,710 - instantiating class <class 'Transparency.model.modules.Encoder.Encoder'> from params {'vocab_size': 13826, 'embed_size': 300, 'type': 'rnn', 'hidden_size': 128, 'pre_embed': None} and extras set()\n",
      "INFO - 2019-04-23 17:47:30,710 - type = rnn\n",
      "INFO - 2019-04-23 17:47:30,711 - instantiating class <class 'Transparency.model.modules.Encoder.EncoderRNN'> from params {'vocab_size': 13826, 'embed_size': 300, 'hidden_size': 128, 'pre_embed': None} and extras set()\n",
      "INFO - 2019-04-23 17:47:30,711 - vocab_size = 13826\n",
      "INFO - 2019-04-23 17:47:30,711 - embed_size = 300\n",
      "INFO - 2019-04-23 17:47:30,712 - hidden_size = 128\n",
      "INFO - 2019-04-23 17:47:30,712 - pre_embed = None\n",
      "INFO - 2019-04-23 17:47:30,737 - instantiating class <class 'Transparency.model.modules.Decoder.AttnDecoder'> from params {'attention': {'type': 'tanh'}, 'output_size': 1, 'hidden_size': 256} and extras set()\n",
      "INFO - 2019-04-23 17:47:30,738 - hidden_size = 256\n",
      "INFO - 2019-04-23 17:47:30,738 - output_size = 1\n",
      "INFO - 2019-04-23 17:47:30,738 - use_attention = True\n",
      "INFO - 2019-04-23 17:47:30,738 - regularizer_attention = None\n",
      "INFO - 2019-04-23 17:47:30,739 - instantiating class <class 'Transparency.model.modules.Attention.Attention'> from params <allennlp.common.params.Params object at 0x7faa46440e48> and extras set()\n",
      "INFO - 2019-04-23 17:47:30,739 - attention.type = tanh\n",
      "INFO - 2019-04-23 17:47:30,740 - type = tanh\n",
      "INFO - 2019-04-23 17:47:30,740 - instantiating class <class 'Transparency.model.modules.Attention.TanhAttention'> from params <allennlp.common.params.Params object at 0x7faa46440e48> and extras set()\n",
      "INFO - 2019-04-23 17:47:30,740 - attention.hidden_size = 256\n",
      "INFO - 2019-04-23 17:47:30,740 - hidden_size = 256\n"
     ]
    },
    {
     "name": "stdout",
     "output_type": "stream",
     "text": [
      "Model not saved on  roc_auc 0.8703186635616178\n"
     ]
    },
    {
     "name": "stderr",
     "output_type": "stream",
     "text": [
      "100%|██████████| 54/54 [00:00<00:00, 647.80it/s]"
     ]
    },
    {
     "name": "stdout",
     "output_type": "stream",
     "text": [
      "{'accuracy': 0.816231884057971, 'roc_auc': 0.8989979916817447, 'pr_auc': 0.9036437889985629}\n"
     ]
    },
    {
     "name": "stderr",
     "output_type": "stream",
     "text": [
      "\n"
     ]
    },
    {
     "data": {
      "text/html": [
       "<div>\n",
       "<style scoped>\n",
       "    .dataframe tbody tr th:only-of-type {\n",
       "        vertical-align: middle;\n",
       "    }\n",
       "\n",
       "    .dataframe tbody tr th {\n",
       "        vertical-align: top;\n",
       "    }\n",
       "\n",
       "    .dataframe thead th {\n",
       "        text-align: right;\n",
       "    }\n",
       "</style>\n",
       "<table border=\"1\" class=\"dataframe\">\n",
       "  <thead>\n",
       "    <tr style=\"text-align: right;\">\n",
       "      <th></th>\n",
       "      <th>0</th>\n",
       "      <th>1</th>\n",
       "      <th>micro avg</th>\n",
       "      <th>macro avg</th>\n",
       "      <th>weighted avg</th>\n",
       "    </tr>\n",
       "  </thead>\n",
       "  <tbody>\n",
       "    <tr>\n",
       "      <th>f1-score</th>\n",
       "      <td>0.821</td>\n",
       "      <td>0.811</td>\n",
       "      <td>0.816</td>\n",
       "      <td>0.816</td>\n",
       "      <td>0.816</td>\n",
       "    </tr>\n",
       "    <tr>\n",
       "      <th>precision</th>\n",
       "      <td>0.800</td>\n",
       "      <td>0.834</td>\n",
       "      <td>0.816</td>\n",
       "      <td>0.817</td>\n",
       "      <td>0.817</td>\n",
       "    </tr>\n",
       "    <tr>\n",
       "      <th>recall</th>\n",
       "      <td>0.844</td>\n",
       "      <td>0.789</td>\n",
       "      <td>0.816</td>\n",
       "      <td>0.816</td>\n",
       "      <td>0.816</td>\n",
       "    </tr>\n",
       "    <tr>\n",
       "      <th>support</th>\n",
       "      <td>863.000</td>\n",
       "      <td>862.000</td>\n",
       "      <td>1725.000</td>\n",
       "      <td>1725.000</td>\n",
       "      <td>1725.000</td>\n",
       "    </tr>\n",
       "  </tbody>\n",
       "</table>\n",
       "</div>"
      ],
      "text/plain": [
       "                 0        1  micro avg  macro avg  weighted avg\n",
       "f1-score     0.821    0.811      0.816      0.816         0.816\n",
       "precision    0.800    0.834      0.816      0.817         0.817\n",
       "recall       0.844    0.789      0.816      0.816         0.816\n",
       "support    863.000  862.000   1725.000   1725.000      1725.000"
      ]
     },
     "metadata": {},
     "output_type": "display_data"
    },
    {
     "name": "stderr",
     "output_type": "stream",
     "text": [
      "INFO - 2019-04-23 17:47:31,017 - instantiating class <class 'Transparency.model.modules.Encoder.Encoder'> from params {'vocab_size': 13826, 'embed_size': 300, 'type': 'rnn', 'hidden_size': 128, 'pre_embed': None} and extras set()\n",
      "INFO - 2019-04-23 17:47:31,017 - type = rnn\n",
      "INFO - 2019-04-23 17:47:31,017 - instantiating class <class 'Transparency.model.modules.Encoder.EncoderRNN'> from params {'vocab_size': 13826, 'embed_size': 300, 'hidden_size': 128, 'pre_embed': None} and extras set()\n",
      "INFO - 2019-04-23 17:47:31,018 - vocab_size = 13826\n",
      "INFO - 2019-04-23 17:47:31,018 - embed_size = 300\n",
      "INFO - 2019-04-23 17:47:31,018 - hidden_size = 128\n",
      "INFO - 2019-04-23 17:47:31,018 - pre_embed = None\n",
      "INFO - 2019-04-23 17:47:31,044 - instantiating class <class 'Transparency.model.modules.Decoder.AttnDecoder'> from params {'attention': {'type': 'tanh'}, 'output_size': 1, 'hidden_size': 256} and extras set()\n",
      "INFO - 2019-04-23 17:47:31,044 - hidden_size = 256\n",
      "INFO - 2019-04-23 17:47:31,044 - output_size = 1\n",
      "INFO - 2019-04-23 17:47:31,045 - use_attention = True\n",
      "INFO - 2019-04-23 17:47:31,045 - regularizer_attention = None\n",
      "INFO - 2019-04-23 17:47:31,045 - instantiating class <class 'Transparency.model.modules.Attention.Attention'> from params <allennlp.common.params.Params object at 0x7faa464408d0> and extras set()\n",
      "INFO - 2019-04-23 17:47:31,046 - attention.type = tanh\n",
      "INFO - 2019-04-23 17:47:31,046 - type = tanh\n",
      "INFO - 2019-04-23 17:47:31,046 - instantiating class <class 'Transparency.model.modules.Attention.TanhAttention'> from params <allennlp.common.params.Params object at 0x7faa464408d0> and extras set()\n",
      "INFO - 2019-04-23 17:47:31,046 - attention.hidden_size = 256\n",
      "INFO - 2019-04-23 17:47:31,046 - hidden_size = 256\n",
      "100%|██████████| 54/54 [00:00<00:00, 650.02it/s]"
     ]
    },
    {
     "name": "stdout",
     "output_type": "stream",
     "text": [
      "{'accuracy': 0.816231884057971, 'roc_auc': 0.8989979916817447, 'pr_auc': 0.9036437889985629}\n"
     ]
    },
    {
     "name": "stderr",
     "output_type": "stream",
     "text": [
      "\n"
     ]
    },
    {
     "data": {
      "text/html": [
       "<div>\n",
       "<style scoped>\n",
       "    .dataframe tbody tr th:only-of-type {\n",
       "        vertical-align: middle;\n",
       "    }\n",
       "\n",
       "    .dataframe tbody tr th {\n",
       "        vertical-align: top;\n",
       "    }\n",
       "\n",
       "    .dataframe thead th {\n",
       "        text-align: right;\n",
       "    }\n",
       "</style>\n",
       "<table border=\"1\" class=\"dataframe\">\n",
       "  <thead>\n",
       "    <tr style=\"text-align: right;\">\n",
       "      <th></th>\n",
       "      <th>0</th>\n",
       "      <th>1</th>\n",
       "      <th>micro avg</th>\n",
       "      <th>macro avg</th>\n",
       "      <th>weighted avg</th>\n",
       "    </tr>\n",
       "  </thead>\n",
       "  <tbody>\n",
       "    <tr>\n",
       "      <th>f1-score</th>\n",
       "      <td>0.821</td>\n",
       "      <td>0.811</td>\n",
       "      <td>0.816</td>\n",
       "      <td>0.816</td>\n",
       "      <td>0.816</td>\n",
       "    </tr>\n",
       "    <tr>\n",
       "      <th>precision</th>\n",
       "      <td>0.800</td>\n",
       "      <td>0.834</td>\n",
       "      <td>0.816</td>\n",
       "      <td>0.817</td>\n",
       "      <td>0.817</td>\n",
       "    </tr>\n",
       "    <tr>\n",
       "      <th>recall</th>\n",
       "      <td>0.844</td>\n",
       "      <td>0.789</td>\n",
       "      <td>0.816</td>\n",
       "      <td>0.816</td>\n",
       "      <td>0.816</td>\n",
       "    </tr>\n",
       "    <tr>\n",
       "      <th>support</th>\n",
       "      <td>863.000</td>\n",
       "      <td>862.000</td>\n",
       "      <td>1725.000</td>\n",
       "      <td>1725.000</td>\n",
       "      <td>1725.000</td>\n",
       "    </tr>\n",
       "  </tbody>\n",
       "</table>\n",
       "</div>"
      ],
      "text/plain": [
       "                 0        1  micro avg  macro avg  weighted avg\n",
       "f1-score     0.821    0.811      0.816      0.816         0.816\n",
       "precision    0.800    0.834      0.816      0.817         0.817\n",
       "recall       0.844    0.789      0.816      0.816         0.816\n",
       "support    863.000  862.000   1725.000   1725.000      1725.000"
      ]
     },
     "metadata": {},
     "output_type": "display_data"
    },
    {
     "name": "stderr",
     "output_type": "stream",
     "text": [
      "100%|██████████| 54/54 [00:00<00:00, 271.71it/s]\n",
      "100%|██████████| 54/54 [00:17<00:00,  3.09it/s]\n",
      "100%|██████████| 54/54 [01:11<00:00,  1.28s/it]\n",
      "100%|██████████| 54/54 [00:01<00:00, 34.56it/s]\n",
      "INFO - 2019-04-23 17:49:02,591 - instantiating class <class 'Transparency.model.modules.Encoder.Encoder'> from params {'vocab_size': 13826, 'embed_size': 300, 'projection': True, 'hidden_size': 128, 'activation': 'tanh', 'type': 'average', 'pre_embed': array([[ 0.        ,  0.        ,  0.        , ...,  0.        ,\n",
      "         0.        ,  0.        ],\n",
      "       [ 0.        ,  0.        ,  0.        , ...,  0.        ,\n",
      "         0.        ,  0.        ],\n",
      "       [ 0.        ,  0.        ,  0.        , ...,  0.        ,\n",
      "         0.        ,  0.        ],\n",
      "       ...,\n",
      "       [ 0.024119  , -0.083228  ,  0.59245002, ...,  0.013568  ,\n",
      "        -0.26155999, -0.54530001],\n",
      "       [ 0.        ,  0.        ,  0.        , ...,  0.        ,\n",
      "         0.        ,  0.        ],\n",
      "       [ 0.        ,  0.        ,  0.        , ...,  0.        ,\n",
      "         0.        ,  0.        ]])} and extras set()\n",
      "INFO - 2019-04-23 17:49:02,592 - type = average\n",
      "INFO - 2019-04-23 17:49:02,592 - instantiating class <class 'Transparency.model.modules.Encoder.EncoderAverage'> from params {'vocab_size': 13826, 'embed_size': 300, 'projection': True, 'hidden_size': 128, 'activation': 'tanh', 'pre_embed': array([[ 0.        ,  0.        ,  0.        , ...,  0.        ,\n",
      "         0.        ,  0.        ],\n",
      "       [ 0.        ,  0.        ,  0.        , ...,  0.        ,\n",
      "         0.        ,  0.        ],\n",
      "       [ 0.        ,  0.        ,  0.        , ...,  0.        ,\n",
      "         0.        ,  0.        ],\n",
      "       ...,\n",
      "       [ 0.024119  , -0.083228  ,  0.59245002, ...,  0.013568  ,\n",
      "        -0.26155999, -0.54530001],\n",
      "       [ 0.        ,  0.        ,  0.        , ...,  0.        ,\n",
      "         0.        ,  0.        ],\n",
      "       [ 0.        ,  0.        ,  0.        , ...,  0.        ,\n",
      "         0.        ,  0.        ]])} and extras set()\n",
      "INFO - 2019-04-23 17:49:02,593 - vocab_size = 13826\n",
      "INFO - 2019-04-23 17:49:02,593 - embed_size = 300\n",
      "INFO - 2019-04-23 17:49:02,593 - projection = True\n",
      "INFO - 2019-04-23 17:49:02,593 - hidden_size = 128\n",
      "INFO - 2019-04-23 17:49:02,594 - activation = tanh\n",
      "INFO - 2019-04-23 17:49:02,594 - pre_embed = [[ 0.          0.          0.         ...  0.          0.\n",
      "   0.        ]\n",
      " [ 0.          0.          0.         ...  0.          0.\n",
      "   0.        ]\n",
      " [ 0.          0.          0.         ...  0.          0.\n",
      "   0.        ]\n",
      " ...\n",
      " [ 0.024119   -0.083228    0.59245002 ...  0.013568   -0.26155999\n",
      "  -0.54530001]\n",
      " [ 0.          0.          0.         ...  0.          0.\n",
      "   0.        ]\n",
      " [ 0.          0.          0.         ...  0.          0.\n",
      "   0.        ]]\n",
      "INFO - 2019-04-23 17:49:02,602 - instantiating class <class 'Transparency.model.modules.Decoder.AttnDecoder'> from params {'attention': {'type': 'tanh'}, 'output_size': 1, 'hidden_size': 128} and extras set()\n",
      "INFO - 2019-04-23 17:49:02,602 - hidden_size = 128\n",
      "INFO - 2019-04-23 17:49:02,602 - output_size = 1\n",
      "INFO - 2019-04-23 17:49:02,603 - use_attention = True\n",
      "INFO - 2019-04-23 17:49:02,603 - regularizer_attention = None\n",
      "INFO - 2019-04-23 17:49:02,603 - instantiating class <class 'Transparency.model.modules.Attention.Attention'> from params <allennlp.common.params.Params object at 0x7faa4c4f0d68> and extras set()\n",
      "INFO - 2019-04-23 17:49:02,604 - attention.type = tanh\n",
      "INFO - 2019-04-23 17:49:02,604 - type = tanh\n",
      "INFO - 2019-04-23 17:49:02,604 - instantiating class <class 'Transparency.model.modules.Attention.TanhAttention'> from params <allennlp.common.params.Params object at 0x7faa4c4f0d68> and extras set()\n",
      "INFO - 2019-04-23 17:49:02,604 - attention.hidden_size = 128\n",
      "INFO - 2019-04-23 17:49:02,605 - hidden_size = 128\n",
      "  0%|          | 0/8 [00:00<?, ?it/s]\n",
      "  0%|          | 0/199 [00:00<?, ?it/s]\u001b[A\n",
      " 14%|█▍        | 28/199 [00:00<00:00, 276.65it/s]\u001b[A"
     ]
    },
    {
     "name": "stdout",
     "output_type": "stream",
     "text": [
      "Setting Embedding\n"
     ]
    },
    {
     "name": "stderr",
     "output_type": "stream",
     "text": [
      "\n",
      " 29%|██▊       | 57/199 [00:00<00:00, 279.56it/s]\u001b[A\n",
      " 43%|████▎     | 86/199 [00:00<00:00, 280.98it/s]\u001b[A\n",
      " 58%|█████▊    | 115/199 [00:00<00:00, 281.31it/s]\u001b[A\n",
      " 72%|███████▏  | 144/199 [00:00<00:00, 283.04it/s]\u001b[A\n",
      " 87%|████████▋ | 173/199 [00:00<00:00, 284.30it/s]\u001b[A\n",
      "100%|██████████| 199/199 [00:00<00:00, 284.05it/s]\u001b[A\n",
      "  0%|          | 0/26 [00:00<?, ?it/s]\u001b[A\n",
      "100%|██████████| 26/26 [00:00<00:00, 1461.49it/s]\u001b[A"
     ]
    },
    {
     "name": "stdout",
     "output_type": "stream",
     "text": [
      "{'accuracy': 0.7868453105968332, 'roc_auc': 0.86976023002709, 'pr_auc': 0.8869061244741636}\n"
     ]
    },
    {
     "data": {
      "text/html": [
       "<div>\n",
       "<style scoped>\n",
       "    .dataframe tbody tr th:only-of-type {\n",
       "        vertical-align: middle;\n",
       "    }\n",
       "\n",
       "    .dataframe tbody tr th {\n",
       "        vertical-align: top;\n",
       "    }\n",
       "\n",
       "    .dataframe thead th {\n",
       "        text-align: right;\n",
       "    }\n",
       "</style>\n",
       "<table border=\"1\" class=\"dataframe\">\n",
       "  <thead>\n",
       "    <tr style=\"text-align: right;\">\n",
       "      <th></th>\n",
       "      <th>0</th>\n",
       "      <th>1</th>\n",
       "      <th>micro avg</th>\n",
       "      <th>macro avg</th>\n",
       "      <th>weighted avg</th>\n",
       "    </tr>\n",
       "  </thead>\n",
       "  <tbody>\n",
       "    <tr>\n",
       "      <th>f1-score</th>\n",
       "      <td>0.781</td>\n",
       "      <td>0.792</td>\n",
       "      <td>0.787</td>\n",
       "      <td>0.787</td>\n",
       "      <td>0.787</td>\n",
       "    </tr>\n",
       "    <tr>\n",
       "      <th>precision</th>\n",
       "      <td>0.776</td>\n",
       "      <td>0.797</td>\n",
       "      <td>0.787</td>\n",
       "      <td>0.787</td>\n",
       "      <td>0.787</td>\n",
       "    </tr>\n",
       "    <tr>\n",
       "      <th>recall</th>\n",
       "      <td>0.786</td>\n",
       "      <td>0.788</td>\n",
       "      <td>0.787</td>\n",
       "      <td>0.787</td>\n",
       "      <td>0.787</td>\n",
       "    </tr>\n",
       "    <tr>\n",
       "      <th>support</th>\n",
       "      <td>397.000</td>\n",
       "      <td>424.000</td>\n",
       "      <td>821.000</td>\n",
       "      <td>821.000</td>\n",
       "      <td>821.000</td>\n",
       "    </tr>\n",
       "  </tbody>\n",
       "</table>\n",
       "</div>"
      ],
      "text/plain": [
       "                 0        1  micro avg  macro avg  weighted avg\n",
       "f1-score     0.781    0.792      0.787      0.787         0.787\n",
       "precision    0.776    0.797      0.787      0.787         0.787\n",
       "recall       0.786    0.788      0.787      0.787         0.787\n",
       "support    397.000  424.000    821.000    821.000       821.000"
      ]
     },
     "metadata": {},
     "output_type": "display_data"
    },
    {
     "name": "stderr",
     "output_type": "stream",
     "text": [
      " 12%|█▎        | 1/8 [00:00<00:05,  1.32it/s]\n",
      "  0%|          | 0/199 [00:00<?, ?it/s]\u001b[A\n",
      " 15%|█▍        | 29/199 [00:00<00:00, 288.69it/s]\u001b[A"
     ]
    },
    {
     "name": "stdout",
     "output_type": "stream",
     "text": [
      "Model not saved on  roc_auc 0.86976023002709\n"
     ]
    },
    {
     "name": "stderr",
     "output_type": "stream",
     "text": [
      "\n",
      " 29%|██▉       | 58/199 [00:00<00:00, 286.71it/s]\u001b[A\n",
      " 44%|████▎     | 87/199 [00:00<00:00, 285.57it/s]\u001b[A\n",
      " 59%|█████▉    | 117/199 [00:00<00:00, 287.49it/s]\u001b[A\n",
      " 73%|███████▎  | 146/199 [00:00<00:00, 286.31it/s]\u001b[A\n",
      " 88%|████████▊ | 176/199 [00:00<00:00, 288.41it/s]\u001b[A\n",
      "100%|██████████| 199/199 [00:00<00:00, 285.99it/s]\u001b[A\n",
      "  0%|          | 0/26 [00:00<?, ?it/s]\u001b[A\n",
      "100%|██████████| 26/26 [00:00<00:00, 1433.20it/s]\u001b[A"
     ]
    },
    {
     "name": "stdout",
     "output_type": "stream",
     "text": [
      "{'accuracy': 0.7965895249695494, 'roc_auc': 0.8826398460149233, 'pr_auc': 0.8960157080873088}\n"
     ]
    },
    {
     "data": {
      "text/html": [
       "<div>\n",
       "<style scoped>\n",
       "    .dataframe tbody tr th:only-of-type {\n",
       "        vertical-align: middle;\n",
       "    }\n",
       "\n",
       "    .dataframe tbody tr th {\n",
       "        vertical-align: top;\n",
       "    }\n",
       "\n",
       "    .dataframe thead th {\n",
       "        text-align: right;\n",
       "    }\n",
       "</style>\n",
       "<table border=\"1\" class=\"dataframe\">\n",
       "  <thead>\n",
       "    <tr style=\"text-align: right;\">\n",
       "      <th></th>\n",
       "      <th>0</th>\n",
       "      <th>1</th>\n",
       "      <th>micro avg</th>\n",
       "      <th>macro avg</th>\n",
       "      <th>weighted avg</th>\n",
       "    </tr>\n",
       "  </thead>\n",
       "  <tbody>\n",
       "    <tr>\n",
       "      <th>f1-score</th>\n",
       "      <td>0.779</td>\n",
       "      <td>0.812</td>\n",
       "      <td>0.797</td>\n",
       "      <td>0.795</td>\n",
       "      <td>0.796</td>\n",
       "    </tr>\n",
       "    <tr>\n",
       "      <th>precision</th>\n",
       "      <td>0.821</td>\n",
       "      <td>0.778</td>\n",
       "      <td>0.797</td>\n",
       "      <td>0.799</td>\n",
       "      <td>0.799</td>\n",
       "    </tr>\n",
       "    <tr>\n",
       "      <th>recall</th>\n",
       "      <td>0.741</td>\n",
       "      <td>0.849</td>\n",
       "      <td>0.797</td>\n",
       "      <td>0.795</td>\n",
       "      <td>0.797</td>\n",
       "    </tr>\n",
       "    <tr>\n",
       "      <th>support</th>\n",
       "      <td>397.000</td>\n",
       "      <td>424.000</td>\n",
       "      <td>821.000</td>\n",
       "      <td>821.000</td>\n",
       "      <td>821.000</td>\n",
       "    </tr>\n",
       "  </tbody>\n",
       "</table>\n",
       "</div>"
      ],
      "text/plain": [
       "                 0        1  micro avg  macro avg  weighted avg\n",
       "f1-score     0.779    0.812      0.797      0.795         0.796\n",
       "precision    0.821    0.778      0.797      0.799         0.799\n",
       "recall       0.741    0.849      0.797      0.795         0.797\n",
       "support    397.000  424.000    821.000    821.000       821.000"
      ]
     },
     "metadata": {},
     "output_type": "display_data"
    },
    {
     "name": "stderr",
     "output_type": "stream",
     "text": [
      " 25%|██▌       | 2/8 [00:01<00:04,  1.25it/s]\n",
      "  0%|          | 0/199 [00:00<?, ?it/s]\u001b[A"
     ]
    },
    {
     "name": "stdout",
     "output_type": "stream",
     "text": [
      "Model Saved on  roc_auc 0.8826398460149233\n"
     ]
    },
    {
     "name": "stderr",
     "output_type": "stream",
     "text": [
      "\n",
      " 14%|█▍        | 28/199 [00:00<00:00, 278.54it/s]\u001b[A\n",
      " 29%|██▊       | 57/199 [00:00<00:00, 280.58it/s]\u001b[A\n",
      " 43%|████▎     | 86/199 [00:00<00:00, 281.66it/s]\u001b[A\n",
      " 58%|█████▊    | 115/199 [00:00<00:00, 282.45it/s]\u001b[A\n",
      " 72%|███████▏  | 144/199 [00:00<00:00, 283.81it/s]\u001b[A\n",
      " 87%|████████▋ | 174/199 [00:00<00:00, 287.03it/s]\u001b[A\n",
      "100%|██████████| 199/199 [00:00<00:00, 285.49it/s]\u001b[A\n",
      "  0%|          | 0/26 [00:00<?, ?it/s]\u001b[A\n",
      "100%|██████████| 26/26 [00:00<00:00, 1442.43it/s]\u001b[A"
     ]
    },
    {
     "name": "stdout",
     "output_type": "stream",
     "text": [
      "{'accuracy': 0.7929354445797807, 'roc_auc': 0.8744593888123188, 'pr_auc': 0.8820104115434112}\n"
     ]
    },
    {
     "data": {
      "text/html": [
       "<div>\n",
       "<style scoped>\n",
       "    .dataframe tbody tr th:only-of-type {\n",
       "        vertical-align: middle;\n",
       "    }\n",
       "\n",
       "    .dataframe tbody tr th {\n",
       "        vertical-align: top;\n",
       "    }\n",
       "\n",
       "    .dataframe thead th {\n",
       "        text-align: right;\n",
       "    }\n",
       "</style>\n",
       "<table border=\"1\" class=\"dataframe\">\n",
       "  <thead>\n",
       "    <tr style=\"text-align: right;\">\n",
       "      <th></th>\n",
       "      <th>0</th>\n",
       "      <th>1</th>\n",
       "      <th>micro avg</th>\n",
       "      <th>macro avg</th>\n",
       "      <th>weighted avg</th>\n",
       "    </tr>\n",
       "  </thead>\n",
       "  <tbody>\n",
       "    <tr>\n",
       "      <th>f1-score</th>\n",
       "      <td>0.775</td>\n",
       "      <td>0.808</td>\n",
       "      <td>0.793</td>\n",
       "      <td>0.792</td>\n",
       "      <td>0.792</td>\n",
       "    </tr>\n",
       "    <tr>\n",
       "      <th>precision</th>\n",
       "      <td>0.816</td>\n",
       "      <td>0.775</td>\n",
       "      <td>0.793</td>\n",
       "      <td>0.796</td>\n",
       "      <td>0.795</td>\n",
       "    </tr>\n",
       "    <tr>\n",
       "      <th>recall</th>\n",
       "      <td>0.738</td>\n",
       "      <td>0.844</td>\n",
       "      <td>0.793</td>\n",
       "      <td>0.791</td>\n",
       "      <td>0.793</td>\n",
       "    </tr>\n",
       "    <tr>\n",
       "      <th>support</th>\n",
       "      <td>397.000</td>\n",
       "      <td>424.000</td>\n",
       "      <td>821.000</td>\n",
       "      <td>821.000</td>\n",
       "      <td>821.000</td>\n",
       "    </tr>\n",
       "  </tbody>\n",
       "</table>\n",
       "</div>"
      ],
      "text/plain": [
       "                 0        1  micro avg  macro avg  weighted avg\n",
       "f1-score     0.775    0.808      0.793      0.792         0.792\n",
       "precision    0.816    0.775      0.793      0.796         0.795\n",
       "recall       0.738    0.844      0.793      0.791         0.793\n",
       "support    397.000  424.000    821.000    821.000       821.000"
      ]
     },
     "metadata": {},
     "output_type": "display_data"
    },
    {
     "name": "stderr",
     "output_type": "stream",
     "text": [
      " 38%|███▊      | 3/8 [00:02<00:03,  1.27it/s]\n",
      "  0%|          | 0/199 [00:00<?, ?it/s]\u001b[A\n",
      " 15%|█▍        | 29/199 [00:00<00:00, 282.05it/s]\u001b[A"
     ]
    },
    {
     "name": "stdout",
     "output_type": "stream",
     "text": [
      "Model not saved on  roc_auc 0.8744593888123188\n"
     ]
    },
    {
     "name": "stderr",
     "output_type": "stream",
     "text": [
      "\n",
      " 30%|██▉       | 59/199 [00:00<00:00, 284.81it/s]\u001b[A\n",
      " 44%|████▍     | 88/199 [00:00<00:00, 285.10it/s]\u001b[A\n",
      " 59%|█████▉    | 117/199 [00:00<00:00, 286.27it/s]\u001b[A\n",
      " 74%|███████▍  | 147/199 [00:00<00:00, 288.40it/s]\u001b[A\n",
      " 89%|████████▉ | 177/199 [00:00<00:00, 289.01it/s]\u001b[A\n",
      "100%|██████████| 199/199 [00:00<00:00, 288.74it/s]\u001b[A\n",
      "  0%|          | 0/26 [00:00<?, ?it/s]\u001b[A\n",
      "100%|██████████| 26/26 [00:00<00:00, 1445.51it/s]\u001b[A"
     ]
    },
    {
     "name": "stdout",
     "output_type": "stream",
     "text": [
      "{'accuracy': 0.7917174177831913, 'roc_auc': 0.8755109072762701, 'pr_auc': 0.8849636824510771}\n"
     ]
    },
    {
     "data": {
      "text/html": [
       "<div>\n",
       "<style scoped>\n",
       "    .dataframe tbody tr th:only-of-type {\n",
       "        vertical-align: middle;\n",
       "    }\n",
       "\n",
       "    .dataframe tbody tr th {\n",
       "        vertical-align: top;\n",
       "    }\n",
       "\n",
       "    .dataframe thead th {\n",
       "        text-align: right;\n",
       "    }\n",
       "</style>\n",
       "<table border=\"1\" class=\"dataframe\">\n",
       "  <thead>\n",
       "    <tr style=\"text-align: right;\">\n",
       "      <th></th>\n",
       "      <th>0</th>\n",
       "      <th>1</th>\n",
       "      <th>micro avg</th>\n",
       "      <th>macro avg</th>\n",
       "      <th>weighted avg</th>\n",
       "    </tr>\n",
       "  </thead>\n",
       "  <tbody>\n",
       "    <tr>\n",
       "      <th>f1-score</th>\n",
       "      <td>0.772</td>\n",
       "      <td>0.809</td>\n",
       "      <td>0.792</td>\n",
       "      <td>0.790</td>\n",
       "      <td>0.791</td>\n",
       "    </tr>\n",
       "    <tr>\n",
       "      <th>precision</th>\n",
       "      <td>0.821</td>\n",
       "      <td>0.770</td>\n",
       "      <td>0.792</td>\n",
       "      <td>0.795</td>\n",
       "      <td>0.795</td>\n",
       "    </tr>\n",
       "    <tr>\n",
       "      <th>recall</th>\n",
       "      <td>0.728</td>\n",
       "      <td>0.851</td>\n",
       "      <td>0.792</td>\n",
       "      <td>0.790</td>\n",
       "      <td>0.792</td>\n",
       "    </tr>\n",
       "    <tr>\n",
       "      <th>support</th>\n",
       "      <td>397.000</td>\n",
       "      <td>424.000</td>\n",
       "      <td>821.000</td>\n",
       "      <td>821.000</td>\n",
       "      <td>821.000</td>\n",
       "    </tr>\n",
       "  </tbody>\n",
       "</table>\n",
       "</div>"
      ],
      "text/plain": [
       "                 0        1  micro avg  macro avg  weighted avg\n",
       "f1-score     0.772    0.809      0.792      0.790         0.791\n",
       "precision    0.821    0.770      0.792      0.795         0.795\n",
       "recall       0.728    0.851      0.792      0.790         0.792\n",
       "support    397.000  424.000    821.000    821.000       821.000"
      ]
     },
     "metadata": {},
     "output_type": "display_data"
    },
    {
     "name": "stderr",
     "output_type": "stream",
     "text": [
      " 50%|█████     | 4/8 [00:03<00:03,  1.29it/s]\n",
      "  0%|          | 0/199 [00:00<?, ?it/s]\u001b[A\n",
      " 15%|█▍        | 29/199 [00:00<00:00, 282.92it/s]\u001b[A"
     ]
    },
    {
     "name": "stdout",
     "output_type": "stream",
     "text": [
      "Model not saved on  roc_auc 0.8755109072762701\n"
     ]
    },
    {
     "name": "stderr",
     "output_type": "stream",
     "text": [
      "\n",
      " 30%|██▉       | 59/199 [00:00<00:00, 285.79it/s]\u001b[A\n",
      " 44%|████▍     | 88/199 [00:00<00:00, 286.77it/s]\u001b[A\n",
      " 59%|█████▉    | 118/199 [00:00<00:00, 288.73it/s]\u001b[A\n",
      " 74%|███████▍  | 148/199 [00:00<00:00, 289.35it/s]\u001b[A\n",
      " 89%|████████▉ | 177/199 [00:00<00:00, 289.07it/s]\u001b[A\n",
      "100%|██████████| 199/199 [00:00<00:00, 288.37it/s]\u001b[A\n",
      "  0%|          | 0/26 [00:00<?, ?it/s]\u001b[A\n",
      "100%|██████████| 26/26 [00:00<00:00, 1429.25it/s]\u001b[A"
     ]
    },
    {
     "name": "stdout",
     "output_type": "stream",
     "text": [
      "{'accuracy': 0.7904993909866017, 'roc_auc': 0.8636946913169526, 'pr_auc': 0.8690316959831348}\n"
     ]
    },
    {
     "data": {
      "text/html": [
       "<div>\n",
       "<style scoped>\n",
       "    .dataframe tbody tr th:only-of-type {\n",
       "        vertical-align: middle;\n",
       "    }\n",
       "\n",
       "    .dataframe tbody tr th {\n",
       "        vertical-align: top;\n",
       "    }\n",
       "\n",
       "    .dataframe thead th {\n",
       "        text-align: right;\n",
       "    }\n",
       "</style>\n",
       "<table border=\"1\" class=\"dataframe\">\n",
       "  <thead>\n",
       "    <tr style=\"text-align: right;\">\n",
       "      <th></th>\n",
       "      <th>0</th>\n",
       "      <th>1</th>\n",
       "      <th>micro avg</th>\n",
       "      <th>macro avg</th>\n",
       "      <th>weighted avg</th>\n",
       "    </tr>\n",
       "  </thead>\n",
       "  <tbody>\n",
       "    <tr>\n",
       "      <th>f1-score</th>\n",
       "      <td>0.778</td>\n",
       "      <td>0.801</td>\n",
       "      <td>0.79</td>\n",
       "      <td>0.790</td>\n",
       "      <td>0.790</td>\n",
       "    </tr>\n",
       "    <tr>\n",
       "      <th>precision</th>\n",
       "      <td>0.797</td>\n",
       "      <td>0.785</td>\n",
       "      <td>0.79</td>\n",
       "      <td>0.791</td>\n",
       "      <td>0.791</td>\n",
       "    </tr>\n",
       "    <tr>\n",
       "      <th>recall</th>\n",
       "      <td>0.761</td>\n",
       "      <td>0.818</td>\n",
       "      <td>0.79</td>\n",
       "      <td>0.790</td>\n",
       "      <td>0.790</td>\n",
       "    </tr>\n",
       "    <tr>\n",
       "      <th>support</th>\n",
       "      <td>397.000</td>\n",
       "      <td>424.000</td>\n",
       "      <td>821.00</td>\n",
       "      <td>821.000</td>\n",
       "      <td>821.000</td>\n",
       "    </tr>\n",
       "  </tbody>\n",
       "</table>\n",
       "</div>"
      ],
      "text/plain": [
       "                 0        1  micro avg  macro avg  weighted avg\n",
       "f1-score     0.778    0.801       0.79      0.790         0.790\n",
       "precision    0.797    0.785       0.79      0.791         0.791\n",
       "recall       0.761    0.818       0.79      0.790         0.790\n",
       "support    397.000  424.000     821.00    821.000       821.000"
      ]
     },
     "metadata": {},
     "output_type": "display_data"
    },
    {
     "name": "stderr",
     "output_type": "stream",
     "text": [
      " 62%|██████▎   | 5/8 [00:03<00:02,  1.30it/s]\n",
      "  0%|          | 0/199 [00:00<?, ?it/s]\u001b[A\n",
      " 15%|█▌        | 30/199 [00:00<00:00, 290.61it/s]\u001b[A"
     ]
    },
    {
     "name": "stdout",
     "output_type": "stream",
     "text": [
      "Model not saved on  roc_auc 0.8636946913169526\n"
     ]
    },
    {
     "name": "stderr",
     "output_type": "stream",
     "text": [
      "\n",
      " 30%|██▉       | 59/199 [00:00<00:00, 288.15it/s]\u001b[A\n",
      " 44%|████▍     | 88/199 [00:00<00:00, 288.12it/s]\u001b[A\n",
      " 59%|█████▉    | 117/199 [00:00<00:00, 287.86it/s]\u001b[A\n",
      " 73%|███████▎  | 146/199 [00:00<00:00, 288.35it/s]\u001b[A\n",
      " 88%|████████▊ | 175/199 [00:00<00:00, 287.64it/s]\u001b[A\n",
      "100%|██████████| 199/199 [00:00<00:00, 286.29it/s]\u001b[A\n",
      "  0%|          | 0/26 [00:00<?, ?it/s]\u001b[A\n",
      "100%|██████████| 26/26 [00:00<00:00, 1438.09it/s]\u001b[A"
     ]
    },
    {
     "name": "stdout",
     "output_type": "stream",
     "text": [
      "{'accuracy': 0.7904993909866017, 'roc_auc': 0.8625035644693693, 'pr_auc': 0.8667113394920446}\n"
     ]
    },
    {
     "data": {
      "text/html": [
       "<div>\n",
       "<style scoped>\n",
       "    .dataframe tbody tr th:only-of-type {\n",
       "        vertical-align: middle;\n",
       "    }\n",
       "\n",
       "    .dataframe tbody tr th {\n",
       "        vertical-align: top;\n",
       "    }\n",
       "\n",
       "    .dataframe thead th {\n",
       "        text-align: right;\n",
       "    }\n",
       "</style>\n",
       "<table border=\"1\" class=\"dataframe\">\n",
       "  <thead>\n",
       "    <tr style=\"text-align: right;\">\n",
       "      <th></th>\n",
       "      <th>0</th>\n",
       "      <th>1</th>\n",
       "      <th>micro avg</th>\n",
       "      <th>macro avg</th>\n",
       "      <th>weighted avg</th>\n",
       "    </tr>\n",
       "  </thead>\n",
       "  <tbody>\n",
       "    <tr>\n",
       "      <th>f1-score</th>\n",
       "      <td>0.782</td>\n",
       "      <td>0.798</td>\n",
       "      <td>0.79</td>\n",
       "      <td>0.79</td>\n",
       "      <td>0.79</td>\n",
       "    </tr>\n",
       "    <tr>\n",
       "      <th>precision</th>\n",
       "      <td>0.786</td>\n",
       "      <td>0.794</td>\n",
       "      <td>0.79</td>\n",
       "      <td>0.79</td>\n",
       "      <td>0.79</td>\n",
       "    </tr>\n",
       "    <tr>\n",
       "      <th>recall</th>\n",
       "      <td>0.778</td>\n",
       "      <td>0.802</td>\n",
       "      <td>0.79</td>\n",
       "      <td>0.79</td>\n",
       "      <td>0.79</td>\n",
       "    </tr>\n",
       "    <tr>\n",
       "      <th>support</th>\n",
       "      <td>397.000</td>\n",
       "      <td>424.000</td>\n",
       "      <td>821.00</td>\n",
       "      <td>821.00</td>\n",
       "      <td>821.00</td>\n",
       "    </tr>\n",
       "  </tbody>\n",
       "</table>\n",
       "</div>"
      ],
      "text/plain": [
       "                 0        1  micro avg  macro avg  weighted avg\n",
       "f1-score     0.782    0.798       0.79       0.79          0.79\n",
       "precision    0.786    0.794       0.79       0.79          0.79\n",
       "recall       0.778    0.802       0.79       0.79          0.79\n",
       "support    397.000  424.000     821.00     821.00        821.00"
      ]
     },
     "metadata": {},
     "output_type": "display_data"
    },
    {
     "name": "stderr",
     "output_type": "stream",
     "text": [
      " 75%|███████▌  | 6/8 [00:04<00:01,  1.31it/s]\n",
      "  0%|          | 0/199 [00:00<?, ?it/s]\u001b[A\n",
      " 15%|█▍        | 29/199 [00:00<00:00, 286.48it/s]\u001b[A"
     ]
    },
    {
     "name": "stdout",
     "output_type": "stream",
     "text": [
      "Model not saved on  roc_auc 0.8625035644693693\n"
     ]
    },
    {
     "name": "stderr",
     "output_type": "stream",
     "text": [
      "\n",
      " 29%|██▉       | 58/199 [00:00<00:00, 286.69it/s]\u001b[A\n",
      " 44%|████▍     | 88/199 [00:00<00:00, 287.57it/s]\u001b[A\n",
      " 59%|█████▉    | 117/199 [00:00<00:00, 286.20it/s]\u001b[A\n",
      " 73%|███████▎  | 146/199 [00:00<00:00, 286.19it/s]\u001b[A\n",
      " 88%|████████▊ | 176/199 [00:00<00:00, 287.63it/s]\u001b[A\n",
      "100%|██████████| 199/199 [00:00<00:00, 287.12it/s]\u001b[A\n",
      "  0%|          | 0/26 [00:00<?, ?it/s]\u001b[A\n",
      "100%|██████████| 26/26 [00:00<00:00, 1400.08it/s]\u001b[A"
     ]
    },
    {
     "name": "stdout",
     "output_type": "stream",
     "text": [
      "{'accuracy': 0.7697929354445798, 'roc_auc': 0.8551607575685567, 'pr_auc': 0.8575028395654174}\n"
     ]
    },
    {
     "data": {
      "text/html": [
       "<div>\n",
       "<style scoped>\n",
       "    .dataframe tbody tr th:only-of-type {\n",
       "        vertical-align: middle;\n",
       "    }\n",
       "\n",
       "    .dataframe tbody tr th {\n",
       "        vertical-align: top;\n",
       "    }\n",
       "\n",
       "    .dataframe thead th {\n",
       "        text-align: right;\n",
       "    }\n",
       "</style>\n",
       "<table border=\"1\" class=\"dataframe\">\n",
       "  <thead>\n",
       "    <tr style=\"text-align: right;\">\n",
       "      <th></th>\n",
       "      <th>0</th>\n",
       "      <th>1</th>\n",
       "      <th>micro avg</th>\n",
       "      <th>macro avg</th>\n",
       "      <th>weighted avg</th>\n",
       "    </tr>\n",
       "  </thead>\n",
       "  <tbody>\n",
       "    <tr>\n",
       "      <th>f1-score</th>\n",
       "      <td>0.745</td>\n",
       "      <td>0.790</td>\n",
       "      <td>0.77</td>\n",
       "      <td>0.768</td>\n",
       "      <td>0.768</td>\n",
       "    </tr>\n",
       "    <tr>\n",
       "      <th>precision</th>\n",
       "      <td>0.802</td>\n",
       "      <td>0.746</td>\n",
       "      <td>0.77</td>\n",
       "      <td>0.774</td>\n",
       "      <td>0.773</td>\n",
       "    </tr>\n",
       "    <tr>\n",
       "      <th>recall</th>\n",
       "      <td>0.695</td>\n",
       "      <td>0.840</td>\n",
       "      <td>0.77</td>\n",
       "      <td>0.767</td>\n",
       "      <td>0.770</td>\n",
       "    </tr>\n",
       "    <tr>\n",
       "      <th>support</th>\n",
       "      <td>397.000</td>\n",
       "      <td>424.000</td>\n",
       "      <td>821.00</td>\n",
       "      <td>821.000</td>\n",
       "      <td>821.000</td>\n",
       "    </tr>\n",
       "  </tbody>\n",
       "</table>\n",
       "</div>"
      ],
      "text/plain": [
       "                 0        1  micro avg  macro avg  weighted avg\n",
       "f1-score     0.745    0.790       0.77      0.768         0.768\n",
       "precision    0.802    0.746       0.77      0.774         0.773\n",
       "recall       0.695    0.840       0.77      0.767         0.770\n",
       "support    397.000  424.000     821.00    821.000       821.000"
      ]
     },
     "metadata": {},
     "output_type": "display_data"
    },
    {
     "name": "stderr",
     "output_type": "stream",
     "text": [
      " 88%|████████▊ | 7/8 [00:05<00:00,  1.32it/s]\n",
      "  0%|          | 0/199 [00:00<?, ?it/s]\u001b[A\n",
      " 15%|█▍        | 29/199 [00:00<00:00, 288.48it/s]\u001b[A"
     ]
    },
    {
     "name": "stdout",
     "output_type": "stream",
     "text": [
      "Model not saved on  roc_auc 0.8551607575685567\n"
     ]
    },
    {
     "name": "stderr",
     "output_type": "stream",
     "text": [
      "\n",
      " 30%|██▉       | 59/199 [00:00<00:00, 289.21it/s]\u001b[A\n",
      " 44%|████▍     | 88/199 [00:00<00:00, 288.07it/s]\u001b[A\n",
      " 59%|█████▉    | 117/199 [00:00<00:00, 286.78it/s]\u001b[A\n",
      " 73%|███████▎  | 146/199 [00:00<00:00, 284.67it/s]\u001b[A\n",
      " 88%|████████▊ | 175/199 [00:00<00:00, 284.86it/s]\u001b[A\n",
      "100%|██████████| 199/199 [00:00<00:00, 286.19it/s]\u001b[A\n",
      "  0%|          | 0/26 [00:00<?, ?it/s]\u001b[A\n",
      "100%|██████████| 26/26 [00:00<00:00, 1480.56it/s]\u001b[A"
     ]
    },
    {
     "name": "stdout",
     "output_type": "stream",
     "text": [
      "{'accuracy': 0.7697929354445798, 'roc_auc': 0.8487536238771922, 'pr_auc': 0.8480646195178585}\n"
     ]
    },
    {
     "data": {
      "text/html": [
       "<div>\n",
       "<style scoped>\n",
       "    .dataframe tbody tr th:only-of-type {\n",
       "        vertical-align: middle;\n",
       "    }\n",
       "\n",
       "    .dataframe tbody tr th {\n",
       "        vertical-align: top;\n",
       "    }\n",
       "\n",
       "    .dataframe thead th {\n",
       "        text-align: right;\n",
       "    }\n",
       "</style>\n",
       "<table border=\"1\" class=\"dataframe\">\n",
       "  <thead>\n",
       "    <tr style=\"text-align: right;\">\n",
       "      <th></th>\n",
       "      <th>0</th>\n",
       "      <th>1</th>\n",
       "      <th>micro avg</th>\n",
       "      <th>macro avg</th>\n",
       "      <th>weighted avg</th>\n",
       "    </tr>\n",
       "  </thead>\n",
       "  <tbody>\n",
       "    <tr>\n",
       "      <th>f1-score</th>\n",
       "      <td>0.749</td>\n",
       "      <td>0.787</td>\n",
       "      <td>0.77</td>\n",
       "      <td>0.768</td>\n",
       "      <td>0.769</td>\n",
       "    </tr>\n",
       "    <tr>\n",
       "      <th>precision</th>\n",
       "      <td>0.792</td>\n",
       "      <td>0.753</td>\n",
       "      <td>0.77</td>\n",
       "      <td>0.772</td>\n",
       "      <td>0.772</td>\n",
       "    </tr>\n",
       "    <tr>\n",
       "      <th>recall</th>\n",
       "      <td>0.710</td>\n",
       "      <td>0.825</td>\n",
       "      <td>0.77</td>\n",
       "      <td>0.768</td>\n",
       "      <td>0.770</td>\n",
       "    </tr>\n",
       "    <tr>\n",
       "      <th>support</th>\n",
       "      <td>397.000</td>\n",
       "      <td>424.000</td>\n",
       "      <td>821.00</td>\n",
       "      <td>821.000</td>\n",
       "      <td>821.000</td>\n",
       "    </tr>\n",
       "  </tbody>\n",
       "</table>\n",
       "</div>"
      ],
      "text/plain": [
       "                 0        1  micro avg  macro avg  weighted avg\n",
       "f1-score     0.749    0.787       0.77      0.768         0.769\n",
       "precision    0.792    0.753       0.77      0.772         0.772\n",
       "recall       0.710    0.825       0.77      0.768         0.770\n",
       "support    397.000  424.000     821.00    821.000       821.000"
      ]
     },
     "metadata": {},
     "output_type": "display_data"
    },
    {
     "name": "stderr",
     "output_type": "stream",
     "text": [
      "100%|██████████| 8/8 [00:06<00:00,  1.32it/s]\n",
      "INFO - 2019-04-23 17:49:08,775 - instantiating class <class 'Transparency.model.modules.Encoder.Encoder'> from params {'vocab_size': 13826, 'embed_size': 300, 'projection': True, 'hidden_size': 128, 'activation': 'tanh', 'type': 'average', 'pre_embed': None} and extras set()\n",
      "INFO - 2019-04-23 17:49:08,776 - type = average\n",
      "INFO - 2019-04-23 17:49:08,776 - instantiating class <class 'Transparency.model.modules.Encoder.EncoderAverage'> from params {'vocab_size': 13826, 'embed_size': 300, 'projection': True, 'hidden_size': 128, 'activation': 'tanh', 'pre_embed': None} and extras set()\n",
      "INFO - 2019-04-23 17:49:08,776 - vocab_size = 13826\n",
      "INFO - 2019-04-23 17:49:08,776 - embed_size = 300\n",
      "INFO - 2019-04-23 17:49:08,777 - projection = True\n",
      "INFO - 2019-04-23 17:49:08,777 - hidden_size = 128\n",
      "INFO - 2019-04-23 17:49:08,777 - activation = tanh\n",
      "INFO - 2019-04-23 17:49:08,777 - pre_embed = None\n",
      "INFO - 2019-04-23 17:49:08,799 - instantiating class <class 'Transparency.model.modules.Decoder.AttnDecoder'> from params {'attention': {'type': 'tanh'}, 'output_size': 1, 'hidden_size': 128} and extras set()\n",
      "INFO - 2019-04-23 17:49:08,800 - hidden_size = 128\n",
      "INFO - 2019-04-23 17:49:08,800 - output_size = 1\n",
      "INFO - 2019-04-23 17:49:08,800 - use_attention = True\n",
      "INFO - 2019-04-23 17:49:08,800 - regularizer_attention = None\n",
      "INFO - 2019-04-23 17:49:08,801 - instantiating class <class 'Transparency.model.modules.Attention.Attention'> from params <allennlp.common.params.Params object at 0x7faa46440668> and extras set()\n",
      "INFO - 2019-04-23 17:49:08,801 - attention.type = tanh\n",
      "INFO - 2019-04-23 17:49:08,802 - type = tanh\n",
      "INFO - 2019-04-23 17:49:08,802 - instantiating class <class 'Transparency.model.modules.Attention.TanhAttention'> from params <allennlp.common.params.Params object at 0x7faa46440668> and extras set()\n",
      "INFO - 2019-04-23 17:49:08,802 - attention.hidden_size = 128\n",
      "INFO - 2019-04-23 17:49:08,802 - hidden_size = 128\n",
      "  0%|          | 0/54 [00:00<?, ?it/s]"
     ]
    },
    {
     "name": "stdout",
     "output_type": "stream",
     "text": [
      "Model not saved on  roc_auc 0.8487536238771922\n"
     ]
    },
    {
     "name": "stderr",
     "output_type": "stream",
     "text": [
      "100%|██████████| 54/54 [00:00<00:00, 1507.59it/s]\n"
     ]
    },
    {
     "name": "stdout",
     "output_type": "stream",
     "text": [
      "{'accuracy': 0.808695652173913, 'roc_auc': 0.8945565703193683, 'pr_auc': 0.9014417205289138}\n"
     ]
    },
    {
     "data": {
      "text/html": [
       "<div>\n",
       "<style scoped>\n",
       "    .dataframe tbody tr th:only-of-type {\n",
       "        vertical-align: middle;\n",
       "    }\n",
       "\n",
       "    .dataframe tbody tr th {\n",
       "        vertical-align: top;\n",
       "    }\n",
       "\n",
       "    .dataframe thead th {\n",
       "        text-align: right;\n",
       "    }\n",
       "</style>\n",
       "<table border=\"1\" class=\"dataframe\">\n",
       "  <thead>\n",
       "    <tr style=\"text-align: right;\">\n",
       "      <th></th>\n",
       "      <th>0</th>\n",
       "      <th>1</th>\n",
       "      <th>micro avg</th>\n",
       "      <th>macro avg</th>\n",
       "      <th>weighted avg</th>\n",
       "    </tr>\n",
       "  </thead>\n",
       "  <tbody>\n",
       "    <tr>\n",
       "      <th>f1-score</th>\n",
       "      <td>0.796</td>\n",
       "      <td>0.820</td>\n",
       "      <td>0.809</td>\n",
       "      <td>0.808</td>\n",
       "      <td>0.808</td>\n",
       "    </tr>\n",
       "    <tr>\n",
       "      <th>precision</th>\n",
       "      <td>0.852</td>\n",
       "      <td>0.775</td>\n",
       "      <td>0.809</td>\n",
       "      <td>0.813</td>\n",
       "      <td>0.813</td>\n",
       "    </tr>\n",
       "    <tr>\n",
       "      <th>recall</th>\n",
       "      <td>0.747</td>\n",
       "      <td>0.870</td>\n",
       "      <td>0.809</td>\n",
       "      <td>0.809</td>\n",
       "      <td>0.809</td>\n",
       "    </tr>\n",
       "    <tr>\n",
       "      <th>support</th>\n",
       "      <td>863.000</td>\n",
       "      <td>862.000</td>\n",
       "      <td>1725.000</td>\n",
       "      <td>1725.000</td>\n",
       "      <td>1725.000</td>\n",
       "    </tr>\n",
       "  </tbody>\n",
       "</table>\n",
       "</div>"
      ],
      "text/plain": [
       "                 0        1  micro avg  macro avg  weighted avg\n",
       "f1-score     0.796    0.820      0.809      0.808         0.808\n",
       "precision    0.852    0.775      0.809      0.813         0.813\n",
       "recall       0.747    0.870      0.809      0.809         0.809\n",
       "support    863.000  862.000   1725.000   1725.000      1725.000"
      ]
     },
     "metadata": {},
     "output_type": "display_data"
    },
    {
     "name": "stderr",
     "output_type": "stream",
     "text": [
      "INFO - 2019-04-23 17:49:09,014 - instantiating class <class 'Transparency.model.modules.Encoder.Encoder'> from params {'vocab_size': 13826, 'embed_size': 300, 'projection': True, 'hidden_size': 128, 'activation': 'tanh', 'type': 'average', 'pre_embed': None} and extras set()\n",
      "INFO - 2019-04-23 17:49:09,014 - type = average\n",
      "INFO - 2019-04-23 17:49:09,014 - instantiating class <class 'Transparency.model.modules.Encoder.EncoderAverage'> from params {'vocab_size': 13826, 'embed_size': 300, 'projection': True, 'hidden_size': 128, 'activation': 'tanh', 'pre_embed': None} and extras set()\n",
      "INFO - 2019-04-23 17:49:09,015 - vocab_size = 13826\n",
      "INFO - 2019-04-23 17:49:09,015 - embed_size = 300\n",
      "INFO - 2019-04-23 17:49:09,015 - projection = True\n",
      "INFO - 2019-04-23 17:49:09,015 - hidden_size = 128\n",
      "INFO - 2019-04-23 17:49:09,016 - activation = tanh\n",
      "INFO - 2019-04-23 17:49:09,016 - pre_embed = None\n",
      "INFO - 2019-04-23 17:49:09,042 - instantiating class <class 'Transparency.model.modules.Decoder.AttnDecoder'> from params {'attention': {'type': 'tanh'}, 'output_size': 1, 'hidden_size': 128} and extras set()\n",
      "INFO - 2019-04-23 17:49:09,042 - hidden_size = 128\n",
      "INFO - 2019-04-23 17:49:09,042 - output_size = 1\n",
      "INFO - 2019-04-23 17:49:09,043 - use_attention = True\n",
      "INFO - 2019-04-23 17:49:09,043 - regularizer_attention = None\n",
      "INFO - 2019-04-23 17:49:09,044 - instantiating class <class 'Transparency.model.modules.Attention.Attention'> from params <allennlp.common.params.Params object at 0x7faa46440518> and extras set()\n",
      "INFO - 2019-04-23 17:49:09,044 - attention.type = tanh\n",
      "INFO - 2019-04-23 17:49:09,044 - type = tanh\n",
      "INFO - 2019-04-23 17:49:09,044 - instantiating class <class 'Transparency.model.modules.Attention.TanhAttention'> from params <allennlp.common.params.Params object at 0x7faa46440518> and extras set()\n",
      "INFO - 2019-04-23 17:49:09,044 - attention.hidden_size = 128\n",
      "INFO - 2019-04-23 17:49:09,045 - hidden_size = 128\n",
      "100%|██████████| 54/54 [00:00<00:00, 1430.87it/s]"
     ]
    },
    {
     "name": "stdout",
     "output_type": "stream",
     "text": [
      "{'accuracy': 0.808695652173913, 'roc_auc': 0.8945565703193683, 'pr_auc': 0.9014417205289138}\n"
     ]
    },
    {
     "name": "stderr",
     "output_type": "stream",
     "text": [
      "\n"
     ]
    },
    {
     "data": {
      "text/html": [
       "<div>\n",
       "<style scoped>\n",
       "    .dataframe tbody tr th:only-of-type {\n",
       "        vertical-align: middle;\n",
       "    }\n",
       "\n",
       "    .dataframe tbody tr th {\n",
       "        vertical-align: top;\n",
       "    }\n",
       "\n",
       "    .dataframe thead th {\n",
       "        text-align: right;\n",
       "    }\n",
       "</style>\n",
       "<table border=\"1\" class=\"dataframe\">\n",
       "  <thead>\n",
       "    <tr style=\"text-align: right;\">\n",
       "      <th></th>\n",
       "      <th>0</th>\n",
       "      <th>1</th>\n",
       "      <th>micro avg</th>\n",
       "      <th>macro avg</th>\n",
       "      <th>weighted avg</th>\n",
       "    </tr>\n",
       "  </thead>\n",
       "  <tbody>\n",
       "    <tr>\n",
       "      <th>f1-score</th>\n",
       "      <td>0.796</td>\n",
       "      <td>0.820</td>\n",
       "      <td>0.809</td>\n",
       "      <td>0.808</td>\n",
       "      <td>0.808</td>\n",
       "    </tr>\n",
       "    <tr>\n",
       "      <th>precision</th>\n",
       "      <td>0.852</td>\n",
       "      <td>0.775</td>\n",
       "      <td>0.809</td>\n",
       "      <td>0.813</td>\n",
       "      <td>0.813</td>\n",
       "    </tr>\n",
       "    <tr>\n",
       "      <th>recall</th>\n",
       "      <td>0.747</td>\n",
       "      <td>0.870</td>\n",
       "      <td>0.809</td>\n",
       "      <td>0.809</td>\n",
       "      <td>0.809</td>\n",
       "    </tr>\n",
       "    <tr>\n",
       "      <th>support</th>\n",
       "      <td>863.000</td>\n",
       "      <td>862.000</td>\n",
       "      <td>1725.000</td>\n",
       "      <td>1725.000</td>\n",
       "      <td>1725.000</td>\n",
       "    </tr>\n",
       "  </tbody>\n",
       "</table>\n",
       "</div>"
      ],
      "text/plain": [
       "                 0        1  micro avg  macro avg  weighted avg\n",
       "f1-score     0.796    0.820      0.809      0.808         0.808\n",
       "precision    0.852    0.775      0.809      0.813         0.813\n",
       "recall       0.747    0.870      0.809      0.809         0.809\n",
       "support    863.000  862.000   1725.000   1725.000      1725.000"
      ]
     },
     "metadata": {},
     "output_type": "display_data"
    },
    {
     "name": "stderr",
     "output_type": "stream",
     "text": [
      "100%|██████████| 54/54 [00:00<00:00, 523.51it/s]\n",
      "100%|██████████| 54/54 [00:18<00:00,  3.02it/s]\n",
      "100%|██████████| 54/54 [01:12<00:00,  1.36s/it]\n",
      "100%|██████████| 54/54 [00:00<00:00, 81.55it/s]\n"
     ]
    },
    {
     "ename": "KeyError",
     "evalue": "'<Transparency.Trainers.DatasetBC.Dataset'",
     "output_type": "error",
     "traceback": [
      "\u001b[0;31m---------------------------------------------------------------------------\u001b[0m",
      "\u001b[0;31mKeyError\u001b[0m                                  Traceback (most recent call last)",
      "\u001b[0;32m~/gil/Transparency/train_and_run_experiments_bc.py\u001b[0m in \u001b[0;36m<module>\u001b[0;34m\u001b[0m\n\u001b[1;32m     13\u001b[0m \u001b[0;32mfrom\u001b[0m \u001b[0mTransparency\u001b[0m\u001b[0;34m.\u001b[0m\u001b[0mExperimentsBC\u001b[0m \u001b[0;32mimport\u001b[0m \u001b[0;34m*\u001b[0m\u001b[0;34m\u001b[0m\u001b[0;34m\u001b[0m\u001b[0m\n\u001b[1;32m     14\u001b[0m \u001b[0;34m\u001b[0m\u001b[0m\n\u001b[0;32m---> 15\u001b[0;31m \u001b[0mdataset\u001b[0m \u001b[0;34m=\u001b[0m \u001b[0mdatasets\u001b[0m\u001b[0;34m[\u001b[0m\u001b[0margs\u001b[0m\u001b[0;34m.\u001b[0m\u001b[0mdataset\u001b[0m\u001b[0;34m]\u001b[0m\u001b[0;34m(\u001b[0m\u001b[0margs\u001b[0m\u001b[0;34m)\u001b[0m\u001b[0;34m\u001b[0m\u001b[0;34m\u001b[0m\u001b[0m\n\u001b[0m\u001b[1;32m     16\u001b[0m \u001b[0;34m\u001b[0m\u001b[0m\n\u001b[1;32m     17\u001b[0m \u001b[0;32mif\u001b[0m \u001b[0margs\u001b[0m\u001b[0;34m.\u001b[0m\u001b[0moutput_dir\u001b[0m \u001b[0;32mis\u001b[0m \u001b[0;32mnot\u001b[0m \u001b[0;32mNone\u001b[0m \u001b[0;34m:\u001b[0m\u001b[0;34m\u001b[0m\u001b[0;34m\u001b[0m\u001b[0m\n",
      "\u001b[0;31mKeyError\u001b[0m: '<Transparency.Trainers.DatasetBC.Dataset'"
     ]
    },
    {
     "name": "stderr",
     "output_type": "stream",
     "text": [
      "INFO - 2019-04-23 17:50:40,738 - instantiating class <class 'Transparency.model.modules.Encoder.Encoder'> from params {'vocab_size': 6515, 'embed_size': 300, 'kernel_sizes': (1, 3, 5, 7), 'hidden_size': 32, 'activation': 'relu', 'type': 'cnn', 'pre_embed': array([[ 0.        ,  0.        ,  0.        , ...,  0.        ,\n",
      "         0.        ,  0.        ],\n",
      "       [ 0.        ,  0.        ,  0.        , ...,  0.        ,\n",
      "         0.        ,  0.        ],\n",
      "       [ 0.        ,  0.        ,  0.        , ...,  0.        ,\n",
      "         0.        ,  0.        ],\n",
      "       ...,\n",
      "       [ 0.31336999, -0.1891    ,  0.06034   , ...,  0.19617   ,\n",
      "        -0.11479   ,  0.053594  ],\n",
      "       [ 0.        ,  0.        ,  0.        , ...,  0.        ,\n",
      "         0.        ,  0.        ],\n",
      "       [ 0.13421001, -1.01919997,  0.014029  , ...,  0.59031999,\n",
      "        -0.32427001, -0.21134999]])} and extras set()\n",
      "INFO - 2019-04-23 17:50:40,739 - type = cnn\n",
      "INFO - 2019-04-23 17:50:40,740 - instantiating class <class 'Transparency.model.modules.Encoder.EncoderCNN'> from params {'vocab_size': 6515, 'embed_size': 300, 'kernel_sizes': (1, 3, 5, 7), 'hidden_size': 32, 'activation': 'relu', 'pre_embed': array([[ 0.        ,  0.        ,  0.        , ...,  0.        ,\n",
      "         0.        ,  0.        ],\n",
      "       [ 0.        ,  0.        ,  0.        , ...,  0.        ,\n",
      "         0.        ,  0.        ],\n",
      "       [ 0.        ,  0.        ,  0.        , ...,  0.        ,\n",
      "         0.        ,  0.        ],\n",
      "       ...,\n",
      "       [ 0.31336999, -0.1891    ,  0.06034   , ...,  0.19617   ,\n",
      "        -0.11479   ,  0.053594  ],\n",
      "       [ 0.        ,  0.        ,  0.        , ...,  0.        ,\n",
      "         0.        ,  0.        ],\n",
      "       [ 0.13421001, -1.01919997,  0.014029  , ...,  0.59031999,\n",
      "        -0.32427001, -0.21134999]])} and extras set()\n",
      "INFO - 2019-04-23 17:50:40,740 - vocab_size = 6515\n",
      "INFO - 2019-04-23 17:50:40,741 - embed_size = 300\n",
      "INFO - 2019-04-23 17:50:40,741 - hidden_size = 32\n",
      "INFO - 2019-04-23 17:50:40,741 - kernel_sizes = (1, 3, 5, 7)\n",
      "INFO - 2019-04-23 17:50:40,742 - activation = relu\n",
      "INFO - 2019-04-23 17:50:40,743 - pre_embed = [[ 0.          0.          0.         ...  0.          0.\n",
      "   0.        ]\n",
      " [ 0.          0.          0.         ...  0.          0.\n",
      "   0.        ]\n",
      " [ 0.          0.          0.         ...  0.          0.\n",
      "   0.        ]\n",
      " ...\n",
      " [ 0.31336999 -0.1891      0.06034    ...  0.19617    -0.11479\n",
      "   0.053594  ]\n",
      " [ 0.          0.          0.         ...  0.          0.\n",
      "   0.        ]\n",
      " [ 0.13421001 -1.01919997  0.014029   ...  0.59031999 -0.32427001\n",
      "  -0.21134999]]\n",
      "INFO - 2019-04-23 17:50:40,749 - instantiating class <class 'Transparency.model.modules.Decoder.AttnDecoder'> from params {'attention': {'type': 'tanh'}, 'output_size': 1, 'hidden_size': 128} and extras set()\n",
      "INFO - 2019-04-23 17:50:40,749 - hidden_size = 128\n",
      "INFO - 2019-04-23 17:50:40,749 - output_size = 1\n",
      "INFO - 2019-04-23 17:50:40,750 - use_attention = True\n",
      "INFO - 2019-04-23 17:50:40,750 - regularizer_attention = None\n",
      "INFO - 2019-04-23 17:50:40,751 - instantiating class <class 'Transparency.model.modules.Attention.Attention'> from params <allennlp.common.params.Params object at 0x7faa462165f8> and extras set()\n",
      "INFO - 2019-04-23 17:50:40,751 - attention.type = tanh\n",
      "INFO - 2019-04-23 17:50:40,751 - type = tanh\n",
      "INFO - 2019-04-23 17:50:40,752 - instantiating class <class 'Transparency.model.modules.Attention.TanhAttention'> from params <allennlp.common.params.Params object at 0x7faa462165f8> and extras set()\n",
      "INFO - 2019-04-23 17:50:40,752 - attention.hidden_size = 128\n",
      "INFO - 2019-04-23 17:50:40,752 - hidden_size = 128\n",
      "  0%|          | 0/8 [00:00<?, ?it/s]\n",
      "  0%|          | 0/36 [00:00<?, ?it/s]\u001b[A\n",
      " 44%|████▍     | 16/36 [00:00<00:00, 128.67it/s]\u001b[A"
     ]
    },
    {
     "name": "stdout",
     "output_type": "stream",
     "text": [
      "Setting Embedding\n"
     ]
    },
    {
     "name": "stderr",
     "output_type": "stream",
     "text": [
      "\n",
      " 78%|███████▊  | 28/36 [00:00<00:00, 123.72it/s]\u001b[A\n",
      "100%|██████████| 36/36 [00:00<00:00, 116.49it/s]\u001b[A\n",
      "  0%|          | 0/9 [00:00<?, ?it/s]\u001b[A\n",
      "100%|██████████| 9/9 [00:00<00:00, 442.50it/s]\u001b[A"
     ]
    },
    {
     "name": "stdout",
     "output_type": "stream",
     "text": [
      "{'accuracy': 0.8669064748201439, 'roc_auc': 0.9307971014492753, 'pr_auc': 0.9398331260340849}\n"
     ]
    },
    {
     "data": {
      "text/html": [
       "<div>\n",
       "<style scoped>\n",
       "    .dataframe tbody tr th:only-of-type {\n",
       "        vertical-align: middle;\n",
       "    }\n",
       "\n",
       "    .dataframe tbody tr th {\n",
       "        vertical-align: top;\n",
       "    }\n",
       "\n",
       "    .dataframe thead th {\n",
       "        text-align: right;\n",
       "    }\n",
       "</style>\n",
       "<table border=\"1\" class=\"dataframe\">\n",
       "  <thead>\n",
       "    <tr style=\"text-align: right;\">\n",
       "      <th></th>\n",
       "      <th>0</th>\n",
       "      <th>1</th>\n",
       "      <th>micro avg</th>\n",
       "      <th>macro avg</th>\n",
       "      <th>weighted avg</th>\n",
       "    </tr>\n",
       "  </thead>\n",
       "  <tbody>\n",
       "    <tr>\n",
       "      <th>f1-score</th>\n",
       "      <td>0.875</td>\n",
       "      <td>0.857</td>\n",
       "      <td>0.867</td>\n",
       "      <td>0.866</td>\n",
       "      <td>0.866</td>\n",
       "    </tr>\n",
       "    <tr>\n",
       "      <th>precision</th>\n",
       "      <td>0.828</td>\n",
       "      <td>0.917</td>\n",
       "      <td>0.867</td>\n",
       "      <td>0.873</td>\n",
       "      <td>0.872</td>\n",
       "    </tr>\n",
       "    <tr>\n",
       "      <th>recall</th>\n",
       "      <td>0.929</td>\n",
       "      <td>0.804</td>\n",
       "      <td>0.867</td>\n",
       "      <td>0.866</td>\n",
       "      <td>0.867</td>\n",
       "    </tr>\n",
       "    <tr>\n",
       "      <th>support</th>\n",
       "      <td>140.000</td>\n",
       "      <td>138.000</td>\n",
       "      <td>278.000</td>\n",
       "      <td>278.000</td>\n",
       "      <td>278.000</td>\n",
       "    </tr>\n",
       "  </tbody>\n",
       "</table>\n",
       "</div>"
      ],
      "text/plain": [
       "                 0        1  micro avg  macro avg  weighted avg\n",
       "f1-score     0.875    0.857      0.867      0.866         0.866\n",
       "precision    0.828    0.917      0.867      0.873         0.872\n",
       "recall       0.929    0.804      0.867      0.866         0.867\n",
       "support    140.000  138.000    278.000    278.000       278.000"
      ]
     },
     "metadata": {},
     "output_type": "display_data"
    },
    {
     "name": "stderr",
     "output_type": "stream",
     "text": [
      " 12%|█▎        | 1/8 [00:00<00:02,  2.77it/s]\n",
      "  0%|          | 0/36 [00:00<?, ?it/s]\u001b[A\n",
      " 33%|███▎      | 12/36 [00:00<00:00, 118.75it/s]\u001b[A"
     ]
    },
    {
     "name": "stdout",
     "output_type": "stream",
     "text": [
      "Model not saved on  roc_auc 0.9307971014492753\n"
     ]
    },
    {
     "name": "stderr",
     "output_type": "stream",
     "text": [
      "\n",
      " 69%|██████▉   | 25/36 [00:00<00:00, 120.19it/s]\u001b[A\n",
      "100%|██████████| 36/36 [00:00<00:00, 129.18it/s]\u001b[A\n",
      "  0%|          | 0/9 [00:00<?, ?it/s]\u001b[A\n",
      "100%|██████████| 9/9 [00:00<00:00, 479.20it/s]\u001b[A"
     ]
    },
    {
     "name": "stdout",
     "output_type": "stream",
     "text": [
      "{'accuracy': 0.9100719424460432, 'roc_auc': 0.9630434782608697, 'pr_auc': 0.9660197800111704}\n"
     ]
    },
    {
     "data": {
      "text/html": [
       "<div>\n",
       "<style scoped>\n",
       "    .dataframe tbody tr th:only-of-type {\n",
       "        vertical-align: middle;\n",
       "    }\n",
       "\n",
       "    .dataframe tbody tr th {\n",
       "        vertical-align: top;\n",
       "    }\n",
       "\n",
       "    .dataframe thead th {\n",
       "        text-align: right;\n",
       "    }\n",
       "</style>\n",
       "<table border=\"1\" class=\"dataframe\">\n",
       "  <thead>\n",
       "    <tr style=\"text-align: right;\">\n",
       "      <th></th>\n",
       "      <th>0</th>\n",
       "      <th>1</th>\n",
       "      <th>micro avg</th>\n",
       "      <th>macro avg</th>\n",
       "      <th>weighted avg</th>\n",
       "    </tr>\n",
       "  </thead>\n",
       "  <tbody>\n",
       "    <tr>\n",
       "      <th>f1-score</th>\n",
       "      <td>0.909</td>\n",
       "      <td>0.911</td>\n",
       "      <td>0.91</td>\n",
       "      <td>0.910</td>\n",
       "      <td>0.910</td>\n",
       "    </tr>\n",
       "    <tr>\n",
       "      <th>precision</th>\n",
       "      <td>0.926</td>\n",
       "      <td>0.895</td>\n",
       "      <td>0.91</td>\n",
       "      <td>0.911</td>\n",
       "      <td>0.911</td>\n",
       "    </tr>\n",
       "    <tr>\n",
       "      <th>recall</th>\n",
       "      <td>0.893</td>\n",
       "      <td>0.928</td>\n",
       "      <td>0.91</td>\n",
       "      <td>0.910</td>\n",
       "      <td>0.910</td>\n",
       "    </tr>\n",
       "    <tr>\n",
       "      <th>support</th>\n",
       "      <td>140.000</td>\n",
       "      <td>138.000</td>\n",
       "      <td>278.00</td>\n",
       "      <td>278.000</td>\n",
       "      <td>278.000</td>\n",
       "    </tr>\n",
       "  </tbody>\n",
       "</table>\n",
       "</div>"
      ],
      "text/plain": [
       "                 0        1  micro avg  macro avg  weighted avg\n",
       "f1-score     0.909    0.911       0.91      0.910         0.910\n",
       "precision    0.926    0.895       0.91      0.911         0.911\n",
       "recall       0.893    0.928       0.91      0.910         0.910\n",
       "support    140.000  138.000     278.00    278.000       278.000"
      ]
     },
     "metadata": {},
     "output_type": "display_data"
    },
    {
     "name": "stderr",
     "output_type": "stream",
     "text": [
      " 25%|██▌       | 2/8 [00:00<00:02,  2.68it/s]\n",
      "  0%|          | 0/36 [00:00<?, ?it/s]\u001b[A\n",
      " 36%|███▌      | 13/36 [00:00<00:00, 124.47it/s]\u001b[A"
     ]
    },
    {
     "name": "stdout",
     "output_type": "stream",
     "text": [
      "Model Saved on  roc_auc 0.9630434782608697\n"
     ]
    },
    {
     "name": "stderr",
     "output_type": "stream",
     "text": [
      "\n",
      " 75%|███████▌  | 27/36 [00:00<00:00, 128.70it/s]\u001b[A\n",
      "100%|██████████| 36/36 [00:00<00:00, 125.04it/s]\u001b[A\n",
      "  0%|          | 0/9 [00:00<?, ?it/s]\u001b[A\n",
      "100%|██████████| 9/9 [00:00<00:00, 499.72it/s]\u001b[A"
     ]
    },
    {
     "name": "stdout",
     "output_type": "stream",
     "text": [
      "{'accuracy': 0.9460431654676259, 'roc_auc': 0.9880434782608695, 'pr_auc': 0.989775285743864}\n"
     ]
    },
    {
     "data": {
      "text/html": [
       "<div>\n",
       "<style scoped>\n",
       "    .dataframe tbody tr th:only-of-type {\n",
       "        vertical-align: middle;\n",
       "    }\n",
       "\n",
       "    .dataframe tbody tr th {\n",
       "        vertical-align: top;\n",
       "    }\n",
       "\n",
       "    .dataframe thead th {\n",
       "        text-align: right;\n",
       "    }\n",
       "</style>\n",
       "<table border=\"1\" class=\"dataframe\">\n",
       "  <thead>\n",
       "    <tr style=\"text-align: right;\">\n",
       "      <th></th>\n",
       "      <th>0</th>\n",
       "      <th>1</th>\n",
       "      <th>micro avg</th>\n",
       "      <th>macro avg</th>\n",
       "      <th>weighted avg</th>\n",
       "    </tr>\n",
       "  </thead>\n",
       "  <tbody>\n",
       "    <tr>\n",
       "      <th>f1-score</th>\n",
       "      <td>0.949</td>\n",
       "      <td>0.943</td>\n",
       "      <td>0.946</td>\n",
       "      <td>0.946</td>\n",
       "      <td>0.946</td>\n",
       "    </tr>\n",
       "    <tr>\n",
       "      <th>precision</th>\n",
       "      <td>0.908</td>\n",
       "      <td>0.992</td>\n",
       "      <td>0.946</td>\n",
       "      <td>0.950</td>\n",
       "      <td>0.950</td>\n",
       "    </tr>\n",
       "    <tr>\n",
       "      <th>recall</th>\n",
       "      <td>0.993</td>\n",
       "      <td>0.899</td>\n",
       "      <td>0.946</td>\n",
       "      <td>0.946</td>\n",
       "      <td>0.946</td>\n",
       "    </tr>\n",
       "    <tr>\n",
       "      <th>support</th>\n",
       "      <td>140.000</td>\n",
       "      <td>138.000</td>\n",
       "      <td>278.000</td>\n",
       "      <td>278.000</td>\n",
       "      <td>278.000</td>\n",
       "    </tr>\n",
       "  </tbody>\n",
       "</table>\n",
       "</div>"
      ],
      "text/plain": [
       "                 0        1  micro avg  macro avg  weighted avg\n",
       "f1-score     0.949    0.943      0.946      0.946         0.946\n",
       "precision    0.908    0.992      0.946      0.950         0.950\n",
       "recall       0.993    0.899      0.946      0.946         0.946\n",
       "support    140.000  138.000    278.000    278.000       278.000"
      ]
     },
     "metadata": {},
     "output_type": "display_data"
    },
    {
     "name": "stderr",
     "output_type": "stream",
     "text": [
      " 38%|███▊      | 3/8 [00:01<00:01,  2.61it/s]\n",
      "  0%|          | 0/36 [00:00<?, ?it/s]\u001b[A\n",
      " 36%|███▌      | 13/36 [00:00<00:00, 127.52it/s]\u001b[A"
     ]
    },
    {
     "name": "stdout",
     "output_type": "stream",
     "text": [
      "Model Saved on  roc_auc 0.9880434782608695\n"
     ]
    },
    {
     "name": "stderr",
     "output_type": "stream",
     "text": [
      "\n",
      " 72%|███████▏  | 26/36 [00:00<00:00, 126.01it/s]\u001b[A\n",
      "100%|██████████| 36/36 [00:00<00:00, 128.57it/s]\u001b[A\n",
      "  0%|          | 0/9 [00:00<?, ?it/s]\u001b[A\n",
      "100%|██████████| 9/9 [00:00<00:00, 476.16it/s]\u001b[A"
     ]
    },
    {
     "name": "stdout",
     "output_type": "stream",
     "text": [
      "{'accuracy': 0.9568345323741008, 'roc_auc': 0.9889751552795031, 'pr_auc': 0.9904076397355548}\n"
     ]
    },
    {
     "data": {
      "text/html": [
       "<div>\n",
       "<style scoped>\n",
       "    .dataframe tbody tr th:only-of-type {\n",
       "        vertical-align: middle;\n",
       "    }\n",
       "\n",
       "    .dataframe tbody tr th {\n",
       "        vertical-align: top;\n",
       "    }\n",
       "\n",
       "    .dataframe thead th {\n",
       "        text-align: right;\n",
       "    }\n",
       "</style>\n",
       "<table border=\"1\" class=\"dataframe\">\n",
       "  <thead>\n",
       "    <tr style=\"text-align: right;\">\n",
       "      <th></th>\n",
       "      <th>0</th>\n",
       "      <th>1</th>\n",
       "      <th>micro avg</th>\n",
       "      <th>macro avg</th>\n",
       "      <th>weighted avg</th>\n",
       "    </tr>\n",
       "  </thead>\n",
       "  <tbody>\n",
       "    <tr>\n",
       "      <th>f1-score</th>\n",
       "      <td>0.958</td>\n",
       "      <td>0.955</td>\n",
       "      <td>0.957</td>\n",
       "      <td>0.957</td>\n",
       "      <td>0.957</td>\n",
       "    </tr>\n",
       "    <tr>\n",
       "      <th>precision</th>\n",
       "      <td>0.932</td>\n",
       "      <td>0.985</td>\n",
       "      <td>0.957</td>\n",
       "      <td>0.959</td>\n",
       "      <td>0.958</td>\n",
       "    </tr>\n",
       "    <tr>\n",
       "      <th>recall</th>\n",
       "      <td>0.986</td>\n",
       "      <td>0.928</td>\n",
       "      <td>0.957</td>\n",
       "      <td>0.957</td>\n",
       "      <td>0.957</td>\n",
       "    </tr>\n",
       "    <tr>\n",
       "      <th>support</th>\n",
       "      <td>140.000</td>\n",
       "      <td>138.000</td>\n",
       "      <td>278.000</td>\n",
       "      <td>278.000</td>\n",
       "      <td>278.000</td>\n",
       "    </tr>\n",
       "  </tbody>\n",
       "</table>\n",
       "</div>"
      ],
      "text/plain": [
       "                 0        1  micro avg  macro avg  weighted avg\n",
       "f1-score     0.958    0.955      0.957      0.957         0.957\n",
       "precision    0.932    0.985      0.957      0.959         0.958\n",
       "recall       0.986    0.928      0.957      0.957         0.957\n",
       "support    140.000  138.000    278.000    278.000       278.000"
      ]
     },
     "metadata": {},
     "output_type": "display_data"
    },
    {
     "name": "stderr",
     "output_type": "stream",
     "text": [
      " 50%|█████     | 4/8 [00:01<00:01,  2.57it/s]\n",
      "  0%|          | 0/36 [00:00<?, ?it/s]\u001b[A"
     ]
    },
    {
     "name": "stdout",
     "output_type": "stream",
     "text": [
      "Model Saved on  roc_auc 0.9889751552795031\n"
     ]
    },
    {
     "name": "stderr",
     "output_type": "stream",
     "text": [
      "\n",
      " 36%|███▌      | 13/36 [00:00<00:00, 122.04it/s]\u001b[A\n",
      " 69%|██████▉   | 25/36 [00:00<00:00, 120.21it/s]\u001b[A\n",
      "100%|██████████| 36/36 [00:00<00:00, 122.39it/s]\u001b[A\n",
      "  0%|          | 0/9 [00:00<?, ?it/s]\u001b[A\n",
      "100%|██████████| 9/9 [00:00<00:00, 440.64it/s]\u001b[A"
     ]
    },
    {
     "name": "stdout",
     "output_type": "stream",
     "text": [
      "{'accuracy': 0.9532374100719424, 'roc_auc': 0.989544513457557, 'pr_auc': 0.9912344164610184}\n"
     ]
    },
    {
     "data": {
      "text/html": [
       "<div>\n",
       "<style scoped>\n",
       "    .dataframe tbody tr th:only-of-type {\n",
       "        vertical-align: middle;\n",
       "    }\n",
       "\n",
       "    .dataframe tbody tr th {\n",
       "        vertical-align: top;\n",
       "    }\n",
       "\n",
       "    .dataframe thead th {\n",
       "        text-align: right;\n",
       "    }\n",
       "</style>\n",
       "<table border=\"1\" class=\"dataframe\">\n",
       "  <thead>\n",
       "    <tr style=\"text-align: right;\">\n",
       "      <th></th>\n",
       "      <th>0</th>\n",
       "      <th>1</th>\n",
       "      <th>micro avg</th>\n",
       "      <th>macro avg</th>\n",
       "      <th>weighted avg</th>\n",
       "    </tr>\n",
       "  </thead>\n",
       "  <tbody>\n",
       "    <tr>\n",
       "      <th>f1-score</th>\n",
       "      <td>0.955</td>\n",
       "      <td>0.952</td>\n",
       "      <td>0.953</td>\n",
       "      <td>0.953</td>\n",
       "      <td>0.953</td>\n",
       "    </tr>\n",
       "    <tr>\n",
       "      <th>precision</th>\n",
       "      <td>0.932</td>\n",
       "      <td>0.977</td>\n",
       "      <td>0.953</td>\n",
       "      <td>0.955</td>\n",
       "      <td>0.954</td>\n",
       "    </tr>\n",
       "    <tr>\n",
       "      <th>recall</th>\n",
       "      <td>0.979</td>\n",
       "      <td>0.928</td>\n",
       "      <td>0.953</td>\n",
       "      <td>0.953</td>\n",
       "      <td>0.953</td>\n",
       "    </tr>\n",
       "    <tr>\n",
       "      <th>support</th>\n",
       "      <td>140.000</td>\n",
       "      <td>138.000</td>\n",
       "      <td>278.000</td>\n",
       "      <td>278.000</td>\n",
       "      <td>278.000</td>\n",
       "    </tr>\n",
       "  </tbody>\n",
       "</table>\n",
       "</div>"
      ],
      "text/plain": [
       "                 0        1  micro avg  macro avg  weighted avg\n",
       "f1-score     0.955    0.952      0.953      0.953         0.953\n",
       "precision    0.932    0.977      0.953      0.955         0.954\n",
       "recall       0.979    0.928      0.953      0.953         0.953\n",
       "support    140.000  138.000    278.000    278.000       278.000"
      ]
     },
     "metadata": {},
     "output_type": "display_data"
    },
    {
     "name": "stderr",
     "output_type": "stream",
     "text": [
      " 62%|██████▎   | 5/8 [00:02<00:01,  2.48it/s]\n",
      "  0%|          | 0/36 [00:00<?, ?it/s]\u001b[A"
     ]
    },
    {
     "name": "stdout",
     "output_type": "stream",
     "text": [
      "Model Saved on  roc_auc 0.989544513457557\n"
     ]
    },
    {
     "name": "stderr",
     "output_type": "stream",
     "text": [
      "\n",
      " 42%|████▏     | 15/36 [00:00<00:00, 146.31it/s]\u001b[A\n",
      " 75%|███████▌  | 27/36 [00:00<00:00, 134.95it/s]\u001b[A\n",
      "100%|██████████| 36/36 [00:00<00:00, 127.58it/s]\u001b[A\n",
      "  0%|          | 0/9 [00:00<?, ?it/s]\u001b[A\n",
      "100%|██████████| 9/9 [00:00<00:00, 472.99it/s]\u001b[A"
     ]
    },
    {
     "name": "stdout",
     "output_type": "stream",
     "text": [
      "{'accuracy': 0.9460431654676259, 'roc_auc': 0.9891821946169771, 'pr_auc': 0.9910614743615213}\n"
     ]
    },
    {
     "data": {
      "text/html": [
       "<div>\n",
       "<style scoped>\n",
       "    .dataframe tbody tr th:only-of-type {\n",
       "        vertical-align: middle;\n",
       "    }\n",
       "\n",
       "    .dataframe tbody tr th {\n",
       "        vertical-align: top;\n",
       "    }\n",
       "\n",
       "    .dataframe thead th {\n",
       "        text-align: right;\n",
       "    }\n",
       "</style>\n",
       "<table border=\"1\" class=\"dataframe\">\n",
       "  <thead>\n",
       "    <tr style=\"text-align: right;\">\n",
       "      <th></th>\n",
       "      <th>0</th>\n",
       "      <th>1</th>\n",
       "      <th>micro avg</th>\n",
       "      <th>macro avg</th>\n",
       "      <th>weighted avg</th>\n",
       "    </tr>\n",
       "  </thead>\n",
       "  <tbody>\n",
       "    <tr>\n",
       "      <th>f1-score</th>\n",
       "      <td>0.949</td>\n",
       "      <td>0.943</td>\n",
       "      <td>0.946</td>\n",
       "      <td>0.946</td>\n",
       "      <td>0.946</td>\n",
       "    </tr>\n",
       "    <tr>\n",
       "      <th>precision</th>\n",
       "      <td>0.908</td>\n",
       "      <td>0.992</td>\n",
       "      <td>0.946</td>\n",
       "      <td>0.950</td>\n",
       "      <td>0.950</td>\n",
       "    </tr>\n",
       "    <tr>\n",
       "      <th>recall</th>\n",
       "      <td>0.993</td>\n",
       "      <td>0.899</td>\n",
       "      <td>0.946</td>\n",
       "      <td>0.946</td>\n",
       "      <td>0.946</td>\n",
       "    </tr>\n",
       "    <tr>\n",
       "      <th>support</th>\n",
       "      <td>140.000</td>\n",
       "      <td>138.000</td>\n",
       "      <td>278.000</td>\n",
       "      <td>278.000</td>\n",
       "      <td>278.000</td>\n",
       "    </tr>\n",
       "  </tbody>\n",
       "</table>\n",
       "</div>"
      ],
      "text/plain": [
       "                 0        1  micro avg  macro avg  weighted avg\n",
       "f1-score     0.949    0.943      0.946      0.946         0.946\n",
       "precision    0.908    0.992      0.946      0.950         0.950\n",
       "recall       0.993    0.899      0.946      0.946         0.946\n",
       "support    140.000  138.000    278.000    278.000       278.000"
      ]
     },
     "metadata": {},
     "output_type": "display_data"
    },
    {
     "name": "stderr",
     "output_type": "stream",
     "text": [
      " 75%|███████▌  | 6/8 [00:02<00:00,  2.63it/s]\n",
      "  0%|          | 0/36 [00:00<?, ?it/s]\u001b[A\n",
      " 39%|███▉      | 14/36 [00:00<00:00, 131.44it/s]\u001b[A"
     ]
    },
    {
     "name": "stdout",
     "output_type": "stream",
     "text": [
      "Model not saved on  roc_auc 0.9891821946169771\n"
     ]
    },
    {
     "name": "stderr",
     "output_type": "stream",
     "text": [
      "\n",
      " 78%|███████▊  | 28/36 [00:00<00:00, 130.19it/s]\u001b[A\n",
      "100%|██████████| 36/36 [00:00<00:00, 130.25it/s]\u001b[A\n",
      "  0%|          | 0/9 [00:00<?, ?it/s]\u001b[A\n",
      "100%|██████████| 9/9 [00:00<00:00, 499.57it/s]\u001b[A"
     ]
    },
    {
     "name": "stdout",
     "output_type": "stream",
     "text": [
      "{'accuracy': 0.9424460431654677, 'roc_auc': 0.9879917184265009, 'pr_auc': 0.9903988020486452}\n"
     ]
    },
    {
     "data": {
      "text/html": [
       "<div>\n",
       "<style scoped>\n",
       "    .dataframe tbody tr th:only-of-type {\n",
       "        vertical-align: middle;\n",
       "    }\n",
       "\n",
       "    .dataframe tbody tr th {\n",
       "        vertical-align: top;\n",
       "    }\n",
       "\n",
       "    .dataframe thead th {\n",
       "        text-align: right;\n",
       "    }\n",
       "</style>\n",
       "<table border=\"1\" class=\"dataframe\">\n",
       "  <thead>\n",
       "    <tr style=\"text-align: right;\">\n",
       "      <th></th>\n",
       "      <th>0</th>\n",
       "      <th>1</th>\n",
       "      <th>micro avg</th>\n",
       "      <th>macro avg</th>\n",
       "      <th>weighted avg</th>\n",
       "    </tr>\n",
       "  </thead>\n",
       "  <tbody>\n",
       "    <tr>\n",
       "      <th>f1-score</th>\n",
       "      <td>0.945</td>\n",
       "      <td>0.939</td>\n",
       "      <td>0.942</td>\n",
       "      <td>0.942</td>\n",
       "      <td>0.942</td>\n",
       "    </tr>\n",
       "    <tr>\n",
       "      <th>precision</th>\n",
       "      <td>0.908</td>\n",
       "      <td>0.984</td>\n",
       "      <td>0.942</td>\n",
       "      <td>0.946</td>\n",
       "      <td>0.946</td>\n",
       "    </tr>\n",
       "    <tr>\n",
       "      <th>recall</th>\n",
       "      <td>0.986</td>\n",
       "      <td>0.899</td>\n",
       "      <td>0.942</td>\n",
       "      <td>0.942</td>\n",
       "      <td>0.942</td>\n",
       "    </tr>\n",
       "    <tr>\n",
       "      <th>support</th>\n",
       "      <td>140.000</td>\n",
       "      <td>138.000</td>\n",
       "      <td>278.000</td>\n",
       "      <td>278.000</td>\n",
       "      <td>278.000</td>\n",
       "    </tr>\n",
       "  </tbody>\n",
       "</table>\n",
       "</div>"
      ],
      "text/plain": [
       "                 0        1  micro avg  macro avg  weighted avg\n",
       "f1-score     0.945    0.939      0.942      0.942         0.942\n",
       "precision    0.908    0.984      0.942      0.946         0.946\n",
       "recall       0.986    0.899      0.942      0.942         0.942\n",
       "support    140.000  138.000    278.000    278.000       278.000"
      ]
     },
     "metadata": {},
     "output_type": "display_data"
    },
    {
     "name": "stderr",
     "output_type": "stream",
     "text": [
      " 88%|████████▊ | 7/8 [00:02<00:00,  2.77it/s]\n",
      "  0%|          | 0/36 [00:00<?, ?it/s]\u001b[A\n",
      " 33%|███▎      | 12/36 [00:00<00:00, 113.05it/s]\u001b[A"
     ]
    },
    {
     "name": "stdout",
     "output_type": "stream",
     "text": [
      "Model not saved on  roc_auc 0.9879917184265009\n"
     ]
    },
    {
     "name": "stderr",
     "output_type": "stream",
     "text": [
      "\n",
      " 78%|███████▊  | 28/36 [00:00<00:00, 122.71it/s]\u001b[A\n",
      "100%|██████████| 36/36 [00:00<00:00, 132.40it/s]\u001b[A\n",
      "  0%|          | 0/9 [00:00<?, ?it/s]\u001b[A\n",
      "100%|██████████| 9/9 [00:00<00:00, 498.16it/s]\u001b[A"
     ]
    },
    {
     "name": "stdout",
     "output_type": "stream",
     "text": [
      "{'accuracy': 0.9460431654676259, 'roc_auc': 0.988198757763975, 'pr_auc': 0.9905529341778766}\n"
     ]
    },
    {
     "data": {
      "text/html": [
       "<div>\n",
       "<style scoped>\n",
       "    .dataframe tbody tr th:only-of-type {\n",
       "        vertical-align: middle;\n",
       "    }\n",
       "\n",
       "    .dataframe tbody tr th {\n",
       "        vertical-align: top;\n",
       "    }\n",
       "\n",
       "    .dataframe thead th {\n",
       "        text-align: right;\n",
       "    }\n",
       "</style>\n",
       "<table border=\"1\" class=\"dataframe\">\n",
       "  <thead>\n",
       "    <tr style=\"text-align: right;\">\n",
       "      <th></th>\n",
       "      <th>0</th>\n",
       "      <th>1</th>\n",
       "      <th>micro avg</th>\n",
       "      <th>macro avg</th>\n",
       "      <th>weighted avg</th>\n",
       "    </tr>\n",
       "  </thead>\n",
       "  <tbody>\n",
       "    <tr>\n",
       "      <th>f1-score</th>\n",
       "      <td>0.949</td>\n",
       "      <td>0.943</td>\n",
       "      <td>0.946</td>\n",
       "      <td>0.946</td>\n",
       "      <td>0.946</td>\n",
       "    </tr>\n",
       "    <tr>\n",
       "      <th>precision</th>\n",
       "      <td>0.903</td>\n",
       "      <td>1.000</td>\n",
       "      <td>0.946</td>\n",
       "      <td>0.952</td>\n",
       "      <td>0.951</td>\n",
       "    </tr>\n",
       "    <tr>\n",
       "      <th>recall</th>\n",
       "      <td>1.000</td>\n",
       "      <td>0.891</td>\n",
       "      <td>0.946</td>\n",
       "      <td>0.946</td>\n",
       "      <td>0.946</td>\n",
       "    </tr>\n",
       "    <tr>\n",
       "      <th>support</th>\n",
       "      <td>140.000</td>\n",
       "      <td>138.000</td>\n",
       "      <td>278.000</td>\n",
       "      <td>278.000</td>\n",
       "      <td>278.000</td>\n",
       "    </tr>\n",
       "  </tbody>\n",
       "</table>\n",
       "</div>"
      ],
      "text/plain": [
       "                 0        1  micro avg  macro avg  weighted avg\n",
       "f1-score     0.949    0.943      0.946      0.946         0.946\n",
       "precision    0.903    1.000      0.946      0.952         0.951\n",
       "recall       1.000    0.891      0.946      0.946         0.946\n",
       "support    140.000  138.000    278.000    278.000       278.000"
      ]
     },
     "metadata": {},
     "output_type": "display_data"
    },
    {
     "name": "stderr",
     "output_type": "stream",
     "text": [
      "100%|██████████| 8/8 [00:02<00:00,  2.89it/s]\n",
      "INFO - 2019-04-23 17:50:43,718 - instantiating class <class 'Transparency.model.modules.Encoder.Encoder'> from params {'vocab_size': 6515, 'embed_size': 300, 'kernel_sizes': [1, 3, 5, 7], 'hidden_size': 32, 'activation': 'relu', 'type': 'cnn', 'pre_embed': None} and extras set()\n",
      "INFO - 2019-04-23 17:50:43,719 - type = cnn\n",
      "INFO - 2019-04-23 17:50:43,719 - instantiating class <class 'Transparency.model.modules.Encoder.EncoderCNN'> from params {'vocab_size': 6515, 'embed_size': 300, 'kernel_sizes': [1, 3, 5, 7], 'hidden_size': 32, 'activation': 'relu', 'pre_embed': None} and extras set()\n",
      "INFO - 2019-04-23 17:50:43,719 - vocab_size = 6515\n",
      "INFO - 2019-04-23 17:50:43,719 - embed_size = 300\n",
      "INFO - 2019-04-23 17:50:43,720 - hidden_size = 32\n",
      "INFO - 2019-04-23 17:50:43,720 - kernel_sizes = [1, 3, 5, 7]\n",
      "INFO - 2019-04-23 17:50:43,720 - activation = relu\n",
      "INFO - 2019-04-23 17:50:43,720 - pre_embed = None\n",
      "INFO - 2019-04-23 17:50:43,732 - instantiating class <class 'Transparency.model.modules.Decoder.AttnDecoder'> from params {'attention': {'type': 'tanh'}, 'output_size': 1, 'hidden_size': 128} and extras set()\n",
      "INFO - 2019-04-23 17:50:43,733 - hidden_size = 128\n",
      "INFO - 2019-04-23 17:50:43,733 - output_size = 1\n",
      "INFO - 2019-04-23 17:50:43,733 - use_attention = True\n",
      "INFO - 2019-04-23 17:50:43,733 - regularizer_attention = None\n",
      "INFO - 2019-04-23 17:50:43,734 - instantiating class <class 'Transparency.model.modules.Attention.Attention'> from params <allennlp.common.params.Params object at 0x7faa474852e8> and extras set()\n",
      "INFO - 2019-04-23 17:50:43,734 - attention.type = tanh\n",
      "INFO - 2019-04-23 17:50:43,734 - type = tanh\n",
      "INFO - 2019-04-23 17:50:43,735 - instantiating class <class 'Transparency.model.modules.Attention.TanhAttention'> from params <allennlp.common.params.Params object at 0x7faa474852e8> and extras set()\n",
      "INFO - 2019-04-23 17:50:43,735 - attention.hidden_size = 128\n",
      "INFO - 2019-04-23 17:50:43,735 - hidden_size = 128\n",
      "100%|██████████| 12/12 [00:00<00:00, 478.80it/s]"
     ]
    },
    {
     "name": "stdout",
     "output_type": "stream",
     "text": [
      "Model not saved on  roc_auc 0.988198757763975\n",
      "{'accuracy': 0.9299719887955182, 'roc_auc': 0.9770886949971753, 'pr_auc': 0.9711039438913491}\n"
     ]
    },
    {
     "name": "stderr",
     "output_type": "stream",
     "text": [
      "\n"
     ]
    },
    {
     "data": {
      "text/html": [
       "<div>\n",
       "<style scoped>\n",
       "    .dataframe tbody tr th:only-of-type {\n",
       "        vertical-align: middle;\n",
       "    }\n",
       "\n",
       "    .dataframe tbody tr th {\n",
       "        vertical-align: top;\n",
       "    }\n",
       "\n",
       "    .dataframe thead th {\n",
       "        text-align: right;\n",
       "    }\n",
       "</style>\n",
       "<table border=\"1\" class=\"dataframe\">\n",
       "  <thead>\n",
       "    <tr style=\"text-align: right;\">\n",
       "      <th></th>\n",
       "      <th>0</th>\n",
       "      <th>1</th>\n",
       "      <th>micro avg</th>\n",
       "      <th>macro avg</th>\n",
       "      <th>weighted avg</th>\n",
       "    </tr>\n",
       "  </thead>\n",
       "  <tbody>\n",
       "    <tr>\n",
       "      <th>f1-score</th>\n",
       "      <td>0.932</td>\n",
       "      <td>0.928</td>\n",
       "      <td>0.93</td>\n",
       "      <td>0.930</td>\n",
       "      <td>0.930</td>\n",
       "    </tr>\n",
       "    <tr>\n",
       "      <th>precision</th>\n",
       "      <td>0.910</td>\n",
       "      <td>0.953</td>\n",
       "      <td>0.93</td>\n",
       "      <td>0.931</td>\n",
       "      <td>0.931</td>\n",
       "    </tr>\n",
       "    <tr>\n",
       "      <th>recall</th>\n",
       "      <td>0.955</td>\n",
       "      <td>0.904</td>\n",
       "      <td>0.93</td>\n",
       "      <td>0.930</td>\n",
       "      <td>0.930</td>\n",
       "    </tr>\n",
       "    <tr>\n",
       "      <th>support</th>\n",
       "      <td>179.000</td>\n",
       "      <td>178.000</td>\n",
       "      <td>357.00</td>\n",
       "      <td>357.000</td>\n",
       "      <td>357.000</td>\n",
       "    </tr>\n",
       "  </tbody>\n",
       "</table>\n",
       "</div>"
      ],
      "text/plain": [
       "                 0        1  micro avg  macro avg  weighted avg\n",
       "f1-score     0.932    0.928       0.93      0.930         0.930\n",
       "precision    0.910    0.953       0.93      0.931         0.931\n",
       "recall       0.955    0.904       0.93      0.930         0.930\n",
       "support    179.000  178.000     357.00    357.000       357.000"
      ]
     },
     "metadata": {},
     "output_type": "display_data"
    },
    {
     "name": "stderr",
     "output_type": "stream",
     "text": [
      "INFO - 2019-04-23 17:50:43,863 - instantiating class <class 'Transparency.model.modules.Encoder.Encoder'> from params {'vocab_size': 6515, 'embed_size': 300, 'kernel_sizes': [1, 3, 5, 7], 'hidden_size': 32, 'activation': 'relu', 'type': 'cnn', 'pre_embed': None} and extras set()\n",
      "INFO - 2019-04-23 17:50:43,863 - type = cnn\n",
      "INFO - 2019-04-23 17:50:43,864 - instantiating class <class 'Transparency.model.modules.Encoder.EncoderCNN'> from params {'vocab_size': 6515, 'embed_size': 300, 'kernel_sizes': [1, 3, 5, 7], 'hidden_size': 32, 'activation': 'relu', 'pre_embed': None} and extras set()\n",
      "INFO - 2019-04-23 17:50:43,864 - vocab_size = 6515\n",
      "INFO - 2019-04-23 17:50:43,864 - embed_size = 300\n",
      "INFO - 2019-04-23 17:50:43,864 - hidden_size = 32\n",
      "INFO - 2019-04-23 17:50:43,865 - kernel_sizes = [1, 3, 5, 7]\n",
      "INFO - 2019-04-23 17:50:43,865 - activation = relu\n",
      "INFO - 2019-04-23 17:50:43,865 - pre_embed = None\n",
      "INFO - 2019-04-23 17:50:43,877 - instantiating class <class 'Transparency.model.modules.Decoder.AttnDecoder'> from params {'attention': {'type': 'tanh'}, 'output_size': 1, 'hidden_size': 128} and extras set()\n",
      "INFO - 2019-04-23 17:50:43,877 - hidden_size = 128\n",
      "INFO - 2019-04-23 17:50:43,878 - output_size = 1\n",
      "INFO - 2019-04-23 17:50:43,878 - use_attention = True\n",
      "INFO - 2019-04-23 17:50:43,878 - regularizer_attention = None\n",
      "INFO - 2019-04-23 17:50:43,879 - instantiating class <class 'Transparency.model.modules.Attention.Attention'> from params <allennlp.common.params.Params object at 0x7faa462167b8> and extras set()\n",
      "INFO - 2019-04-23 17:50:43,879 - attention.type = tanh\n",
      "INFO - 2019-04-23 17:50:43,879 - type = tanh\n",
      "INFO - 2019-04-23 17:50:43,879 - instantiating class <class 'Transparency.model.modules.Attention.TanhAttention'> from params <allennlp.common.params.Params object at 0x7faa462167b8> and extras set()\n",
      "INFO - 2019-04-23 17:50:43,880 - attention.hidden_size = 128\n",
      "INFO - 2019-04-23 17:50:43,880 - hidden_size = 128\n",
      "100%|██████████| 12/12 [00:00<00:00, 460.24it/s]"
     ]
    },
    {
     "name": "stdout",
     "output_type": "stream",
     "text": [
      "{'accuracy': 0.9299719887955182, 'roc_auc': 0.9770886949971753, 'pr_auc': 0.9711039438913491}\n"
     ]
    },
    {
     "name": "stderr",
     "output_type": "stream",
     "text": [
      "\n"
     ]
    },
    {
     "data": {
      "text/html": [
       "<div>\n",
       "<style scoped>\n",
       "    .dataframe tbody tr th:only-of-type {\n",
       "        vertical-align: middle;\n",
       "    }\n",
       "\n",
       "    .dataframe tbody tr th {\n",
       "        vertical-align: top;\n",
       "    }\n",
       "\n",
       "    .dataframe thead th {\n",
       "        text-align: right;\n",
       "    }\n",
       "</style>\n",
       "<table border=\"1\" class=\"dataframe\">\n",
       "  <thead>\n",
       "    <tr style=\"text-align: right;\">\n",
       "      <th></th>\n",
       "      <th>0</th>\n",
       "      <th>1</th>\n",
       "      <th>micro avg</th>\n",
       "      <th>macro avg</th>\n",
       "      <th>weighted avg</th>\n",
       "    </tr>\n",
       "  </thead>\n",
       "  <tbody>\n",
       "    <tr>\n",
       "      <th>f1-score</th>\n",
       "      <td>0.932</td>\n",
       "      <td>0.928</td>\n",
       "      <td>0.93</td>\n",
       "      <td>0.930</td>\n",
       "      <td>0.930</td>\n",
       "    </tr>\n",
       "    <tr>\n",
       "      <th>precision</th>\n",
       "      <td>0.910</td>\n",
       "      <td>0.953</td>\n",
       "      <td>0.93</td>\n",
       "      <td>0.931</td>\n",
       "      <td>0.931</td>\n",
       "    </tr>\n",
       "    <tr>\n",
       "      <th>recall</th>\n",
       "      <td>0.955</td>\n",
       "      <td>0.904</td>\n",
       "      <td>0.93</td>\n",
       "      <td>0.930</td>\n",
       "      <td>0.930</td>\n",
       "    </tr>\n",
       "    <tr>\n",
       "      <th>support</th>\n",
       "      <td>179.000</td>\n",
       "      <td>178.000</td>\n",
       "      <td>357.00</td>\n",
       "      <td>357.000</td>\n",
       "      <td>357.000</td>\n",
       "    </tr>\n",
       "  </tbody>\n",
       "</table>\n",
       "</div>"
      ],
      "text/plain": [
       "                 0        1  micro avg  macro avg  weighted avg\n",
       "f1-score     0.932    0.928       0.93      0.930         0.930\n",
       "precision    0.910    0.953       0.93      0.931         0.931\n",
       "recall       0.955    0.904       0.93      0.930         0.930\n",
       "support    179.000  178.000     357.00    357.000       357.000"
      ]
     },
     "metadata": {},
     "output_type": "display_data"
    },
    {
     "name": "stderr",
     "output_type": "stream",
     "text": [
      "100%|██████████| 12/12 [00:00<00:00, 174.89it/s]\n",
      "100%|██████████| 12/12 [00:03<00:00,  3.05it/s]\n",
      "100%|██████████| 12/12 [00:16<00:00,  1.34s/it]\n",
      "100%|██████████| 12/12 [00:03<00:00,  1.56it/s]\n",
      "INFO - 2019-04-23 17:51:07,789 - instantiating class <class 'Transparency.model.modules.Encoder.Encoder'> from params {'vocab_size': 6515, 'embed_size': 300, 'type': 'rnn', 'hidden_size': 128, 'pre_embed': array([[ 0.        ,  0.        ,  0.        , ...,  0.        ,\n",
      "         0.        ,  0.        ],\n",
      "       [ 0.        ,  0.        ,  0.        , ...,  0.        ,\n",
      "         0.        ,  0.        ],\n",
      "       [ 0.        ,  0.        ,  0.        , ...,  0.        ,\n",
      "         0.        ,  0.        ],\n",
      "       ...,\n",
      "       [ 0.31336999, -0.1891    ,  0.06034   , ...,  0.19617   ,\n",
      "        -0.11479   ,  0.053594  ],\n",
      "       [ 0.        ,  0.        ,  0.        , ...,  0.        ,\n",
      "         0.        ,  0.        ],\n",
      "       [ 0.13421001, -1.01919997,  0.014029  , ...,  0.59031999,\n",
      "        -0.32427001, -0.21134999]])} and extras set()\n",
      "INFO - 2019-04-23 17:51:07,789 - type = rnn\n",
      "INFO - 2019-04-23 17:51:07,790 - instantiating class <class 'Transparency.model.modules.Encoder.EncoderRNN'> from params {'vocab_size': 6515, 'embed_size': 300, 'hidden_size': 128, 'pre_embed': array([[ 0.        ,  0.        ,  0.        , ...,  0.        ,\n",
      "         0.        ,  0.        ],\n",
      "       [ 0.        ,  0.        ,  0.        , ...,  0.        ,\n",
      "         0.        ,  0.        ],\n",
      "       [ 0.        ,  0.        ,  0.        , ...,  0.        ,\n",
      "         0.        ,  0.        ],\n",
      "       ...,\n",
      "       [ 0.31336999, -0.1891    ,  0.06034   , ...,  0.19617   ,\n",
      "        -0.11479   ,  0.053594  ],\n",
      "       [ 0.        ,  0.        ,  0.        , ...,  0.        ,\n",
      "         0.        ,  0.        ],\n",
      "       [ 0.13421001, -1.01919997,  0.014029  , ...,  0.59031999,\n",
      "        -0.32427001, -0.21134999]])} and extras set()\n",
      "INFO - 2019-04-23 17:51:07,790 - vocab_size = 6515\n",
      "INFO - 2019-04-23 17:51:07,791 - embed_size = 300\n",
      "INFO - 2019-04-23 17:51:07,791 - hidden_size = 128\n",
      "INFO - 2019-04-23 17:51:07,791 - pre_embed = [[ 0.          0.          0.         ...  0.          0.\n",
      "   0.        ]\n",
      " [ 0.          0.          0.         ...  0.          0.\n",
      "   0.        ]\n",
      " [ 0.          0.          0.         ...  0.          0.\n",
      "   0.        ]\n",
      " ...\n",
      " [ 0.31336999 -0.1891      0.06034    ...  0.19617    -0.11479\n",
      "   0.053594  ]\n",
      " [ 0.          0.          0.         ...  0.          0.\n",
      "   0.        ]\n",
      " [ 0.13421001 -1.01919997  0.014029   ...  0.59031999 -0.32427001\n",
      "  -0.21134999]]\n",
      "INFO - 2019-04-23 17:51:07,798 - instantiating class <class 'Transparency.model.modules.Decoder.AttnDecoder'> from params {'attention': {'type': 'tanh'}, 'output_size': 1, 'hidden_size': 256} and extras set()\n",
      "INFO - 2019-04-23 17:51:07,798 - hidden_size = 256\n",
      "INFO - 2019-04-23 17:51:07,798 - output_size = 1\n",
      "INFO - 2019-04-23 17:51:07,799 - use_attention = True\n",
      "INFO - 2019-04-23 17:51:07,799 - regularizer_attention = None\n",
      "INFO - 2019-04-23 17:51:07,800 - instantiating class <class 'Transparency.model.modules.Attention.Attention'> from params <allennlp.common.params.Params object at 0x7faa46283a58> and extras set()\n",
      "INFO - 2019-04-23 17:51:07,800 - attention.type = tanh\n",
      "INFO - 2019-04-23 17:51:07,800 - type = tanh\n",
      "INFO - 2019-04-23 17:51:07,800 - instantiating class <class 'Transparency.model.modules.Attention.TanhAttention'> from params <allennlp.common.params.Params object at 0x7faa46283a58> and extras set()\n",
      "INFO - 2019-04-23 17:51:07,801 - attention.hidden_size = 256\n",
      "INFO - 2019-04-23 17:51:07,801 - hidden_size = 256\n",
      "  0%|          | 0/8 [00:00<?, ?it/s]\n",
      "  0%|          | 0/36 [00:00<?, ?it/s]\u001b[A\n",
      " 19%|█▉        | 7/36 [00:00<00:00, 66.54it/s]\u001b[A"
     ]
    },
    {
     "name": "stdout",
     "output_type": "stream",
     "text": [
      "Setting Embedding\n"
     ]
    },
    {
     "name": "stderr",
     "output_type": "stream",
     "text": [
      "\n",
      " 44%|████▍     | 16/36 [00:00<00:00, 67.56it/s]\u001b[A\n",
      " 67%|██████▋   | 24/36 [00:00<00:00, 67.76it/s]\u001b[A\n",
      " 81%|████████  | 29/36 [00:00<00:00, 59.79it/s]\u001b[A\n",
      "100%|██████████| 36/36 [00:00<00:00, 68.74it/s]\u001b[A\n",
      "  0%|          | 0/9 [00:00<?, ?it/s]\u001b[A\n",
      "100%|██████████| 9/9 [00:00<00:00, 195.45it/s]\u001b[A"
     ]
    },
    {
     "name": "stdout",
     "output_type": "stream",
     "text": [
      "{'accuracy': 0.89568345323741, 'roc_auc': 0.9485507246376812, 'pr_auc': 0.9582287094435276}\n"
     ]
    },
    {
     "data": {
      "text/html": [
       "<div>\n",
       "<style scoped>\n",
       "    .dataframe tbody tr th:only-of-type {\n",
       "        vertical-align: middle;\n",
       "    }\n",
       "\n",
       "    .dataframe tbody tr th {\n",
       "        vertical-align: top;\n",
       "    }\n",
       "\n",
       "    .dataframe thead th {\n",
       "        text-align: right;\n",
       "    }\n",
       "</style>\n",
       "<table border=\"1\" class=\"dataframe\">\n",
       "  <thead>\n",
       "    <tr style=\"text-align: right;\">\n",
       "      <th></th>\n",
       "      <th>0</th>\n",
       "      <th>1</th>\n",
       "      <th>micro avg</th>\n",
       "      <th>macro avg</th>\n",
       "      <th>weighted avg</th>\n",
       "    </tr>\n",
       "  </thead>\n",
       "  <tbody>\n",
       "    <tr>\n",
       "      <th>f1-score</th>\n",
       "      <td>0.900</td>\n",
       "      <td>0.891</td>\n",
       "      <td>0.896</td>\n",
       "      <td>0.895</td>\n",
       "      <td>0.895</td>\n",
       "    </tr>\n",
       "    <tr>\n",
       "      <th>precision</th>\n",
       "      <td>0.868</td>\n",
       "      <td>0.929</td>\n",
       "      <td>0.896</td>\n",
       "      <td>0.898</td>\n",
       "      <td>0.898</td>\n",
       "    </tr>\n",
       "    <tr>\n",
       "      <th>recall</th>\n",
       "      <td>0.936</td>\n",
       "      <td>0.855</td>\n",
       "      <td>0.896</td>\n",
       "      <td>0.895</td>\n",
       "      <td>0.896</td>\n",
       "    </tr>\n",
       "    <tr>\n",
       "      <th>support</th>\n",
       "      <td>140.000</td>\n",
       "      <td>138.000</td>\n",
       "      <td>278.000</td>\n",
       "      <td>278.000</td>\n",
       "      <td>278.000</td>\n",
       "    </tr>\n",
       "  </tbody>\n",
       "</table>\n",
       "</div>"
      ],
      "text/plain": [
       "                 0        1  micro avg  macro avg  weighted avg\n",
       "f1-score     0.900    0.891      0.896      0.895         0.895\n",
       "precision    0.868    0.929      0.896      0.898         0.898\n",
       "recall       0.936    0.855      0.896      0.895         0.896\n",
       "support    140.000  138.000    278.000    278.000       278.000"
      ]
     },
     "metadata": {},
     "output_type": "display_data"
    },
    {
     "name": "stderr",
     "output_type": "stream",
     "text": [
      " 12%|█▎        | 1/8 [00:00<00:04,  1.67it/s]\n",
      "  0%|          | 0/36 [00:00<?, ?it/s]\u001b[A\n",
      " 25%|██▌       | 9/36 [00:00<00:00, 80.30it/s]\u001b[A"
     ]
    },
    {
     "name": "stdout",
     "output_type": "stream",
     "text": [
      "Model not saved on  roc_auc 0.9485507246376812\n"
     ]
    },
    {
     "name": "stderr",
     "output_type": "stream",
     "text": [
      "\n",
      " 44%|████▍     | 16/36 [00:00<00:00, 76.61it/s]\u001b[A\n",
      " 64%|██████▍   | 23/36 [00:00<00:00, 73.47it/s]\u001b[A\n",
      " 83%|████████▎ | 30/36 [00:00<00:00, 68.91it/s]\u001b[A\n",
      "100%|██████████| 36/36 [00:00<00:00, 68.71it/s]\u001b[A\n",
      "  0%|          | 0/9 [00:00<?, ?it/s]\u001b[A\n",
      "100%|██████████| 9/9 [00:00<00:00, 194.74it/s]\u001b[A"
     ]
    },
    {
     "name": "stdout",
     "output_type": "stream",
     "text": [
      "{'accuracy': 0.9100719424460432, 'roc_auc': 0.9813146997929607, 'pr_auc': 0.9818140398421003}\n"
     ]
    },
    {
     "data": {
      "text/html": [
       "<div>\n",
       "<style scoped>\n",
       "    .dataframe tbody tr th:only-of-type {\n",
       "        vertical-align: middle;\n",
       "    }\n",
       "\n",
       "    .dataframe tbody tr th {\n",
       "        vertical-align: top;\n",
       "    }\n",
       "\n",
       "    .dataframe thead th {\n",
       "        text-align: right;\n",
       "    }\n",
       "</style>\n",
       "<table border=\"1\" class=\"dataframe\">\n",
       "  <thead>\n",
       "    <tr style=\"text-align: right;\">\n",
       "      <th></th>\n",
       "      <th>0</th>\n",
       "      <th>1</th>\n",
       "      <th>micro avg</th>\n",
       "      <th>macro avg</th>\n",
       "      <th>weighted avg</th>\n",
       "    </tr>\n",
       "  </thead>\n",
       "  <tbody>\n",
       "    <tr>\n",
       "      <th>f1-score</th>\n",
       "      <td>0.917</td>\n",
       "      <td>0.901</td>\n",
       "      <td>0.91</td>\n",
       "      <td>0.909</td>\n",
       "      <td>0.909</td>\n",
       "    </tr>\n",
       "    <tr>\n",
       "      <th>precision</th>\n",
       "      <td>0.853</td>\n",
       "      <td>0.991</td>\n",
       "      <td>0.91</td>\n",
       "      <td>0.922</td>\n",
       "      <td>0.922</td>\n",
       "    </tr>\n",
       "    <tr>\n",
       "      <th>recall</th>\n",
       "      <td>0.993</td>\n",
       "      <td>0.826</td>\n",
       "      <td>0.91</td>\n",
       "      <td>0.909</td>\n",
       "      <td>0.910</td>\n",
       "    </tr>\n",
       "    <tr>\n",
       "      <th>support</th>\n",
       "      <td>140.000</td>\n",
       "      <td>138.000</td>\n",
       "      <td>278.00</td>\n",
       "      <td>278.000</td>\n",
       "      <td>278.000</td>\n",
       "    </tr>\n",
       "  </tbody>\n",
       "</table>\n",
       "</div>"
      ],
      "text/plain": [
       "                 0        1  micro avg  macro avg  weighted avg\n",
       "f1-score     0.917    0.901       0.91      0.909         0.909\n",
       "precision    0.853    0.991       0.91      0.922         0.922\n",
       "recall       0.993    0.826       0.91      0.909         0.910\n",
       "support    140.000  138.000     278.00    278.000       278.000"
      ]
     },
     "metadata": {},
     "output_type": "display_data"
    },
    {
     "name": "stderr",
     "output_type": "stream",
     "text": [
      " 25%|██▌       | 2/8 [00:01<00:03,  1.60it/s]\n",
      "  0%|          | 0/36 [00:00<?, ?it/s]\u001b[A"
     ]
    },
    {
     "name": "stdout",
     "output_type": "stream",
     "text": [
      "Model Saved on  roc_auc 0.9813146997929607\n"
     ]
    },
    {
     "name": "stderr",
     "output_type": "stream",
     "text": [
      "\n",
      " 19%|█▉        | 7/36 [00:00<00:00, 54.02it/s]\u001b[A\n",
      " 39%|███▉      | 14/36 [00:00<00:00, 57.20it/s]\u001b[A\n",
      " 58%|█████▊    | 21/36 [00:00<00:00, 59.47it/s]\u001b[A\n",
      " 78%|███████▊  | 28/36 [00:00<00:00, 61.46it/s]\u001b[A\n",
      "100%|██████████| 36/36 [00:00<00:00, 67.16it/s]\u001b[A\n",
      "  0%|          | 0/9 [00:00<?, ?it/s]\u001b[A\n",
      "100%|██████████| 9/9 [00:00<00:00, 191.47it/s]\u001b[A"
     ]
    },
    {
     "name": "stdout",
     "output_type": "stream",
     "text": [
      "{'accuracy': 0.9316546762589928, 'roc_auc': 0.9856625258799172, 'pr_auc': 0.9861435261071563}\n"
     ]
    },
    {
     "data": {
      "text/html": [
       "<div>\n",
       "<style scoped>\n",
       "    .dataframe tbody tr th:only-of-type {\n",
       "        vertical-align: middle;\n",
       "    }\n",
       "\n",
       "    .dataframe tbody tr th {\n",
       "        vertical-align: top;\n",
       "    }\n",
       "\n",
       "    .dataframe thead th {\n",
       "        text-align: right;\n",
       "    }\n",
       "</style>\n",
       "<table border=\"1\" class=\"dataframe\">\n",
       "  <thead>\n",
       "    <tr style=\"text-align: right;\">\n",
       "      <th></th>\n",
       "      <th>0</th>\n",
       "      <th>1</th>\n",
       "      <th>micro avg</th>\n",
       "      <th>macro avg</th>\n",
       "      <th>weighted avg</th>\n",
       "    </tr>\n",
       "  </thead>\n",
       "  <tbody>\n",
       "    <tr>\n",
       "      <th>f1-score</th>\n",
       "      <td>0.936</td>\n",
       "      <td>0.927</td>\n",
       "      <td>0.932</td>\n",
       "      <td>0.931</td>\n",
       "      <td>0.931</td>\n",
       "    </tr>\n",
       "    <tr>\n",
       "      <th>precision</th>\n",
       "      <td>0.890</td>\n",
       "      <td>0.984</td>\n",
       "      <td>0.932</td>\n",
       "      <td>0.937</td>\n",
       "      <td>0.937</td>\n",
       "    </tr>\n",
       "    <tr>\n",
       "      <th>recall</th>\n",
       "      <td>0.986</td>\n",
       "      <td>0.877</td>\n",
       "      <td>0.932</td>\n",
       "      <td>0.931</td>\n",
       "      <td>0.932</td>\n",
       "    </tr>\n",
       "    <tr>\n",
       "      <th>support</th>\n",
       "      <td>140.000</td>\n",
       "      <td>138.000</td>\n",
       "      <td>278.000</td>\n",
       "      <td>278.000</td>\n",
       "      <td>278.000</td>\n",
       "    </tr>\n",
       "  </tbody>\n",
       "</table>\n",
       "</div>"
      ],
      "text/plain": [
       "                 0        1  micro avg  macro avg  weighted avg\n",
       "f1-score     0.936    0.927      0.932      0.931         0.931\n",
       "precision    0.890    0.984      0.932      0.937         0.937\n",
       "recall       0.986    0.877      0.932      0.931         0.932\n",
       "support    140.000  138.000    278.000    278.000       278.000"
      ]
     },
     "metadata": {},
     "output_type": "display_data"
    },
    {
     "name": "stderr",
     "output_type": "stream",
     "text": [
      " 38%|███▊      | 3/8 [00:01<00:03,  1.55it/s]\n",
      "  0%|          | 0/36 [00:00<?, ?it/s]\u001b[A"
     ]
    },
    {
     "name": "stdout",
     "output_type": "stream",
     "text": [
      "Model Saved on  roc_auc 0.9856625258799172\n"
     ]
    },
    {
     "name": "stderr",
     "output_type": "stream",
     "text": [
      "\n",
      " 19%|█▉        | 7/36 [00:00<00:00, 69.24it/s]\u001b[A\n",
      " 36%|███▌      | 13/36 [00:00<00:00, 65.76it/s]\u001b[A\n",
      " 56%|█████▌    | 20/36 [00:00<00:00, 64.71it/s]\u001b[A\n",
      " 78%|███████▊  | 28/36 [00:00<00:00, 66.14it/s]\u001b[A\n",
      " 92%|█████████▏| 33/36 [00:00<00:00, 59.26it/s]\u001b[A\n",
      "100%|██████████| 36/36 [00:00<00:00, 63.58it/s]\u001b[A\n",
      "  0%|          | 0/9 [00:00<?, ?it/s]\u001b[A\n",
      "100%|██████████| 9/9 [00:00<00:00, 193.18it/s]\u001b[A"
     ]
    },
    {
     "name": "stdout",
     "output_type": "stream",
     "text": [
      "{'accuracy': 0.9316546762589928, 'roc_auc': 0.9878881987577639, 'pr_auc': 0.9886616142778553}\n"
     ]
    },
    {
     "data": {
      "text/html": [
       "<div>\n",
       "<style scoped>\n",
       "    .dataframe tbody tr th:only-of-type {\n",
       "        vertical-align: middle;\n",
       "    }\n",
       "\n",
       "    .dataframe tbody tr th {\n",
       "        vertical-align: top;\n",
       "    }\n",
       "\n",
       "    .dataframe thead th {\n",
       "        text-align: right;\n",
       "    }\n",
       "</style>\n",
       "<table border=\"1\" class=\"dataframe\">\n",
       "  <thead>\n",
       "    <tr style=\"text-align: right;\">\n",
       "      <th></th>\n",
       "      <th>0</th>\n",
       "      <th>1</th>\n",
       "      <th>micro avg</th>\n",
       "      <th>macro avg</th>\n",
       "      <th>weighted avg</th>\n",
       "    </tr>\n",
       "  </thead>\n",
       "  <tbody>\n",
       "    <tr>\n",
       "      <th>f1-score</th>\n",
       "      <td>0.932</td>\n",
       "      <td>0.931</td>\n",
       "      <td>0.932</td>\n",
       "      <td>0.932</td>\n",
       "      <td>0.932</td>\n",
       "    </tr>\n",
       "    <tr>\n",
       "      <th>precision</th>\n",
       "      <td>0.935</td>\n",
       "      <td>0.928</td>\n",
       "      <td>0.932</td>\n",
       "      <td>0.932</td>\n",
       "      <td>0.932</td>\n",
       "    </tr>\n",
       "    <tr>\n",
       "      <th>recall</th>\n",
       "      <td>0.929</td>\n",
       "      <td>0.935</td>\n",
       "      <td>0.932</td>\n",
       "      <td>0.932</td>\n",
       "      <td>0.932</td>\n",
       "    </tr>\n",
       "    <tr>\n",
       "      <th>support</th>\n",
       "      <td>140.000</td>\n",
       "      <td>138.000</td>\n",
       "      <td>278.000</td>\n",
       "      <td>278.000</td>\n",
       "      <td>278.000</td>\n",
       "    </tr>\n",
       "  </tbody>\n",
       "</table>\n",
       "</div>"
      ],
      "text/plain": [
       "                 0        1  micro avg  macro avg  weighted avg\n",
       "f1-score     0.932    0.931      0.932      0.932         0.932\n",
       "precision    0.935    0.928      0.932      0.932         0.932\n",
       "recall       0.929    0.935      0.932      0.932         0.932\n",
       "support    140.000  138.000    278.000    278.000       278.000"
      ]
     },
     "metadata": {},
     "output_type": "display_data"
    },
    {
     "name": "stderr",
     "output_type": "stream",
     "text": [
      " 50%|█████     | 4/8 [00:02<00:02,  1.49it/s]\n",
      "  0%|          | 0/36 [00:00<?, ?it/s]\u001b[A"
     ]
    },
    {
     "name": "stdout",
     "output_type": "stream",
     "text": [
      "Model Saved on  roc_auc 0.9878881987577639\n"
     ]
    },
    {
     "name": "stderr",
     "output_type": "stream",
     "text": [
      "\n",
      " 19%|█▉        | 7/36 [00:00<00:00, 59.09it/s]\u001b[A\n",
      " 39%|███▉      | 14/36 [00:00<00:00, 61.61it/s]\u001b[A\n",
      " 61%|██████    | 22/36 [00:00<00:00, 63.27it/s]\u001b[A\n",
      " 89%|████████▉ | 32/36 [00:00<00:00, 68.37it/s]\u001b[A\n",
      "100%|██████████| 36/36 [00:00<00:00, 67.56it/s]\u001b[A\n",
      "  0%|          | 0/9 [00:00<?, ?it/s]\u001b[A\n",
      "100%|██████████| 9/9 [00:00<00:00, 192.59it/s]\u001b[A"
     ]
    },
    {
     "name": "stdout",
     "output_type": "stream",
     "text": [
      "{'accuracy': 0.9172661870503597, 'roc_auc': 0.9824534161490683, 'pr_auc': 0.9841071084421696}\n"
     ]
    },
    {
     "data": {
      "text/html": [
       "<div>\n",
       "<style scoped>\n",
       "    .dataframe tbody tr th:only-of-type {\n",
       "        vertical-align: middle;\n",
       "    }\n",
       "\n",
       "    .dataframe tbody tr th {\n",
       "        vertical-align: top;\n",
       "    }\n",
       "\n",
       "    .dataframe thead th {\n",
       "        text-align: right;\n",
       "    }\n",
       "</style>\n",
       "<table border=\"1\" class=\"dataframe\">\n",
       "  <thead>\n",
       "    <tr style=\"text-align: right;\">\n",
       "      <th></th>\n",
       "      <th>0</th>\n",
       "      <th>1</th>\n",
       "      <th>micro avg</th>\n",
       "      <th>macro avg</th>\n",
       "      <th>weighted avg</th>\n",
       "    </tr>\n",
       "  </thead>\n",
       "  <tbody>\n",
       "    <tr>\n",
       "      <th>f1-score</th>\n",
       "      <td>0.921</td>\n",
       "      <td>0.913</td>\n",
       "      <td>0.917</td>\n",
       "      <td>0.917</td>\n",
       "      <td>0.917</td>\n",
       "    </tr>\n",
       "    <tr>\n",
       "      <th>precision</th>\n",
       "      <td>0.887</td>\n",
       "      <td>0.953</td>\n",
       "      <td>0.917</td>\n",
       "      <td>0.920</td>\n",
       "      <td>0.920</td>\n",
       "    </tr>\n",
       "    <tr>\n",
       "      <th>recall</th>\n",
       "      <td>0.957</td>\n",
       "      <td>0.877</td>\n",
       "      <td>0.917</td>\n",
       "      <td>0.917</td>\n",
       "      <td>0.917</td>\n",
       "    </tr>\n",
       "    <tr>\n",
       "      <th>support</th>\n",
       "      <td>140.000</td>\n",
       "      <td>138.000</td>\n",
       "      <td>278.000</td>\n",
       "      <td>278.000</td>\n",
       "      <td>278.000</td>\n",
       "    </tr>\n",
       "  </tbody>\n",
       "</table>\n",
       "</div>"
      ],
      "text/plain": [
       "                 0        1  micro avg  macro avg  weighted avg\n",
       "f1-score     0.921    0.913      0.917      0.917         0.917\n",
       "precision    0.887    0.953      0.917      0.920         0.920\n",
       "recall       0.957    0.877      0.917      0.917         0.917\n",
       "support    140.000  138.000    278.000    278.000       278.000"
      ]
     },
     "metadata": {},
     "output_type": "display_data"
    },
    {
     "name": "stderr",
     "output_type": "stream",
     "text": [
      " 62%|██████▎   | 5/8 [00:03<00:01,  1.54it/s]\n",
      "  0%|          | 0/36 [00:00<?, ?it/s]\u001b[A\n",
      " 22%|██▏       | 8/36 [00:00<00:00, 79.25it/s]\u001b[A"
     ]
    },
    {
     "name": "stdout",
     "output_type": "stream",
     "text": [
      "Model not saved on  roc_auc 0.9824534161490683\n"
     ]
    },
    {
     "name": "stderr",
     "output_type": "stream",
     "text": [
      "\n",
      " 42%|████▏     | 15/36 [00:00<00:00, 74.13it/s]\u001b[A\n",
      " 56%|█████▌    | 20/36 [00:00<00:00, 63.37it/s]\u001b[A\n",
      " 75%|███████▌  | 27/36 [00:00<00:00, 62.77it/s]\u001b[A\n",
      "100%|██████████| 36/36 [00:00<00:00, 68.71it/s]\u001b[A\n",
      "  0%|          | 0/9 [00:00<?, ?it/s]\u001b[A\n",
      "100%|██████████| 9/9 [00:00<00:00, 192.57it/s]\u001b[A"
     ]
    },
    {
     "name": "stdout",
     "output_type": "stream",
     "text": [
      "{'accuracy': 0.9244604316546763, 'roc_auc': 0.9878881987577639, 'pr_auc': 0.9887375671093813}\n"
     ]
    },
    {
     "data": {
      "text/html": [
       "<div>\n",
       "<style scoped>\n",
       "    .dataframe tbody tr th:only-of-type {\n",
       "        vertical-align: middle;\n",
       "    }\n",
       "\n",
       "    .dataframe tbody tr th {\n",
       "        vertical-align: top;\n",
       "    }\n",
       "\n",
       "    .dataframe thead th {\n",
       "        text-align: right;\n",
       "    }\n",
       "</style>\n",
       "<table border=\"1\" class=\"dataframe\">\n",
       "  <thead>\n",
       "    <tr style=\"text-align: right;\">\n",
       "      <th></th>\n",
       "      <th>0</th>\n",
       "      <th>1</th>\n",
       "      <th>micro avg</th>\n",
       "      <th>macro avg</th>\n",
       "      <th>weighted avg</th>\n",
       "    </tr>\n",
       "  </thead>\n",
       "  <tbody>\n",
       "    <tr>\n",
       "      <th>f1-score</th>\n",
       "      <td>0.930</td>\n",
       "      <td>0.918</td>\n",
       "      <td>0.924</td>\n",
       "      <td>0.924</td>\n",
       "      <td>0.924</td>\n",
       "    </tr>\n",
       "    <tr>\n",
       "      <th>precision</th>\n",
       "      <td>0.874</td>\n",
       "      <td>0.992</td>\n",
       "      <td>0.924</td>\n",
       "      <td>0.933</td>\n",
       "      <td>0.932</td>\n",
       "    </tr>\n",
       "    <tr>\n",
       "      <th>recall</th>\n",
       "      <td>0.993</td>\n",
       "      <td>0.855</td>\n",
       "      <td>0.924</td>\n",
       "      <td>0.924</td>\n",
       "      <td>0.924</td>\n",
       "    </tr>\n",
       "    <tr>\n",
       "      <th>support</th>\n",
       "      <td>140.000</td>\n",
       "      <td>138.000</td>\n",
       "      <td>278.000</td>\n",
       "      <td>278.000</td>\n",
       "      <td>278.000</td>\n",
       "    </tr>\n",
       "  </tbody>\n",
       "</table>\n",
       "</div>"
      ],
      "text/plain": [
       "                 0        1  micro avg  macro avg  weighted avg\n",
       "f1-score     0.930    0.918      0.924      0.924         0.924\n",
       "precision    0.874    0.992      0.924      0.933         0.932\n",
       "recall       0.993    0.855      0.924      0.924         0.924\n",
       "support    140.000  138.000    278.000    278.000       278.000"
      ]
     },
     "metadata": {},
     "output_type": "display_data"
    },
    {
     "name": "stderr",
     "output_type": "stream",
     "text": [
      " 75%|███████▌  | 6/8 [00:03<00:01,  1.58it/s]\n",
      "  0%|          | 0/36 [00:00<?, ?it/s]\u001b[A\n",
      " 19%|█▉        | 7/36 [00:00<00:00, 53.42it/s]\u001b[A"
     ]
    },
    {
     "name": "stdout",
     "output_type": "stream",
     "text": [
      "Model not saved on  roc_auc 0.9878881987577639\n"
     ]
    },
    {
     "name": "stderr",
     "output_type": "stream",
     "text": [
      "\n",
      " 47%|████▋     | 17/36 [00:00<00:00, 58.89it/s]\u001b[A\n",
      " 72%|███████▏  | 26/36 [00:00<00:00, 64.68it/s]\u001b[A\n",
      " 92%|█████████▏| 33/36 [00:00<00:00, 64.13it/s]\u001b[A\n",
      "100%|██████████| 36/36 [00:00<00:00, 68.05it/s]\u001b[A\n",
      "  0%|          | 0/9 [00:00<?, ?it/s]\u001b[A\n",
      "100%|██████████| 9/9 [00:00<00:00, 177.05it/s]\u001b[A"
     ]
    },
    {
     "name": "stdout",
     "output_type": "stream",
     "text": [
      "{'accuracy': 0.9244604316546763, 'roc_auc': 0.9853002070393375, 'pr_auc': 0.9863285389890775}\n"
     ]
    },
    {
     "data": {
      "text/html": [
       "<div>\n",
       "<style scoped>\n",
       "    .dataframe tbody tr th:only-of-type {\n",
       "        vertical-align: middle;\n",
       "    }\n",
       "\n",
       "    .dataframe tbody tr th {\n",
       "        vertical-align: top;\n",
       "    }\n",
       "\n",
       "    .dataframe thead th {\n",
       "        text-align: right;\n",
       "    }\n",
       "</style>\n",
       "<table border=\"1\" class=\"dataframe\">\n",
       "  <thead>\n",
       "    <tr style=\"text-align: right;\">\n",
       "      <th></th>\n",
       "      <th>0</th>\n",
       "      <th>1</th>\n",
       "      <th>micro avg</th>\n",
       "      <th>macro avg</th>\n",
       "      <th>weighted avg</th>\n",
       "    </tr>\n",
       "  </thead>\n",
       "  <tbody>\n",
       "    <tr>\n",
       "      <th>f1-score</th>\n",
       "      <td>0.928</td>\n",
       "      <td>0.921</td>\n",
       "      <td>0.924</td>\n",
       "      <td>0.924</td>\n",
       "      <td>0.924</td>\n",
       "    </tr>\n",
       "    <tr>\n",
       "      <th>precision</th>\n",
       "      <td>0.894</td>\n",
       "      <td>0.961</td>\n",
       "      <td>0.924</td>\n",
       "      <td>0.927</td>\n",
       "      <td>0.927</td>\n",
       "    </tr>\n",
       "    <tr>\n",
       "      <th>recall</th>\n",
       "      <td>0.964</td>\n",
       "      <td>0.884</td>\n",
       "      <td>0.924</td>\n",
       "      <td>0.924</td>\n",
       "      <td>0.924</td>\n",
       "    </tr>\n",
       "    <tr>\n",
       "      <th>support</th>\n",
       "      <td>140.000</td>\n",
       "      <td>138.000</td>\n",
       "      <td>278.000</td>\n",
       "      <td>278.000</td>\n",
       "      <td>278.000</td>\n",
       "    </tr>\n",
       "  </tbody>\n",
       "</table>\n",
       "</div>"
      ],
      "text/plain": [
       "                 0        1  micro avg  macro avg  weighted avg\n",
       "f1-score     0.928    0.921      0.924      0.924         0.924\n",
       "precision    0.894    0.961      0.924      0.927         0.927\n",
       "recall       0.964    0.884      0.924      0.924         0.924\n",
       "support    140.000  138.000    278.000    278.000       278.000"
      ]
     },
     "metadata": {},
     "output_type": "display_data"
    },
    {
     "name": "stderr",
     "output_type": "stream",
     "text": [
      " 88%|████████▊ | 7/8 [00:04<00:00,  1.60it/s]\n",
      "  0%|          | 0/36 [00:00<?, ?it/s]\u001b[A\n",
      " 22%|██▏       | 8/36 [00:00<00:00, 74.82it/s]\u001b[A"
     ]
    },
    {
     "name": "stdout",
     "output_type": "stream",
     "text": [
      "Model not saved on  roc_auc 0.9853002070393375\n"
     ]
    },
    {
     "name": "stderr",
     "output_type": "stream",
     "text": [
      "\n",
      " 47%|████▋     | 17/36 [00:00<00:00, 76.43it/s]\u001b[A\n",
      " 61%|██████    | 22/36 [00:00<00:00, 64.15it/s]\u001b[A\n",
      " 78%|███████▊  | 28/36 [00:00<00:00, 61.32it/s]\u001b[A\n",
      " 97%|█████████▋| 35/36 [00:00<00:00, 63.11it/s]\u001b[A\n",
      "100%|██████████| 36/36 [00:00<00:00, 65.04it/s]\u001b[A\n",
      "  0%|          | 0/9 [00:00<?, ?it/s]\u001b[A\n",
      "100%|██████████| 9/9 [00:00<00:00, 187.35it/s]\u001b[A"
     ]
    },
    {
     "name": "stdout",
     "output_type": "stream",
     "text": [
      "{'accuracy': 0.9280575539568345, 'roc_auc': 0.9884575569358178, 'pr_auc': 0.9895775202867921}\n"
     ]
    },
    {
     "data": {
      "text/html": [
       "<div>\n",
       "<style scoped>\n",
       "    .dataframe tbody tr th:only-of-type {\n",
       "        vertical-align: middle;\n",
       "    }\n",
       "\n",
       "    .dataframe tbody tr th {\n",
       "        vertical-align: top;\n",
       "    }\n",
       "\n",
       "    .dataframe thead th {\n",
       "        text-align: right;\n",
       "    }\n",
       "</style>\n",
       "<table border=\"1\" class=\"dataframe\">\n",
       "  <thead>\n",
       "    <tr style=\"text-align: right;\">\n",
       "      <th></th>\n",
       "      <th>0</th>\n",
       "      <th>1</th>\n",
       "      <th>micro avg</th>\n",
       "      <th>macro avg</th>\n",
       "      <th>weighted avg</th>\n",
       "    </tr>\n",
       "  </thead>\n",
       "  <tbody>\n",
       "    <tr>\n",
       "      <th>f1-score</th>\n",
       "      <td>0.927</td>\n",
       "      <td>0.929</td>\n",
       "      <td>0.928</td>\n",
       "      <td>0.928</td>\n",
       "      <td>0.928</td>\n",
       "    </tr>\n",
       "    <tr>\n",
       "      <th>precision</th>\n",
       "      <td>0.948</td>\n",
       "      <td>0.910</td>\n",
       "      <td>0.928</td>\n",
       "      <td>0.929</td>\n",
       "      <td>0.929</td>\n",
       "    </tr>\n",
       "    <tr>\n",
       "      <th>recall</th>\n",
       "      <td>0.907</td>\n",
       "      <td>0.949</td>\n",
       "      <td>0.928</td>\n",
       "      <td>0.928</td>\n",
       "      <td>0.928</td>\n",
       "    </tr>\n",
       "    <tr>\n",
       "      <th>support</th>\n",
       "      <td>140.000</td>\n",
       "      <td>138.000</td>\n",
       "      <td>278.000</td>\n",
       "      <td>278.000</td>\n",
       "      <td>278.000</td>\n",
       "    </tr>\n",
       "  </tbody>\n",
       "</table>\n",
       "</div>"
      ],
      "text/plain": [
       "                 0        1  micro avg  macro avg  weighted avg\n",
       "f1-score     0.927    0.929      0.928      0.928         0.928\n",
       "precision    0.948    0.910      0.928      0.929         0.929\n",
       "recall       0.907    0.949      0.928      0.928         0.928\n",
       "support    140.000  138.000    278.000    278.000       278.000"
      ]
     },
     "metadata": {},
     "output_type": "display_data"
    },
    {
     "name": "stderr",
     "output_type": "stream",
     "text": [
      "100%|██████████| 8/8 [00:05<00:00,  1.53it/s]\n",
      "INFO - 2019-04-23 17:51:13,026 - instantiating class <class 'Transparency.model.modules.Encoder.Encoder'> from params {'vocab_size': 6515, 'embed_size': 300, 'type': 'rnn', 'hidden_size': 128, 'pre_embed': None} and extras set()\n",
      "INFO - 2019-04-23 17:51:13,027 - type = rnn\n",
      "INFO - 2019-04-23 17:51:13,027 - instantiating class <class 'Transparency.model.modules.Encoder.EncoderRNN'> from params {'vocab_size': 6515, 'embed_size': 300, 'hidden_size': 128, 'pre_embed': None} and extras set()\n",
      "INFO - 2019-04-23 17:51:13,027 - vocab_size = 6515\n",
      "INFO - 2019-04-23 17:51:13,028 - embed_size = 300\n",
      "INFO - 2019-04-23 17:51:13,028 - hidden_size = 128\n",
      "INFO - 2019-04-23 17:51:13,028 - pre_embed = None\n",
      "INFO - 2019-04-23 17:51:13,042 - instantiating class <class 'Transparency.model.modules.Decoder.AttnDecoder'> from params {'attention': {'type': 'tanh'}, 'output_size': 1, 'hidden_size': 256} and extras set()\n",
      "INFO - 2019-04-23 17:51:13,043 - hidden_size = 256\n",
      "INFO - 2019-04-23 17:51:13,043 - output_size = 1\n",
      "INFO - 2019-04-23 17:51:13,043 - use_attention = True\n",
      "INFO - 2019-04-23 17:51:13,044 - regularizer_attention = None\n",
      "INFO - 2019-04-23 17:51:13,045 - instantiating class <class 'Transparency.model.modules.Attention.Attention'> from params <allennlp.common.params.Params object at 0x7faa462e0e48> and extras set()\n",
      "INFO - 2019-04-23 17:51:13,045 - attention.type = tanh\n",
      "INFO - 2019-04-23 17:51:13,045 - type = tanh\n",
      "INFO - 2019-04-23 17:51:13,045 - instantiating class <class 'Transparency.model.modules.Attention.TanhAttention'> from params <allennlp.common.params.Params object at 0x7faa462e0e48> and extras set()\n",
      "INFO - 2019-04-23 17:51:13,046 - attention.hidden_size = 256\n",
      "INFO - 2019-04-23 17:51:13,046 - hidden_size = 256\n"
     ]
    },
    {
     "name": "stdout",
     "output_type": "stream",
     "text": [
      "Model Saved on  roc_auc 0.9884575569358178\n"
     ]
    },
    {
     "name": "stderr",
     "output_type": "stream",
     "text": [
      "100%|██████████| 12/12 [00:00<00:00, 178.18it/s]"
     ]
    },
    {
     "name": "stdout",
     "output_type": "stream",
     "text": [
      "{'accuracy': 0.927170868347339, 'roc_auc': 0.9778419433808297, 'pr_auc': 0.9776110615914129}\n"
     ]
    },
    {
     "name": "stderr",
     "output_type": "stream",
     "text": [
      "\n"
     ]
    },
    {
     "data": {
      "text/html": [
       "<div>\n",
       "<style scoped>\n",
       "    .dataframe tbody tr th:only-of-type {\n",
       "        vertical-align: middle;\n",
       "    }\n",
       "\n",
       "    .dataframe tbody tr th {\n",
       "        vertical-align: top;\n",
       "    }\n",
       "\n",
       "    .dataframe thead th {\n",
       "        text-align: right;\n",
       "    }\n",
       "</style>\n",
       "<table border=\"1\" class=\"dataframe\">\n",
       "  <thead>\n",
       "    <tr style=\"text-align: right;\">\n",
       "      <th></th>\n",
       "      <th>0</th>\n",
       "      <th>1</th>\n",
       "      <th>micro avg</th>\n",
       "      <th>macro avg</th>\n",
       "      <th>weighted avg</th>\n",
       "    </tr>\n",
       "  </thead>\n",
       "  <tbody>\n",
       "    <tr>\n",
       "      <th>f1-score</th>\n",
       "      <td>0.927</td>\n",
       "      <td>0.927</td>\n",
       "      <td>0.927</td>\n",
       "      <td>0.927</td>\n",
       "      <td>0.927</td>\n",
       "    </tr>\n",
       "    <tr>\n",
       "      <th>precision</th>\n",
       "      <td>0.927</td>\n",
       "      <td>0.927</td>\n",
       "      <td>0.927</td>\n",
       "      <td>0.927</td>\n",
       "      <td>0.927</td>\n",
       "    </tr>\n",
       "    <tr>\n",
       "      <th>recall</th>\n",
       "      <td>0.927</td>\n",
       "      <td>0.927</td>\n",
       "      <td>0.927</td>\n",
       "      <td>0.927</td>\n",
       "      <td>0.927</td>\n",
       "    </tr>\n",
       "    <tr>\n",
       "      <th>support</th>\n",
       "      <td>179.000</td>\n",
       "      <td>178.000</td>\n",
       "      <td>357.000</td>\n",
       "      <td>357.000</td>\n",
       "      <td>357.000</td>\n",
       "    </tr>\n",
       "  </tbody>\n",
       "</table>\n",
       "</div>"
      ],
      "text/plain": [
       "                 0        1  micro avg  macro avg  weighted avg\n",
       "f1-score     0.927    0.927      0.927      0.927         0.927\n",
       "precision    0.927    0.927      0.927      0.927         0.927\n",
       "recall       0.927    0.927      0.927      0.927         0.927\n",
       "support    179.000  178.000    357.000    357.000       357.000"
      ]
     },
     "metadata": {},
     "output_type": "display_data"
    },
    {
     "name": "stderr",
     "output_type": "stream",
     "text": [
      "INFO - 2019-04-23 17:51:13,224 - instantiating class <class 'Transparency.model.modules.Encoder.Encoder'> from params {'vocab_size': 6515, 'embed_size': 300, 'type': 'rnn', 'hidden_size': 128, 'pre_embed': None} and extras set()\n",
      "INFO - 2019-04-23 17:51:13,224 - type = rnn\n",
      "INFO - 2019-04-23 17:51:13,225 - instantiating class <class 'Transparency.model.modules.Encoder.EncoderRNN'> from params {'vocab_size': 6515, 'embed_size': 300, 'hidden_size': 128, 'pre_embed': None} and extras set()\n",
      "INFO - 2019-04-23 17:51:13,225 - vocab_size = 6515\n",
      "INFO - 2019-04-23 17:51:13,225 - embed_size = 300\n",
      "INFO - 2019-04-23 17:51:13,226 - hidden_size = 128\n",
      "INFO - 2019-04-23 17:51:13,226 - pre_embed = None\n",
      "INFO - 2019-04-23 17:51:13,240 - instantiating class <class 'Transparency.model.modules.Decoder.AttnDecoder'> from params {'attention': {'type': 'tanh'}, 'output_size': 1, 'hidden_size': 256} and extras set()\n",
      "INFO - 2019-04-23 17:51:13,240 - hidden_size = 256\n",
      "INFO - 2019-04-23 17:51:13,241 - output_size = 1\n",
      "INFO - 2019-04-23 17:51:13,241 - use_attention = True\n",
      "INFO - 2019-04-23 17:51:13,241 - regularizer_attention = None\n",
      "INFO - 2019-04-23 17:51:13,242 - instantiating class <class 'Transparency.model.modules.Attention.Attention'> from params <allennlp.common.params.Params object at 0x7faa462e0f98> and extras set()\n",
      "INFO - 2019-04-23 17:51:13,242 - attention.type = tanh\n",
      "INFO - 2019-04-23 17:51:13,243 - type = tanh\n",
      "INFO - 2019-04-23 17:51:13,243 - instantiating class <class 'Transparency.model.modules.Attention.TanhAttention'> from params <allennlp.common.params.Params object at 0x7faa462e0f98> and extras set()\n",
      "INFO - 2019-04-23 17:51:13,243 - attention.hidden_size = 256\n",
      "INFO - 2019-04-23 17:51:13,244 - hidden_size = 256\n",
      "100%|██████████| 12/12 [00:00<00:00, 175.24it/s]\n"
     ]
    },
    {
     "name": "stdout",
     "output_type": "stream",
     "text": [
      "{'accuracy': 0.927170868347339, 'roc_auc': 0.9778419433808297, 'pr_auc': 0.9776110615914129}\n"
     ]
    },
    {
     "data": {
      "text/html": [
       "<div>\n",
       "<style scoped>\n",
       "    .dataframe tbody tr th:only-of-type {\n",
       "        vertical-align: middle;\n",
       "    }\n",
       "\n",
       "    .dataframe tbody tr th {\n",
       "        vertical-align: top;\n",
       "    }\n",
       "\n",
       "    .dataframe thead th {\n",
       "        text-align: right;\n",
       "    }\n",
       "</style>\n",
       "<table border=\"1\" class=\"dataframe\">\n",
       "  <thead>\n",
       "    <tr style=\"text-align: right;\">\n",
       "      <th></th>\n",
       "      <th>0</th>\n",
       "      <th>1</th>\n",
       "      <th>micro avg</th>\n",
       "      <th>macro avg</th>\n",
       "      <th>weighted avg</th>\n",
       "    </tr>\n",
       "  </thead>\n",
       "  <tbody>\n",
       "    <tr>\n",
       "      <th>f1-score</th>\n",
       "      <td>0.927</td>\n",
       "      <td>0.927</td>\n",
       "      <td>0.927</td>\n",
       "      <td>0.927</td>\n",
       "      <td>0.927</td>\n",
       "    </tr>\n",
       "    <tr>\n",
       "      <th>precision</th>\n",
       "      <td>0.927</td>\n",
       "      <td>0.927</td>\n",
       "      <td>0.927</td>\n",
       "      <td>0.927</td>\n",
       "      <td>0.927</td>\n",
       "    </tr>\n",
       "    <tr>\n",
       "      <th>recall</th>\n",
       "      <td>0.927</td>\n",
       "      <td>0.927</td>\n",
       "      <td>0.927</td>\n",
       "      <td>0.927</td>\n",
       "      <td>0.927</td>\n",
       "    </tr>\n",
       "    <tr>\n",
       "      <th>support</th>\n",
       "      <td>179.000</td>\n",
       "      <td>178.000</td>\n",
       "      <td>357.000</td>\n",
       "      <td>357.000</td>\n",
       "      <td>357.000</td>\n",
       "    </tr>\n",
       "  </tbody>\n",
       "</table>\n",
       "</div>"
      ],
      "text/plain": [
       "                 0        1  micro avg  macro avg  weighted avg\n",
       "f1-score     0.927    0.927      0.927      0.927         0.927\n",
       "precision    0.927    0.927      0.927      0.927         0.927\n",
       "recall       0.927    0.927      0.927      0.927         0.927\n",
       "support    179.000  178.000    357.000    357.000       357.000"
      ]
     },
     "metadata": {},
     "output_type": "display_data"
    },
    {
     "name": "stderr",
     "output_type": "stream",
     "text": [
      "100%|██████████| 12/12 [00:00<00:00, 73.71it/s]\n",
      "100%|██████████| 12/12 [00:03<00:00,  3.60it/s]\n",
      "100%|██████████| 12/12 [00:16<00:00,  1.34s/it]\n",
      " 58%|█████▊    | 7/12 [00:01<00:01,  3.85it/s]"
     ]
    }
   ],
   "source": [
    "for dataset in ['sst', '20News_sports', 'tweet', 'AgNews'] :\n",
    "    %run train_and_run_experiments_bc.py --dataset {dataset} --data_dir . --output_dir outputs_dev/ --attention tanh --encoder all\n",
    "    %run train_and_run_experiments_bc.py --dataset {dataset} --data_dir . --output_dir outputs_dev/ --attention dot --encoder all"
   ]
  },
  {
   "cell_type": "code",
   "execution_count": null,
   "metadata": {},
   "outputs": [],
   "source": [
    "from Trainers.DatasetBC import *\n",
    "from ExperimentsBC import *"
   ]
  },
  {
   "cell_type": "code",
   "execution_count": null,
   "metadata": {},
   "outputs": [],
   "source": [
    "from Trainers.DatasetQA import *\n",
    "from ExperimentsQA import *"
   ]
  },
  {
   "cell_type": "code",
   "execution_count": null,
   "metadata": {},
   "outputs": [],
   "source": [
    "for k in datasets :\n",
    "    print(k)\n",
    "    if k == 'sst' :\n",
    "        dataset = datasets[k]()\n",
    "        generate_graphs_on_encoders(dataset)\n",
    "        print('+'*700)"
   ]
  },
  {
   "cell_type": "code",
   "execution_count": null,
   "metadata": {},
   "outputs": [],
   "source": [
    "dataset = datasets_ehr['mortality']()"
   ]
  },
  {
   "cell_type": "code",
   "execution_count": null,
   "metadata": {},
   "outputs": [],
   "source": [
    "from Trainers.PlottingBC import *"
   ]
  },
  {
   "cell_type": "code",
   "execution_count": null,
   "metadata": {},
   "outputs": [],
   "source": [
    "evaluator = run_evaluator_on_latest_model(dataset, config='lstm')\n",
    "logodds_results = pload(evaluator.model, 'logodds_attention')\n",
    "emax_jds, emax_adv_attn, emax_ad_y = plot_attn_diff(dataset, dataset.test_data, logodds_results, \n",
    "                                                    save_name='logodds_subs', dirname=evaluator.model.dirname)"
   ]
  },
  {
   "cell_type": "code",
   "execution_count": null,
   "metadata": {},
   "outputs": [],
   "source": [
    "n = 308\n",
    "a = print_adversarial_example(dataset.vec.map2words(dataset.test_data.X[n]), dataset.test_data.attn_hat[n], emax_adv_attn[n], latex=True)\n",
    "dataset.test_data.yt_hat[n], emax_ad_y[n]\n",
    "print(a[2])"
   ]
  },
  {
   "cell_type": "code",
   "execution_count": null,
   "metadata": {},
   "outputs": [],
   "source": [
    "ent = [np.max(x) for x in emax_adv_attn]\n",
    "plt.scatter(ent, emax_jds)"
   ]
  },
  {
   "cell_type": "code",
   "execution_count": null,
   "metadata": {},
   "outputs": [],
   "source": [
    "idx_1 = set(np.where(np.array(ent) > 0.6)[0]) & set(np.where(np.array(emax_jds) > 0.4)[0])\n",
    "idx_1"
   ]
  },
  {
   "cell_type": "code",
   "execution_count": null,
   "metadata": {},
   "outputs": [],
   "source": [
    "train_dataset(dataset, 'logodds_lstm_reg')"
   ]
  },
  {
   "cell_type": "code",
   "execution_count": null,
   "metadata": {},
   "outputs": [],
   "source": [
    "run_logodds_experiment(dataset, 'logodds_lstm_reg')"
   ]
  },
  {
   "cell_type": "code",
   "execution_count": null,
   "metadata": {},
   "outputs": [],
   "source": [
    "run_experiments_on_latest_model(dataset, 'logodds_lstm_reg')"
   ]
  },
  {
   "cell_type": "code",
   "execution_count": null,
   "metadata": {},
   "outputs": [],
   "source": [
    "generate_graphs_on_latest_model(dataset, 'logodds_lstm_reg')"
   ]
  },
  {
   "cell_type": "code",
   "execution_count": null,
   "metadata": {},
   "outputs": [],
   "source": [
    "run_logodds_substitution_experiment(dataset)"
   ]
  },
  {
   "cell_type": "code",
   "execution_count": null,
   "metadata": {},
   "outputs": [],
   "source": [
    "test_data = dataset.test_data\n",
    "plt.scatter(test_data.yt_hat[:, 0], test_data.opp_yt_hat[:, 0], s=5)\n",
    "plt.show()"
   ]
  },
  {
   "cell_type": "code",
   "execution_count": null,
   "metadata": {},
   "outputs": [],
   "source": [
    "diff = np.abs(test_data.yt_hat[:, 0] - test_data.opp_yt_hat[:, 0])\n",
    "np.argsort(diff)[:15]"
   ]
  },
  {
   "cell_type": "code",
   "execution_count": null,
   "metadata": {},
   "outputs": [],
   "source": [
    "plt.hist(diff, bins=30)"
   ]
  },
  {
   "cell_type": "code",
   "execution_count": null,
   "metadata": {},
   "outputs": [],
   "source": [
    "test_data = dataset.test_data\n",
    "for k, v in test_data.logodds_combined[0].items() :\n",
    "    print(dataset.vec.map2words(v))"
   ]
  },
  {
   "cell_type": "code",
   "execution_count": null,
   "metadata": {},
   "outputs": [],
   "source": [
    "n = 4231\n",
    "true_X = dataset.vec.map2words(test_data.X[n])\n",
    "new_X = dataset.vec.map2words(test_data.opp_X[n])\n",
    "print_attn(true_X, dataset.test_data.attn_hat[n])\n",
    "print(test_data.yt_hat[n])\n",
    "print_attn(new_X, dataset.test_data.opp_attn[n])\n",
    "print(test_data.opp_yt_hat[n])"
   ]
  },
  {
   "cell_type": "code",
   "execution_count": null,
   "metadata": {},
   "outputs": [],
   "source": [
    "for k in datasets_ehr :\n",
    "    dataset = datasets_ehr[k]()\n",
    "    generate_graphs_on_latest_model(dataset)"
   ]
  },
  {
   "cell_type": "code",
   "execution_count": null,
   "metadata": {},
   "outputs": [],
   "source": [
    "for k in datasets_ehr :\n",
    "    dataset = datasets_ehr[k]()"
   ]
  },
  {
   "cell_type": "code",
   "execution_count": null,
   "metadata": {},
   "outputs": [],
   "source": [
    "for k in datasets_ehr :\n",
    "    dataset = datasets_ehr[k]()\n",
    "    train_dataset(dataset, 'logodds_lstm')"
   ]
  },
  {
   "cell_type": "code",
   "execution_count": null,
   "metadata": {},
   "outputs": [],
   "source": [
    "for k in datasets_ehr :\n",
    "    dataset = datasets_ehr[k]()\n",
    "    run_evaluator_on_latest_model(dataset, 'logodds_lstm')"
   ]
  },
  {
   "cell_type": "code",
   "execution_count": null,
   "metadata": {},
   "outputs": [],
   "source": [
    "from model.LR import LR"
   ]
  },
  {
   "cell_type": "code",
   "execution_count": null,
   "metadata": {},
   "outputs": [],
   "source": [
    "for k in datasets_ehr :\n",
    "    if k != 'pheno' : continue\n",
    "    dataset = datasets_ehr[k]()\n",
    "    train_lr_on_dataset(dataset)"
   ]
  },
  {
   "cell_type": "code",
   "execution_count": null,
   "metadata": {},
   "outputs": [],
   "source": [
    "for k in datasets_ehr :\n",
    "    dataset = datasets_ehr[k]()\n",
    "    push_all_models(dataset, dataset.keys_to_use)"
   ]
  },
  {
   "cell_type": "code",
   "execution_count": null,
   "metadata": {},
   "outputs": [],
   "source": [
    "for k in datasets_ehr :\n",
    "    dataset = datasets_ehr[k]()\n",
    "    run_logodds_experiment(dataset)"
   ]
  },
  {
   "cell_type": "code",
   "execution_count": null,
   "metadata": {},
   "outputs": [],
   "source": [
    "list(enumerate(dataset.vec.label_headers))"
   ]
  },
  {
   "cell_type": "code",
   "execution_count": null,
   "metadata": {},
   "outputs": [],
   "source": [
    "get_top_words(dataset, config='lstm')"
   ]
  },
  {
   "cell_type": "code",
   "execution_count": null,
   "metadata": {},
   "outputs": [],
   "source": [
    "y = np.array(dataset.test_data.yt_hat)\n",
    "idx_y = np.where(y > 0.8)[0]"
   ]
  },
  {
   "cell_type": "code",
   "execution_count": null,
   "metadata": {},
   "outputs": [],
   "source": [
    "from collections import defaultdict\n",
    "top_words_dict = defaultdict(float)\n",
    "for i in idx_y :\n",
    "    d = dataset.test_data.top_words_attn[i]\n",
    "    for k, v in d.items() :\n",
    "        top_words_dict[k] += v"
   ]
  },
  {
   "cell_type": "code",
   "execution_count": null,
   "metadata": {},
   "outputs": [],
   "source": [
    "top_words = dict(sorted(top_words_dict.items(), key=lambda x: x[1])[-20:])"
   ]
  },
  {
   "cell_type": "code",
   "execution_count": null,
   "metadata": {},
   "outputs": [],
   "source": [
    "top_words"
   ]
  },
  {
   "cell_type": "code",
   "execution_count": null,
   "metadata": {},
   "outputs": [],
   "source": [
    "lr.print_all_features(n=40)"
   ]
  },
  {
   "cell_type": "code",
   "execution_count": null,
   "metadata": {},
   "outputs": [],
   "source": [
    "top_words_attn = set(top_words.keys())\n",
    "top_words_lr = set(lr.get_features(n=20))"
   ]
  },
  {
   "cell_type": "code",
   "execution_count": null,
   "metadata": {},
   "outputs": [],
   "source": [
    "top_words_attn & top_words_lr"
   ]
  },
  {
   "cell_type": "code",
   "execution_count": null,
   "metadata": {},
   "outputs": [],
   "source": [
    "len(top_words_attn & top_words_lr) / len(top_words_attn | top_words_lr)"
   ]
  },
  {
   "cell_type": "code",
   "execution_count": null,
   "metadata": {},
   "outputs": [],
   "source": [
    "dataset.keys_to_use"
   ]
  },
  {
   "cell_type": "markdown",
   "metadata": {},
   "source": [
    "Multi Adversarial Examples\n",
    "=========================="
   ]
  },
  {
   "cell_type": "code",
   "execution_count": null,
   "metadata": {},
   "outputs": [],
   "source": [
    "for k in datasets_ehr :\n",
    "    dataset = datasets_ehr[k]()\n",
    "#     generate_adversarial_examples(dataset, config='lstm')\n",
    "#     generate_logodds_examples(dataset, config='lstm')\n",
    "#     generate_graphs_on_latest_model(dataset, config='lstm')\n",
    "    push_all_models(dataset, keys=dataset.keys_to_use)"
   ]
  },
  {
   "cell_type": "code",
   "execution_count": null,
   "metadata": {},
   "outputs": [],
   "source": [
    "dataset.vec.label_headers"
   ]
  },
  {
   "cell_type": "code",
   "execution_count": null,
   "metadata": {},
   "outputs": [],
   "source": [
    "for k in datasets_ehr :\n",
    "    dataset = datasets_ehr[k]()\n",
    "    dataset.display_stats()"
   ]
  },
  {
   "cell_type": "code",
   "execution_count": null,
   "metadata": {},
   "outputs": [],
   "source": [
    "len(dataset.test_data.X)"
   ]
  },
  {
   "cell_type": "code",
   "execution_count": null,
   "metadata": {},
   "outputs": [],
   "source": [
    "evaluator = run_evaluator_on_latest_model(dataset)"
   ]
  },
  {
   "cell_type": "code",
   "execution_count": null,
   "metadata": {},
   "outputs": [],
   "source": [
    "multi_adversarial_outputs = pload(evaluator.model, 'multi_adversarial')"
   ]
  },
  {
   "cell_type": "code",
   "execution_count": null,
   "metadata": {},
   "outputs": [],
   "source": [
    "from Trainers.PlottingBC import *\n",
    "test_data = dataset.test_data\n",
    "emax_jds, emax_adv_attn, emax_ad_y = plot_multi_adversarial(test_data.X, test_data.yt_hat, \n",
    "                                                            test_data.attn_hat, multi_adversarial_outputs, dirname=\".\")"
   ]
  },
  {
   "cell_type": "code",
   "execution_count": null,
   "metadata": {},
   "outputs": [],
   "source": [
    "print_adversarial_examples(dataset, test_data.X, test_data.yt_hat, test_data.attn_hat, \n",
    "                           emax_jds, emax_adv_attn, emax_ad_y, by_class=None, dirname='.')"
   ]
  },
  {
   "cell_type": "code",
   "execution_count": null,
   "metadata": {},
   "outputs": [],
   "source": [
    "import numpy as np\n",
    "a = np.random.randn(100, 10) + 100"
   ]
  },
  {
   "cell_type": "code",
   "execution_count": null,
   "metadata": {},
   "outputs": [],
   "source": [
    "a.mean(0).min(), a.min(0).mean()"
   ]
  },
  {
   "cell_type": "code",
   "execution_count": null,
   "metadata": {},
   "outputs": [],
   "source": []
  }
 ],
 "metadata": {
  "kernelspec": {
   "display_name": "Python 3",
   "language": "python",
   "name": "python3"
  },
  "language_info": {
   "codemirror_mode": {
    "name": "ipython",
    "version": 3
   },
   "file_extension": ".py",
   "mimetype": "text/x-python",
   "name": "python",
   "nbconvert_exporter": "python",
   "pygments_lexer": "ipython3",
   "version": "3.7.3"
  }
 },
 "nbformat": 4,
 "nbformat_minor": 2
}
